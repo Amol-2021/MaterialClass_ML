{
 "cells": [
  {
   "cell_type": "code",
   "execution_count": 1,
   "metadata": {},
   "outputs": [],
   "source": [
    "import pandas as pd\n",
    "import numpy as np\n",
    "import matplotlib.pyplot as plt\n",
    "import seaborn as sns"
   ]
  },
  {
   "cell_type": "code",
   "execution_count": 2,
   "metadata": {},
   "outputs": [],
   "source": [
    "%matplotlib inline"
   ]
  },
  {
   "cell_type": "code",
   "execution_count": 3,
   "metadata": {
    "scrolled": true
   },
   "outputs": [
    {
     "name": "stdout",
     "output_type": "stream",
     "text": [
      "[[0, 1], [1, 2], [2, 3]]\n"
     ]
    }
   ],
   "source": [
    "rows = []\n",
    "for i in range(3):\n",
    "     rows.append([i, i + 1])\n",
    "print(rows)"
   ]
  },
  {
   "cell_type": "code",
   "execution_count": 4,
   "metadata": {},
   "outputs": [
    {
     "name": "stdout",
     "output_type": "stream",
     "text": [
      "   A  B\n",
      "0  0  1\n",
      "1  1  2\n",
      "2  2  3\n"
     ]
    }
   ],
   "source": [
    "df = pd.DataFrame(rows, columns=[\"A\", \"B\"])\n",
    "print(df)"
   ]
  },
  {
   "cell_type": "code",
   "execution_count": 5,
   "metadata": {},
   "outputs": [],
   "source": [
    "df1 = pd.read_csv('PLANT_4600.csv')"
   ]
  },
  {
   "cell_type": "code",
   "execution_count": 6,
   "metadata": {},
   "outputs": [
    {
     "data": {
      "text/plain": [
       "MATERIAL       object\n",
       "CALMONTH        int64\n",
       "OSMIT          object\n",
       "ORFLG          object\n",
       "TOTAL_STOCK    object\n",
       "W_DEMAND18     object\n",
       "W_DEMAND12     object\n",
       "W_OPENQTY      object\n",
       "dtype: object"
      ]
     },
     "execution_count": 6,
     "metadata": {},
     "output_type": "execute_result"
    }
   ],
   "source": [
    "df1.dtypes"
   ]
  },
  {
   "cell_type": "code",
   "execution_count": 7,
   "metadata": {},
   "outputs": [],
   "source": [
    "df1['MATERIAL']=df1['MATERIAL'].astype(\"string\")\n",
    "df1['CALMONTH']=df1['CALMONTH'].astype(\"string\")\n",
    "df1['OSMIT']=df1['OSMIT'].astype(\"string\")\n",
    "df1['ORFLG']=df1['ORFLG'].astype(\"string\")"
   ]
  },
  {
   "cell_type": "code",
   "execution_count": 8,
   "metadata": {},
   "outputs": [],
   "source": [
    "# matl_sel = ['000000000000000101','000000000000000102','000000000000000103']\n",
    "# df2 = df1[df1['MATERIAL'].isin(matl_sel)]\n",
    "df2 = df1"
   ]
  },
  {
   "cell_type": "code",
   "execution_count": 9,
   "metadata": {},
   "outputs": [],
   "source": [
    "df2['TOTAL_STOCK'] = df2['TOTAL_STOCK'].astype(\"string\")\n",
    "#df2['TOTAL_STOCK'] = df2['TOTAL_STOCK'].astype(\"float\")"
   ]
  },
  {
   "cell_type": "code",
   "execution_count": 10,
   "metadata": {},
   "outputs": [],
   "source": [
    "df2['TOTAL_STOCK'] = df2['TOTAL_STOCK'].str.replace(',','')\n",
    "df2['TOTAL_STOCK'] = df2['TOTAL_STOCK'].astype(\"float\")"
   ]
  },
  {
   "cell_type": "code",
   "execution_count": 11,
   "metadata": {},
   "outputs": [],
   "source": [
    "df2['W_DEMAND18'] = df2['W_DEMAND18'].astype(\"string\")\n",
    "df2['W_DEMAND18'] = df2['W_DEMAND18'].str.replace(',','')\n",
    "df2['W_DEMAND18'] = df2['W_DEMAND18'].astype(\"float\")\n",
    "\n",
    "df2['W_DEMAND12'] = df2['W_DEMAND12'].astype(\"string\")\n",
    "df2['W_DEMAND12'] = df2['W_DEMAND12'].str.replace(',','')\n",
    "df2['W_DEMAND12'] = df2['W_DEMAND12'].astype(\"float\")\n",
    "\n",
    "df2['W_OPENQTY'] = df2['W_OPENQTY'].astype(\"string\")\n",
    "df2['W_OPENQTY'] = df2['W_OPENQTY'].str.replace(',','')\n",
    "df2['W_OPENQTY'] = df2['W_OPENQTY'].astype(\"float\")"
   ]
  },
  {
   "cell_type": "code",
   "execution_count": 12,
   "metadata": {},
   "outputs": [
    {
     "data": {
      "text/plain": [
       "T48544G          13\n",
       "W866-44-195PP    13\n",
       "FOTONC003B       13\n",
       "7704520          13\n",
       "8213206          13\n",
       "                 ..\n",
       "Z627141           1\n",
       "1077441           1\n",
       "921235            1\n",
       "K67896US          1\n",
       "1076946           1\n",
       "Name: MATERIAL, Length: 6904, dtype: Int64"
      ]
     },
     "execution_count": 12,
     "metadata": {},
     "output_type": "execute_result"
    }
   ],
   "source": [
    "df2['MATERIAL'].value_counts()"
   ]
  },
  {
   "cell_type": "code",
   "execution_count": 13,
   "metadata": {},
   "outputs": [],
   "source": [
    "import numpy as np"
   ]
  },
  {
   "cell_type": "code",
   "execution_count": 14,
   "metadata": {},
   "outputs": [
    {
     "data": {
      "text/plain": [
       "<StringArray>\n",
       "['Y', 'N']\n",
       "Length: 2, dtype: string"
      ]
     },
     "execution_count": 14,
     "metadata": {},
     "output_type": "execute_result"
    }
   ],
   "source": [
    "df2['ORFLG'] = df2['ORFLG'].str.replace(' ','')\n",
    "df2['ORFLG'].value_counts()\n",
    "df2['ORFLG'].unique()"
   ]
  },
  {
   "cell_type": "code",
   "execution_count": 15,
   "metadata": {},
   "outputs": [
    {
     "name": "stdout",
     "output_type": "stream",
     "text": [
      "10 100\n",
      "11 110\n",
      "12 120\n"
     ]
    }
   ],
   "source": [
    "df = pd.DataFrame({'c1': [10, 11, 12], 'c2': [100, 110, 120]})\n",
    "\n",
    "for index, row in df.iterrows():\n",
    "    print(row['c1'], row['c2'])"
   ]
  },
  {
   "cell_type": "code",
   "execution_count": 16,
   "metadata": {},
   "outputs": [
    {
     "name": "stdout",
     "output_type": "stream",
     "text": [
      "Empty DataFrame\n",
      "Columns: [A, B]\n",
      "Index: []\n"
     ]
    }
   ],
   "source": [
    "df_rows = []\n",
    "df = pd.DataFrame(df_rows,columns=[\"A\", \"B\"])\n",
    "print(df)"
   ]
  },
  {
   "cell_type": "code",
   "execution_count": 17,
   "metadata": {},
   "outputs": [
    {
     "data": {
      "text/html": [
       "<div>\n",
       "<style scoped>\n",
       "    .dataframe tbody tr th:only-of-type {\n",
       "        vertical-align: middle;\n",
       "    }\n",
       "\n",
       "    .dataframe tbody tr th {\n",
       "        vertical-align: top;\n",
       "    }\n",
       "\n",
       "    .dataframe thead th {\n",
       "        text-align: right;\n",
       "    }\n",
       "</style>\n",
       "<table border=\"1\" class=\"dataframe\">\n",
       "  <thead>\n",
       "    <tr style=\"text-align: right;\">\n",
       "      <th></th>\n",
       "      <th>MATERIAL</th>\n",
       "      <th>CALMONTH</th>\n",
       "      <th>OSMIT</th>\n",
       "      <th>ORFLG</th>\n",
       "      <th>TOTAL_STOCK</th>\n",
       "      <th>W_DEMAND18</th>\n",
       "      <th>W_DEMAND12</th>\n",
       "      <th>W_OPENQTY</th>\n",
       "      <th>T_DEMAND12</th>\n",
       "    </tr>\n",
       "  </thead>\n",
       "  <tbody>\n",
       "    <tr>\n",
       "      <th>0</th>\n",
       "      <td>101</td>\n",
       "      <td>202004</td>\n",
       "      <td>ACTIVE</td>\n",
       "      <td>Y</td>\n",
       "      <td>642.0</td>\n",
       "      <td>4614.880</td>\n",
       "      <td>3076.590</td>\n",
       "      <td>335.580</td>\n",
       "      <td>3412.170</td>\n",
       "    </tr>\n",
       "    <tr>\n",
       "      <th>1</th>\n",
       "      <td>101</td>\n",
       "      <td>202005</td>\n",
       "      <td>ACTIVE</td>\n",
       "      <td>Y</td>\n",
       "      <td>6.0</td>\n",
       "      <td>203.770</td>\n",
       "      <td>135.847</td>\n",
       "      <td>17.808</td>\n",
       "      <td>153.655</td>\n",
       "    </tr>\n",
       "    <tr>\n",
       "      <th>2</th>\n",
       "      <td>101</td>\n",
       "      <td>202006</td>\n",
       "      <td>ACTIVE</td>\n",
       "      <td>Y</td>\n",
       "      <td>6.0</td>\n",
       "      <td>2131.190</td>\n",
       "      <td>1420.790</td>\n",
       "      <td>360.000</td>\n",
       "      <td>1780.790</td>\n",
       "    </tr>\n",
       "    <tr>\n",
       "      <th>3</th>\n",
       "      <td>101</td>\n",
       "      <td>202007</td>\n",
       "      <td>ACTIVE</td>\n",
       "      <td>Y</td>\n",
       "      <td>6.0</td>\n",
       "      <td>57.622</td>\n",
       "      <td>38.415</td>\n",
       "      <td>1.552</td>\n",
       "      <td>39.967</td>\n",
       "    </tr>\n",
       "    <tr>\n",
       "      <th>4</th>\n",
       "      <td>101</td>\n",
       "      <td>202008</td>\n",
       "      <td>ACTIVE</td>\n",
       "      <td>Y</td>\n",
       "      <td>486.0</td>\n",
       "      <td>4557.070</td>\n",
       "      <td>3038.050</td>\n",
       "      <td>434.964</td>\n",
       "      <td>3473.014</td>\n",
       "    </tr>\n",
       "  </tbody>\n",
       "</table>\n",
       "</div>"
      ],
      "text/plain": [
       "  MATERIAL CALMONTH   OSMIT ORFLG  TOTAL_STOCK  W_DEMAND18  W_DEMAND12  \\\n",
       "0      101   202004  ACTIVE     Y        642.0    4614.880    3076.590   \n",
       "1      101   202005  ACTIVE     Y          6.0     203.770     135.847   \n",
       "2      101   202006  ACTIVE     Y          6.0    2131.190    1420.790   \n",
       "3      101   202007  ACTIVE     Y          6.0      57.622      38.415   \n",
       "4      101   202008  ACTIVE     Y        486.0    4557.070    3038.050   \n",
       "\n",
       "   W_OPENQTY  T_DEMAND12  \n",
       "0    335.580    3412.170  \n",
       "1     17.808     153.655  \n",
       "2    360.000    1780.790  \n",
       "3      1.552      39.967  \n",
       "4    434.964    3473.014  "
      ]
     },
     "execution_count": 17,
     "metadata": {},
     "output_type": "execute_result"
    }
   ],
   "source": [
    "df2['T_DEMAND12'] = df2['W_DEMAND12'] + df2['W_OPENQTY']\n",
    "df2.head()"
   ]
  },
  {
   "cell_type": "code",
   "execution_count": 18,
   "metadata": {},
   "outputs": [
    {
     "data": {
      "text/html": [
       "<div>\n",
       "<style scoped>\n",
       "    .dataframe tbody tr th:only-of-type {\n",
       "        vertical-align: middle;\n",
       "    }\n",
       "\n",
       "    .dataframe tbody tr th {\n",
       "        vertical-align: top;\n",
       "    }\n",
       "\n",
       "    .dataframe thead th {\n",
       "        text-align: right;\n",
       "    }\n",
       "</style>\n",
       "<table border=\"1\" class=\"dataframe\">\n",
       "  <thead>\n",
       "    <tr style=\"text-align: right;\">\n",
       "      <th></th>\n",
       "      <th>material</th>\n",
       "      <th>osmit</th>\n",
       "      <th>orflg</th>\n",
       "      <th>ts_1</th>\n",
       "      <th>ts_2</th>\n",
       "      <th>ts_3</th>\n",
       "      <th>ts_4</th>\n",
       "      <th>ts_5</th>\n",
       "      <th>ts_6</th>\n",
       "      <th>ts_7</th>\n",
       "      <th>...</th>\n",
       "      <th>open_4</th>\n",
       "      <th>open_5</th>\n",
       "      <th>open_6</th>\n",
       "      <th>open_7</th>\n",
       "      <th>open_8</th>\n",
       "      <th>open_9</th>\n",
       "      <th>open_10</th>\n",
       "      <th>open_11</th>\n",
       "      <th>open_12</th>\n",
       "      <th>open_13</th>\n",
       "    </tr>\n",
       "  </thead>\n",
       "  <tbody>\n",
       "    <tr>\n",
       "      <th>0</th>\n",
       "      <td>101</td>\n",
       "      <td>1</td>\n",
       "      <td>1</td>\n",
       "      <td>642.0</td>\n",
       "      <td>6.0</td>\n",
       "      <td>6.0</td>\n",
       "      <td>6.0</td>\n",
       "      <td>486.0</td>\n",
       "      <td>6.0</td>\n",
       "      <td>289.0</td>\n",
       "      <td>...</td>\n",
       "      <td>1.552</td>\n",
       "      <td>434.964</td>\n",
       "      <td>14.727</td>\n",
       "      <td>1188.560</td>\n",
       "      <td>1804.850</td>\n",
       "      <td>1674.380</td>\n",
       "      <td>2461.520</td>\n",
       "      <td>412.941</td>\n",
       "      <td>1708.990</td>\n",
       "      <td>2.954</td>\n",
       "    </tr>\n",
       "    <tr>\n",
       "      <th>1</th>\n",
       "      <td>103</td>\n",
       "      <td>1</td>\n",
       "      <td>1</td>\n",
       "      <td>4292.0</td>\n",
       "      <td>5986.0</td>\n",
       "      <td>6643.0</td>\n",
       "      <td>5035.0</td>\n",
       "      <td>3763.0</td>\n",
       "      <td>3091.0</td>\n",
       "      <td>3307.0</td>\n",
       "      <td>...</td>\n",
       "      <td>211.656</td>\n",
       "      <td>353.996</td>\n",
       "      <td>142.246</td>\n",
       "      <td>196.469</td>\n",
       "      <td>294.132</td>\n",
       "      <td>33.903</td>\n",
       "      <td>973.755</td>\n",
       "      <td>337.660</td>\n",
       "      <td>296.544</td>\n",
       "      <td>241.897</td>\n",
       "    </tr>\n",
       "    <tr>\n",
       "      <th>2</th>\n",
       "      <td>108</td>\n",
       "      <td>1</td>\n",
       "      <td>1</td>\n",
       "      <td>271.0</td>\n",
       "      <td>45.0</td>\n",
       "      <td>1774.0</td>\n",
       "      <td>12334.0</td>\n",
       "      <td>9734.0</td>\n",
       "      <td>4434.0</td>\n",
       "      <td>4924.0</td>\n",
       "      <td>...</td>\n",
       "      <td>2057.600</td>\n",
       "      <td>409.256</td>\n",
       "      <td>8590.070</td>\n",
       "      <td>3773.450</td>\n",
       "      <td>5304.960</td>\n",
       "      <td>2320.360</td>\n",
       "      <td>5238.810</td>\n",
       "      <td>7147.590</td>\n",
       "      <td>1229.310</td>\n",
       "      <td>6766.350</td>\n",
       "    </tr>\n",
       "    <tr>\n",
       "      <th>3</th>\n",
       "      <td>303</td>\n",
       "      <td>1</td>\n",
       "      <td>1</td>\n",
       "      <td>542.0</td>\n",
       "      <td>298.0</td>\n",
       "      <td>482.0</td>\n",
       "      <td>320.0</td>\n",
       "      <td>340.0</td>\n",
       "      <td>5.0</td>\n",
       "      <td>116.0</td>\n",
       "      <td>...</td>\n",
       "      <td>520.930</td>\n",
       "      <td>121.196</td>\n",
       "      <td>7.755</td>\n",
       "      <td>63.000</td>\n",
       "      <td>32.787</td>\n",
       "      <td>65.123</td>\n",
       "      <td>350.643</td>\n",
       "      <td>15.906</td>\n",
       "      <td>1675.000</td>\n",
       "      <td>2073.000</td>\n",
       "    </tr>\n",
       "    <tr>\n",
       "      <th>4</th>\n",
       "      <td>304</td>\n",
       "      <td>1</td>\n",
       "      <td>1</td>\n",
       "      <td>448.0</td>\n",
       "      <td>399.0</td>\n",
       "      <td>365.0</td>\n",
       "      <td>204.0</td>\n",
       "      <td>6.0</td>\n",
       "      <td>326.0</td>\n",
       "      <td>79.0</td>\n",
       "      <td>...</td>\n",
       "      <td>69.581</td>\n",
       "      <td>4.131</td>\n",
       "      <td>49.664</td>\n",
       "      <td>54.216</td>\n",
       "      <td>5.567</td>\n",
       "      <td>2.700</td>\n",
       "      <td>8.083</td>\n",
       "      <td>412.143</td>\n",
       "      <td>849.000</td>\n",
       "      <td>957.000</td>\n",
       "    </tr>\n",
       "  </tbody>\n",
       "</table>\n",
       "<p>5 rows × 42 columns</p>\n",
       "</div>"
      ],
      "text/plain": [
       "  material  osmit  orflg    ts_1    ts_2    ts_3     ts_4    ts_5    ts_6  \\\n",
       "0      101      1      1   642.0     6.0     6.0      6.0   486.0     6.0   \n",
       "1      103      1      1  4292.0  5986.0  6643.0   5035.0  3763.0  3091.0   \n",
       "2      108      1      1   271.0    45.0  1774.0  12334.0  9734.0  4434.0   \n",
       "3      303      1      1   542.0   298.0   482.0    320.0   340.0     5.0   \n",
       "4      304      1      1   448.0   399.0   365.0    204.0     6.0   326.0   \n",
       "\n",
       "     ts_7  ...    open_4   open_5    open_6    open_7    open_8    open_9  \\\n",
       "0   289.0  ...     1.552  434.964    14.727  1188.560  1804.850  1674.380   \n",
       "1  3307.0  ...   211.656  353.996   142.246   196.469   294.132    33.903   \n",
       "2  4924.0  ...  2057.600  409.256  8590.070  3773.450  5304.960  2320.360   \n",
       "3   116.0  ...   520.930  121.196     7.755    63.000    32.787    65.123   \n",
       "4    79.0  ...    69.581    4.131    49.664    54.216     5.567     2.700   \n",
       "\n",
       "    open_10   open_11   open_12   open_13  \n",
       "0  2461.520   412.941  1708.990     2.954  \n",
       "1   973.755   337.660   296.544   241.897  \n",
       "2  5238.810  7147.590  1229.310  6766.350  \n",
       "3   350.643    15.906  1675.000  2073.000  \n",
       "4     8.083   412.143   849.000   957.000  \n",
       "\n",
       "[5 rows x 42 columns]"
      ]
     },
     "execution_count": 18,
     "metadata": {},
     "output_type": "execute_result"
    }
   ],
   "source": [
    "new_row = []\n",
    "#for i in range(1,14):\n",
    "#    l_ts_i = float()\n",
    "#    l_dem12_i = None\n",
    "#    print(i)\n",
    "\n",
    "\n",
    "for i in range(1,15):\n",
    "    locals()[\"l_ts_\" + str(i)] = None\n",
    "    locals()[\"l_dem12_\" + str(i)] = None\n",
    "    locals()[\"l_open_\" + str(i)] = None\n",
    "\n",
    "l_loop_counter = 1\n",
    "l_matl_prev = ''\n",
    "for index, row in df2.iterrows():\n",
    "# Get Count of Rows per Material\n",
    "    if row['MATERIAL'] != l_matl_prev:\n",
    "        l_matl_prev = row['MATERIAL']\n",
    "        l_df_count = df2[df2['MATERIAL']==row['MATERIAL']].count()\n",
    "        l_matl_rows = int(l_df_count['MATERIAL'])\n",
    "    \n",
    "    if l_loop_counter == l_matl_rows:\n",
    "        l_loop_counter = 1\n",
    "# Ignore the materials which dont have at least 10 history records\n",
    "        if l_matl_rows >= 13:\n",
    "# Populate KF for last month (its not getting captured in else part)        \n",
    "            if l_matl_rows == 10:\n",
    "                l_ts_10 = row['TOTAL_STOCK']\n",
    "                l_dem12_10 = row['W_DEMAND12']\n",
    "                l_open_10 = row['W_OPENQTY']\n",
    "            elif l_matl_rows == 11:\n",
    "                l_ts_11 = row['TOTAL_STOCK']\n",
    "                l_dem12_11 = row['W_DEMAND12']\n",
    "                l_open_11 = row['W_OPENQTY']\n",
    "            elif l_matl_rows == 12:\n",
    "                l_ts_12 = row['TOTAL_STOCK']\n",
    "                l_dem12_12 = row['W_DEMAND12']\n",
    "                l_open_12 = row['W_OPENQTY']\n",
    "            elif l_matl_rows == 13:\n",
    "                l_ts_13 = row['TOTAL_STOCK']\n",
    "                l_dem12_13 = row['W_DEMAND12']\n",
    "                l_open_13 = row['W_OPENQTY']\n",
    "            elif l_matl_rows == 14:\n",
    "                l_ts_14 = row['TOTAL_STOCK']\n",
    "                l_dem12_14 = row['W_DEMAND12']\n",
    "                l_open_14 = row['W_OPENQTY']\n",
    "# Max records in downloaded set per material are 13                \n",
    "            new_row.append([l_matl_prev,l_osmit,l_orflg, l_ts_1, l_ts_2, l_ts_3,l_ts_4, l_ts_5, l_ts_6,l_ts_7, l_ts_8, l_ts_9,\n",
    "                           l_ts_10, l_ts_11, l_ts_12,l_ts_13, l_dem12_1, l_dem12_2, l_dem12_3,l_dem12_4, l_dem12_5, l_dem12_6,\n",
    "                           l_dem12_7, l_dem12_8, l_dem12_9,l_dem12_10, l_dem12_11, l_dem12_12,l_dem12_13,l_open_1, l_open_2, \n",
    "                           l_open_3,l_open_4, l_open_5, l_open_6,l_open_7, l_open_8, l_open_9,l_open_10, l_open_11, l_open_12,\n",
    "                           l_open_13])\n",
    "            df_ml = pd.DataFrame(new_row,columns=[\"material\", \"osmit\",\"orflg\",\"ts_1\",\"ts_2\",\"ts_3\",\"ts_4\",\"ts_5\",\"ts_6\",\n",
    "                                                  \"ts_7\",\"ts_8\",\"ts_9\",\"ts_10\",\"ts_11\",\"ts_12\",\"ts_13\", \"dm12_1\",\"dm12_2\",\"dm12_3\",\"dm12_4\",\n",
    "                                                  \"dm12_5\",\"dm12_6\",\"dm12_7\",\"dm12_8\",\"dm12_9\",\"dm12_10\",\"dm12_11\",\"dm12_12\",\"dm12_13\", \n",
    "                                                 \"open_1\",\"open_2\",\"open_3\",\"open_4\",\"open_5\",\"open_6\",\n",
    "                                                  \"open_7\",\"open_8\",\"open_9\",\"open_10\",\"open_11\",\"open_12\", \"open_13\"])\n",
    "            #l_ts_10 = None\n",
    "            l_ts_10 = 0.0\n",
    "            l_ts_11 = 0.0\n",
    "            l_ts_12 = 0.0\n",
    "            l_ts_13 = 0.0\n",
    "            l_ts_14 = 0.0\n",
    "            l_dem12_10 = 0.0\n",
    "            l_dem12_11 = 0.0\n",
    "            l_dem12_12 = 0.0\n",
    "            l_dem12_13 = 0.0\n",
    "            l_dem12_14 = 0.0\n",
    "            l_open_10 = 0.0\n",
    "            l_open_11 = 0.0\n",
    "            l_open_12 = 0.0\n",
    "            l_open_13 = 0.0\n",
    "            l_open_14 = 0.0\n",
    "        \n",
    "\n",
    "    else:\n",
    "        \n",
    "        #l_osmit = row['OSMIT']\n",
    "        if row['OSMIT'] == 'OBSOLETE':\n",
    "            l_osmit = 0\n",
    "        else:\n",
    "            l_osmit = 1\n",
    "        #l_orflg = row['ORFLG']\n",
    "        l_orflg = 0\n",
    "       # print (row['ORFLG'])\n",
    "        if row['ORFLG'] == 'Y':\n",
    "            l_orflg = 1\n",
    "        else:\n",
    "            l_orflg = 0\n",
    "        if l_loop_counter == 1:\n",
    "            l_ts_1 = row['TOTAL_STOCK']\n",
    "            l_dem12_1 = row['W_DEMAND12']\n",
    "            l_open_1 = row['W_OPENQTY']\n",
    "        elif l_loop_counter == 2:\n",
    "            l_ts_2 = row['TOTAL_STOCK']\n",
    "            l_dem12_2 = row['W_DEMAND12']\n",
    "            l_open_2 = row['W_OPENQTY']\n",
    "        elif l_loop_counter == 3:\n",
    "            l_ts_3 = row['TOTAL_STOCK']\n",
    "            l_dem12_3 = row['W_DEMAND12']\n",
    "            l_open_3 = row['W_OPENQTY']\n",
    "        elif l_loop_counter == 4:\n",
    "            l_ts_4 = row['TOTAL_STOCK']\n",
    "            l_dem12_4 = row['W_DEMAND12']\n",
    "            l_open_4 = row['W_OPENQTY']\n",
    "        elif l_loop_counter == 5:\n",
    "            l_ts_5 = row['TOTAL_STOCK']\n",
    "            l_dem12_5 = row['W_DEMAND12']\n",
    "            l_open_5 = row['W_OPENQTY']\n",
    "        elif l_loop_counter == 6:\n",
    "            l_ts_6 = row['TOTAL_STOCK']\n",
    "            l_dem12_6 = row['W_DEMAND12']\n",
    "            l_open_6 = row['W_OPENQTY']\n",
    "        elif l_loop_counter == 7:\n",
    "            l_ts_7 = row['TOTAL_STOCK']\n",
    "            l_dem12_7 = row['W_DEMAND12']\n",
    "            l_open_7 = row['W_OPENQTY']\n",
    "        elif l_loop_counter == 8:\n",
    "            l_ts_8 = row['TOTAL_STOCK']\n",
    "            l_dem12_8 = row['W_DEMAND12']\n",
    "            l_open_8 = row['W_OPENQTY']\n",
    "        elif l_loop_counter == 9:\n",
    "            l_ts_9 = row['TOTAL_STOCK']\n",
    "            l_dem12_9 = row['W_DEMAND12']\n",
    "            l_open_9 = row['W_OPENQTY']\n",
    "        elif l_loop_counter == 10:\n",
    "            l_ts_10 = row['TOTAL_STOCK']\n",
    "            l_dem12_10 = row['W_DEMAND12']\n",
    "            l_open_10 = row['W_OPENQTY']\n",
    "        elif l_loop_counter == 11:\n",
    "            l_ts_11 = row['TOTAL_STOCK']\n",
    "            l_dem12_11 = row['W_DEMAND12']\n",
    "            l_open_11 = row['W_OPENQTY']\n",
    "        elif l_loop_counter == 12:\n",
    "            l_ts_12 = row['TOTAL_STOCK']\n",
    "            l_dem12_12 = row['W_DEMAND12']\n",
    "            l_open_12 = row['W_OPENQTY']\n",
    "        elif l_loop_counter == 13:\n",
    "            l_ts_13 = row['TOTAL_STOCK']\n",
    "            l_dem12_13 = row['W_DEMAND12']\n",
    "            l_open_13 = row['W_OPENQTY']\n",
    "        elif l_loop_counter == 14:\n",
    "            l_ts_14 = row['TOTAL_STOCK']\n",
    "            l_dem12_14 = row['W_DEMAND12']\n",
    "            l_open_14 = row['W_OPENQTY']\n",
    "\n",
    "            \n",
    "        l_loop_counter = l_loop_counter + 1\n",
    "        \n",
    "df_ml.head()"
   ]
  },
  {
   "cell_type": "code",
   "execution_count": 19,
   "metadata": {},
   "outputs": [],
   "source": [
    "#df_ml.isnull().sum()"
   ]
  },
  {
   "cell_type": "code",
   "execution_count": 20,
   "metadata": {},
   "outputs": [
    {
     "name": "stdout",
     "output_type": "stream",
     "text": [
      "Variable is Null\n"
     ]
    }
   ],
   "source": [
    "l_ts_x = float()\n",
    "l_ts_x = None\n",
    "if l_ts_x == None:\n",
    "    print('Variable is Null')"
   ]
  },
  {
   "cell_type": "code",
   "execution_count": 21,
   "metadata": {},
   "outputs": [
    {
     "name": "stdout",
     "output_type": "stream",
     "text": [
      "0.0\n"
     ]
    }
   ],
   "source": [
    "for i in range(1,14):\n",
    "    locals()[\"l_ts_\" + str(i)] = float()\n",
    "print(l_ts_2)"
   ]
  },
  {
   "cell_type": "code",
   "execution_count": 22,
   "metadata": {},
   "outputs": [
    {
     "data": {
      "text/plain": [
       "2"
      ]
     },
     "execution_count": 22,
     "metadata": {},
     "output_type": "execute_result"
    }
   ],
   "source": [
    "df_ml['osmit'].nunique()"
   ]
  },
  {
   "cell_type": "code",
   "execution_count": 23,
   "metadata": {},
   "outputs": [
    {
     "data": {
      "text/plain": [
       "Index(['material', 'osmit', 'orflg', 'ts_1', 'ts_2', 'ts_3', 'ts_4', 'ts_5',\n",
       "       'ts_6', 'ts_7', 'ts_8', 'ts_9', 'ts_10', 'ts_11', 'ts_12', 'ts_13',\n",
       "       'dm12_1', 'dm12_2', 'dm12_3', 'dm12_4', 'dm12_5', 'dm12_6', 'dm12_7',\n",
       "       'dm12_8', 'dm12_9', 'dm12_10', 'dm12_11', 'dm12_12', 'dm12_13',\n",
       "       'open_1', 'open_2', 'open_3', 'open_4', 'open_5', 'open_6', 'open_7',\n",
       "       'open_8', 'open_9', 'open_10', 'open_11', 'open_12', 'open_13'],\n",
       "      dtype='object')"
      ]
     },
     "execution_count": 23,
     "metadata": {},
     "output_type": "execute_result"
    }
   ],
   "source": [
    "df_ml.columns"
   ]
  },
  {
   "cell_type": "code",
   "execution_count": 24,
   "metadata": {},
   "outputs": [],
   "source": [
    "from sklearn.preprocessing import StandardScaler"
   ]
  },
  {
   "cell_type": "code",
   "execution_count": 25,
   "metadata": {},
   "outputs": [],
   "source": [
    "scaler = StandardScaler()"
   ]
  },
  {
   "cell_type": "code",
   "execution_count": 26,
   "metadata": {},
   "outputs": [
    {
     "data": {
      "text/html": [
       "<div>\n",
       "<style scoped>\n",
       "    .dataframe tbody tr th:only-of-type {\n",
       "        vertical-align: middle;\n",
       "    }\n",
       "\n",
       "    .dataframe tbody tr th {\n",
       "        vertical-align: top;\n",
       "    }\n",
       "\n",
       "    .dataframe thead th {\n",
       "        text-align: right;\n",
       "    }\n",
       "</style>\n",
       "<table border=\"1\" class=\"dataframe\">\n",
       "  <thead>\n",
       "    <tr style=\"text-align: right;\">\n",
       "      <th></th>\n",
       "      <th>material</th>\n",
       "      <th>osmit</th>\n",
       "      <th>orflg</th>\n",
       "      <th>ts_1</th>\n",
       "      <th>ts_2</th>\n",
       "      <th>ts_3</th>\n",
       "      <th>ts_4</th>\n",
       "      <th>ts_5</th>\n",
       "      <th>ts_6</th>\n",
       "      <th>ts_7</th>\n",
       "      <th>...</th>\n",
       "      <th>open_4</th>\n",
       "      <th>open_5</th>\n",
       "      <th>open_6</th>\n",
       "      <th>open_7</th>\n",
       "      <th>open_8</th>\n",
       "      <th>open_9</th>\n",
       "      <th>open_10</th>\n",
       "      <th>open_11</th>\n",
       "      <th>open_12</th>\n",
       "      <th>open_13</th>\n",
       "    </tr>\n",
       "  </thead>\n",
       "  <tbody>\n",
       "    <tr>\n",
       "      <th>0</th>\n",
       "      <td>101</td>\n",
       "      <td>1</td>\n",
       "      <td>1</td>\n",
       "      <td>642.0</td>\n",
       "      <td>6.0</td>\n",
       "      <td>6.0</td>\n",
       "      <td>6.0</td>\n",
       "      <td>486.0</td>\n",
       "      <td>6.0</td>\n",
       "      <td>289.0</td>\n",
       "      <td>...</td>\n",
       "      <td>1.552</td>\n",
       "      <td>434.964</td>\n",
       "      <td>14.727</td>\n",
       "      <td>1188.56</td>\n",
       "      <td>1804.85</td>\n",
       "      <td>1674.38</td>\n",
       "      <td>2461.52</td>\n",
       "      <td>412.941</td>\n",
       "      <td>1708.99</td>\n",
       "      <td>2.954</td>\n",
       "    </tr>\n",
       "  </tbody>\n",
       "</table>\n",
       "<p>1 rows × 42 columns</p>\n",
       "</div>"
      ],
      "text/plain": [
       "  material  osmit  orflg   ts_1  ts_2  ts_3  ts_4   ts_5  ts_6   ts_7  ...  \\\n",
       "0      101      1      1  642.0   6.0   6.0   6.0  486.0   6.0  289.0  ...   \n",
       "\n",
       "   open_4   open_5  open_6   open_7   open_8   open_9  open_10  open_11  \\\n",
       "0   1.552  434.964  14.727  1188.56  1804.85  1674.38  2461.52  412.941   \n",
       "\n",
       "   open_12  open_13  \n",
       "0  1708.99    2.954  \n",
       "\n",
       "[1 rows x 42 columns]"
      ]
     },
     "execution_count": 26,
     "metadata": {},
     "output_type": "execute_result"
    }
   ],
   "source": [
    "df_ml_scaler = df_ml.drop(['material'],axis=1)\n",
    "#df_ml_scaler.drop(['material'],axis=1,inplace = True)\n",
    "# NOTE: Above command is removing material column from df_ml as well??\n",
    "df_ml.head(1)"
   ]
  },
  {
   "cell_type": "code",
   "execution_count": 27,
   "metadata": {},
   "outputs": [
    {
     "data": {
      "text/html": [
       "<div>\n",
       "<style scoped>\n",
       "    .dataframe tbody tr th:only-of-type {\n",
       "        vertical-align: middle;\n",
       "    }\n",
       "\n",
       "    .dataframe tbody tr th {\n",
       "        vertical-align: top;\n",
       "    }\n",
       "\n",
       "    .dataframe thead th {\n",
       "        text-align: right;\n",
       "    }\n",
       "</style>\n",
       "<table border=\"1\" class=\"dataframe\">\n",
       "  <thead>\n",
       "    <tr style=\"text-align: right;\">\n",
       "      <th></th>\n",
       "      <th>osmit</th>\n",
       "      <th>orflg</th>\n",
       "      <th>ts_1</th>\n",
       "      <th>ts_2</th>\n",
       "      <th>ts_3</th>\n",
       "      <th>ts_4</th>\n",
       "      <th>ts_5</th>\n",
       "      <th>ts_6</th>\n",
       "      <th>ts_7</th>\n",
       "      <th>ts_8</th>\n",
       "      <th>...</th>\n",
       "      <th>open_4</th>\n",
       "      <th>open_5</th>\n",
       "      <th>open_6</th>\n",
       "      <th>open_7</th>\n",
       "      <th>open_8</th>\n",
       "      <th>open_9</th>\n",
       "      <th>open_10</th>\n",
       "      <th>open_11</th>\n",
       "      <th>open_12</th>\n",
       "      <th>open_13</th>\n",
       "    </tr>\n",
       "  </thead>\n",
       "  <tbody>\n",
       "    <tr>\n",
       "      <th>0</th>\n",
       "      <td>1</td>\n",
       "      <td>1</td>\n",
       "      <td>642.0</td>\n",
       "      <td>6.0</td>\n",
       "      <td>6.0</td>\n",
       "      <td>6.0</td>\n",
       "      <td>486.0</td>\n",
       "      <td>6.0</td>\n",
       "      <td>289.0</td>\n",
       "      <td>505.0</td>\n",
       "      <td>...</td>\n",
       "      <td>1.552</td>\n",
       "      <td>434.964</td>\n",
       "      <td>14.727</td>\n",
       "      <td>1188.56</td>\n",
       "      <td>1804.85</td>\n",
       "      <td>1674.38</td>\n",
       "      <td>2461.52</td>\n",
       "      <td>412.941</td>\n",
       "      <td>1708.99</td>\n",
       "      <td>2.954</td>\n",
       "    </tr>\n",
       "  </tbody>\n",
       "</table>\n",
       "<p>1 rows × 41 columns</p>\n",
       "</div>"
      ],
      "text/plain": [
       "   osmit  orflg   ts_1  ts_2  ts_3  ts_4   ts_5  ts_6   ts_7   ts_8  ...  \\\n",
       "0      1      1  642.0   6.0   6.0   6.0  486.0   6.0  289.0  505.0  ...   \n",
       "\n",
       "   open_4   open_5  open_6   open_7   open_8   open_9  open_10  open_11  \\\n",
       "0   1.552  434.964  14.727  1188.56  1804.85  1674.38  2461.52  412.941   \n",
       "\n",
       "   open_12  open_13  \n",
       "0  1708.99    2.954  \n",
       "\n",
       "[1 rows x 41 columns]"
      ]
     },
     "execution_count": 27,
     "metadata": {},
     "output_type": "execute_result"
    }
   ],
   "source": [
    "df_ml_scaler.head(1)"
   ]
  },
  {
   "cell_type": "code",
   "execution_count": 28,
   "metadata": {},
   "outputs": [
    {
     "data": {
      "text/html": [
       "<div>\n",
       "<style scoped>\n",
       "    .dataframe tbody tr th:only-of-type {\n",
       "        vertical-align: middle;\n",
       "    }\n",
       "\n",
       "    .dataframe tbody tr th {\n",
       "        vertical-align: top;\n",
       "    }\n",
       "\n",
       "    .dataframe thead th {\n",
       "        text-align: right;\n",
       "    }\n",
       "</style>\n",
       "<table border=\"1\" class=\"dataframe\">\n",
       "  <thead>\n",
       "    <tr style=\"text-align: right;\">\n",
       "      <th></th>\n",
       "      <th>material</th>\n",
       "      <th>osmit</th>\n",
       "      <th>orflg</th>\n",
       "      <th>ts_1</th>\n",
       "      <th>ts_2</th>\n",
       "      <th>ts_3</th>\n",
       "      <th>ts_4</th>\n",
       "      <th>ts_5</th>\n",
       "      <th>ts_6</th>\n",
       "      <th>ts_7</th>\n",
       "      <th>...</th>\n",
       "      <th>open_4</th>\n",
       "      <th>open_5</th>\n",
       "      <th>open_6</th>\n",
       "      <th>open_7</th>\n",
       "      <th>open_8</th>\n",
       "      <th>open_9</th>\n",
       "      <th>open_10</th>\n",
       "      <th>open_11</th>\n",
       "      <th>open_12</th>\n",
       "      <th>open_13</th>\n",
       "    </tr>\n",
       "  </thead>\n",
       "  <tbody>\n",
       "    <tr>\n",
       "      <th>0</th>\n",
       "      <td>101</td>\n",
       "      <td>1</td>\n",
       "      <td>1</td>\n",
       "      <td>642.0</td>\n",
       "      <td>6.0</td>\n",
       "      <td>6.0</td>\n",
       "      <td>6.0</td>\n",
       "      <td>486.0</td>\n",
       "      <td>6.0</td>\n",
       "      <td>289.0</td>\n",
       "      <td>...</td>\n",
       "      <td>1.552</td>\n",
       "      <td>434.964</td>\n",
       "      <td>14.727</td>\n",
       "      <td>1188.56</td>\n",
       "      <td>1804.85</td>\n",
       "      <td>1674.38</td>\n",
       "      <td>2461.52</td>\n",
       "      <td>412.941</td>\n",
       "      <td>1708.99</td>\n",
       "      <td>2.954</td>\n",
       "    </tr>\n",
       "  </tbody>\n",
       "</table>\n",
       "<p>1 rows × 42 columns</p>\n",
       "</div>"
      ],
      "text/plain": [
       "  material  osmit  orflg   ts_1  ts_2  ts_3  ts_4   ts_5  ts_6   ts_7  ...  \\\n",
       "0      101      1      1  642.0   6.0   6.0   6.0  486.0   6.0  289.0  ...   \n",
       "\n",
       "   open_4   open_5  open_6   open_7   open_8   open_9  open_10  open_11  \\\n",
       "0   1.552  434.964  14.727  1188.56  1804.85  1674.38  2461.52  412.941   \n",
       "\n",
       "   open_12  open_13  \n",
       "0  1708.99    2.954  \n",
       "\n",
       "[1 rows x 42 columns]"
      ]
     },
     "execution_count": 28,
     "metadata": {},
     "output_type": "execute_result"
    }
   ],
   "source": [
    "df_ml_scaler = df_ml_scaler.drop(['osmit'],axis=1)\n",
    "df_ml.head(1)"
   ]
  },
  {
   "cell_type": "code",
   "execution_count": 29,
   "metadata": {},
   "outputs": [
    {
     "data": {
      "text/html": [
       "<div>\n",
       "<style scoped>\n",
       "    .dataframe tbody tr th:only-of-type {\n",
       "        vertical-align: middle;\n",
       "    }\n",
       "\n",
       "    .dataframe tbody tr th {\n",
       "        vertical-align: top;\n",
       "    }\n",
       "\n",
       "    .dataframe thead th {\n",
       "        text-align: right;\n",
       "    }\n",
       "</style>\n",
       "<table border=\"1\" class=\"dataframe\">\n",
       "  <thead>\n",
       "    <tr style=\"text-align: right;\">\n",
       "      <th></th>\n",
       "      <th>orflg</th>\n",
       "      <th>ts_1</th>\n",
       "      <th>ts_2</th>\n",
       "      <th>ts_3</th>\n",
       "      <th>ts_4</th>\n",
       "      <th>ts_5</th>\n",
       "      <th>ts_6</th>\n",
       "      <th>ts_7</th>\n",
       "      <th>ts_8</th>\n",
       "      <th>ts_9</th>\n",
       "      <th>...</th>\n",
       "      <th>open_4</th>\n",
       "      <th>open_5</th>\n",
       "      <th>open_6</th>\n",
       "      <th>open_7</th>\n",
       "      <th>open_8</th>\n",
       "      <th>open_9</th>\n",
       "      <th>open_10</th>\n",
       "      <th>open_11</th>\n",
       "      <th>open_12</th>\n",
       "      <th>open_13</th>\n",
       "    </tr>\n",
       "  </thead>\n",
       "  <tbody>\n",
       "    <tr>\n",
       "      <th>0</th>\n",
       "      <td>1</td>\n",
       "      <td>642.0</td>\n",
       "      <td>6.0</td>\n",
       "      <td>6.0</td>\n",
       "      <td>6.0</td>\n",
       "      <td>486.0</td>\n",
       "      <td>6.0</td>\n",
       "      <td>289.0</td>\n",
       "      <td>505.0</td>\n",
       "      <td>190.0</td>\n",
       "      <td>...</td>\n",
       "      <td>1.552</td>\n",
       "      <td>434.964</td>\n",
       "      <td>14.727</td>\n",
       "      <td>1188.560</td>\n",
       "      <td>1804.850</td>\n",
       "      <td>1674.380</td>\n",
       "      <td>2461.520</td>\n",
       "      <td>412.941</td>\n",
       "      <td>1708.990</td>\n",
       "      <td>2.954</td>\n",
       "    </tr>\n",
       "    <tr>\n",
       "      <th>1</th>\n",
       "      <td>1</td>\n",
       "      <td>4292.0</td>\n",
       "      <td>5986.0</td>\n",
       "      <td>6643.0</td>\n",
       "      <td>5035.0</td>\n",
       "      <td>3763.0</td>\n",
       "      <td>3091.0</td>\n",
       "      <td>3307.0</td>\n",
       "      <td>1923.0</td>\n",
       "      <td>145.0</td>\n",
       "      <td>...</td>\n",
       "      <td>211.656</td>\n",
       "      <td>353.996</td>\n",
       "      <td>142.246</td>\n",
       "      <td>196.469</td>\n",
       "      <td>294.132</td>\n",
       "      <td>33.903</td>\n",
       "      <td>973.755</td>\n",
       "      <td>337.660</td>\n",
       "      <td>296.544</td>\n",
       "      <td>241.897</td>\n",
       "    </tr>\n",
       "    <tr>\n",
       "      <th>2</th>\n",
       "      <td>1</td>\n",
       "      <td>271.0</td>\n",
       "      <td>45.0</td>\n",
       "      <td>1774.0</td>\n",
       "      <td>12334.0</td>\n",
       "      <td>9734.0</td>\n",
       "      <td>4434.0</td>\n",
       "      <td>4924.0</td>\n",
       "      <td>6144.0</td>\n",
       "      <td>3194.0</td>\n",
       "      <td>...</td>\n",
       "      <td>2057.600</td>\n",
       "      <td>409.256</td>\n",
       "      <td>8590.070</td>\n",
       "      <td>3773.450</td>\n",
       "      <td>5304.960</td>\n",
       "      <td>2320.360</td>\n",
       "      <td>5238.810</td>\n",
       "      <td>7147.590</td>\n",
       "      <td>1229.310</td>\n",
       "      <td>6766.350</td>\n",
       "    </tr>\n",
       "    <tr>\n",
       "      <th>3</th>\n",
       "      <td>1</td>\n",
       "      <td>542.0</td>\n",
       "      <td>298.0</td>\n",
       "      <td>482.0</td>\n",
       "      <td>320.0</td>\n",
       "      <td>340.0</td>\n",
       "      <td>5.0</td>\n",
       "      <td>116.0</td>\n",
       "      <td>250.0</td>\n",
       "      <td>102.0</td>\n",
       "      <td>...</td>\n",
       "      <td>520.930</td>\n",
       "      <td>121.196</td>\n",
       "      <td>7.755</td>\n",
       "      <td>63.000</td>\n",
       "      <td>32.787</td>\n",
       "      <td>65.123</td>\n",
       "      <td>350.643</td>\n",
       "      <td>15.906</td>\n",
       "      <td>1675.000</td>\n",
       "      <td>2073.000</td>\n",
       "    </tr>\n",
       "    <tr>\n",
       "      <th>4</th>\n",
       "      <td>1</td>\n",
       "      <td>448.0</td>\n",
       "      <td>399.0</td>\n",
       "      <td>365.0</td>\n",
       "      <td>204.0</td>\n",
       "      <td>6.0</td>\n",
       "      <td>326.0</td>\n",
       "      <td>79.0</td>\n",
       "      <td>226.0</td>\n",
       "      <td>4.0</td>\n",
       "      <td>...</td>\n",
       "      <td>69.581</td>\n",
       "      <td>4.131</td>\n",
       "      <td>49.664</td>\n",
       "      <td>54.216</td>\n",
       "      <td>5.567</td>\n",
       "      <td>2.700</td>\n",
       "      <td>8.083</td>\n",
       "      <td>412.143</td>\n",
       "      <td>849.000</td>\n",
       "      <td>957.000</td>\n",
       "    </tr>\n",
       "  </tbody>\n",
       "</table>\n",
       "<p>5 rows × 40 columns</p>\n",
       "</div>"
      ],
      "text/plain": [
       "   orflg    ts_1    ts_2    ts_3     ts_4    ts_5    ts_6    ts_7    ts_8  \\\n",
       "0      1   642.0     6.0     6.0      6.0   486.0     6.0   289.0   505.0   \n",
       "1      1  4292.0  5986.0  6643.0   5035.0  3763.0  3091.0  3307.0  1923.0   \n",
       "2      1   271.0    45.0  1774.0  12334.0  9734.0  4434.0  4924.0  6144.0   \n",
       "3      1   542.0   298.0   482.0    320.0   340.0     5.0   116.0   250.0   \n",
       "4      1   448.0   399.0   365.0    204.0     6.0   326.0    79.0   226.0   \n",
       "\n",
       "     ts_9  ...    open_4   open_5    open_6    open_7    open_8    open_9  \\\n",
       "0   190.0  ...     1.552  434.964    14.727  1188.560  1804.850  1674.380   \n",
       "1   145.0  ...   211.656  353.996   142.246   196.469   294.132    33.903   \n",
       "2  3194.0  ...  2057.600  409.256  8590.070  3773.450  5304.960  2320.360   \n",
       "3   102.0  ...   520.930  121.196     7.755    63.000    32.787    65.123   \n",
       "4     4.0  ...    69.581    4.131    49.664    54.216     5.567     2.700   \n",
       "\n",
       "    open_10   open_11   open_12   open_13  \n",
       "0  2461.520   412.941  1708.990     2.954  \n",
       "1   973.755   337.660   296.544   241.897  \n",
       "2  5238.810  7147.590  1229.310  6766.350  \n",
       "3   350.643    15.906  1675.000  2073.000  \n",
       "4     8.083   412.143   849.000   957.000  \n",
       "\n",
       "[5 rows x 40 columns]"
      ]
     },
     "execution_count": 29,
     "metadata": {},
     "output_type": "execute_result"
    }
   ],
   "source": [
    "df_ml_scaler.head()"
   ]
  },
  {
   "cell_type": "code",
   "execution_count": 30,
   "metadata": {},
   "outputs": [],
   "source": [
    "# How to Debug using Jupyter Lab: \n",
    "# https://www.youtube.com/watch?v=B3qxUw4NK7Q"
   ]
  },
  {
   "cell_type": "code",
   "execution_count": 31,
   "metadata": {},
   "outputs": [
    {
     "data": {
      "text/plain": [
       "StandardScaler()"
      ]
     },
     "execution_count": 31,
     "metadata": {},
     "output_type": "execute_result"
    }
   ],
   "source": [
    "scaler.fit(df_ml_scaler)"
   ]
  },
  {
   "cell_type": "code",
   "execution_count": 32,
   "metadata": {},
   "outputs": [],
   "source": [
    "scaled_df = scaler.transform(df_ml_scaler)"
   ]
  },
  {
   "cell_type": "code",
   "execution_count": 33,
   "metadata": {},
   "outputs": [
    {
     "data": {
      "text/plain": [
       "array([[ 0.01620935, -0.14499591, -0.17378102, ..., -0.03422695,\n",
       "         0.04011769, -0.10083829],\n",
       "       [ 0.01620935,  0.01195043,  0.06631882, ..., -0.04306395,\n",
       "        -0.06994886, -0.08835668],\n",
       "       [ 0.01620935, -0.16094853, -0.17221515, ...,  0.75633218,\n",
       "         0.00273805,  0.25245979],\n",
       "       ...,\n",
       "       [ 0.01620935, -0.10191091, -0.10801454, ..., -0.08270078,\n",
       "        -0.0930574 , -0.1009926 ],\n",
       "       [ 0.01620935, -0.11842253, -0.12343233, ..., -0.08270078,\n",
       "        -0.0930574 , -0.1009926 ],\n",
       "       [ 0.01620935, -0.12564636, -0.13017761, ..., -0.08270078,\n",
       "        -0.0930574 , -0.1009926 ]])"
      ]
     },
     "execution_count": 33,
     "metadata": {},
     "output_type": "execute_result"
    }
   ],
   "source": [
    "scaled_df"
   ]
  },
  {
   "cell_type": "code",
   "execution_count": 34,
   "metadata": {},
   "outputs": [],
   "source": [
    "from sklearn.model_selection import train_test_split"
   ]
  },
  {
   "cell_type": "code",
   "execution_count": 35,
   "metadata": {},
   "outputs": [
    {
     "data": {
      "text/plain": [
       "Index(['material', 'osmit', 'orflg', 'ts_1', 'ts_2', 'ts_3', 'ts_4', 'ts_5',\n",
       "       'ts_6', 'ts_7', 'ts_8', 'ts_9', 'ts_10', 'ts_11', 'ts_12', 'ts_13',\n",
       "       'dm12_1', 'dm12_2', 'dm12_3', 'dm12_4', 'dm12_5', 'dm12_6', 'dm12_7',\n",
       "       'dm12_8', 'dm12_9', 'dm12_10', 'dm12_11', 'dm12_12', 'dm12_13',\n",
       "       'open_1', 'open_2', 'open_3', 'open_4', 'open_5', 'open_6', 'open_7',\n",
       "       'open_8', 'open_9', 'open_10', 'open_11', 'open_12', 'open_13'],\n",
       "      dtype='object')"
      ]
     },
     "execution_count": 35,
     "metadata": {},
     "output_type": "execute_result"
    }
   ],
   "source": [
    "df_ml.columns"
   ]
  },
  {
   "cell_type": "code",
   "execution_count": 36,
   "metadata": {},
   "outputs": [],
   "source": [
    "X = df_ml.drop('osmit',axis = 1)\n",
    "y = df_ml['osmit']"
   ]
  },
  {
   "cell_type": "code",
   "execution_count": 37,
   "metadata": {},
   "outputs": [
    {
     "data": {
      "text/html": [
       "<div>\n",
       "<style scoped>\n",
       "    .dataframe tbody tr th:only-of-type {\n",
       "        vertical-align: middle;\n",
       "    }\n",
       "\n",
       "    .dataframe tbody tr th {\n",
       "        vertical-align: top;\n",
       "    }\n",
       "\n",
       "    .dataframe thead th {\n",
       "        text-align: right;\n",
       "    }\n",
       "</style>\n",
       "<table border=\"1\" class=\"dataframe\">\n",
       "  <thead>\n",
       "    <tr style=\"text-align: right;\">\n",
       "      <th></th>\n",
       "      <th>material</th>\n",
       "      <th>orflg</th>\n",
       "      <th>ts_1</th>\n",
       "      <th>ts_2</th>\n",
       "      <th>ts_3</th>\n",
       "      <th>ts_4</th>\n",
       "      <th>ts_5</th>\n",
       "      <th>ts_6</th>\n",
       "      <th>ts_7</th>\n",
       "      <th>ts_8</th>\n",
       "      <th>...</th>\n",
       "      <th>open_4</th>\n",
       "      <th>open_5</th>\n",
       "      <th>open_6</th>\n",
       "      <th>open_7</th>\n",
       "      <th>open_8</th>\n",
       "      <th>open_9</th>\n",
       "      <th>open_10</th>\n",
       "      <th>open_11</th>\n",
       "      <th>open_12</th>\n",
       "      <th>open_13</th>\n",
       "    </tr>\n",
       "  </thead>\n",
       "  <tbody>\n",
       "    <tr>\n",
       "      <th>0</th>\n",
       "      <td>101</td>\n",
       "      <td>1</td>\n",
       "      <td>642.0</td>\n",
       "      <td>6.0</td>\n",
       "      <td>6.0</td>\n",
       "      <td>6.0</td>\n",
       "      <td>486.0</td>\n",
       "      <td>6.0</td>\n",
       "      <td>289.0</td>\n",
       "      <td>505.0</td>\n",
       "      <td>...</td>\n",
       "      <td>1.552</td>\n",
       "      <td>434.964</td>\n",
       "      <td>14.727</td>\n",
       "      <td>1188.560</td>\n",
       "      <td>1804.850</td>\n",
       "      <td>1674.380</td>\n",
       "      <td>2461.520</td>\n",
       "      <td>412.941</td>\n",
       "      <td>1708.990</td>\n",
       "      <td>2.954</td>\n",
       "    </tr>\n",
       "    <tr>\n",
       "      <th>1</th>\n",
       "      <td>103</td>\n",
       "      <td>1</td>\n",
       "      <td>4292.0</td>\n",
       "      <td>5986.0</td>\n",
       "      <td>6643.0</td>\n",
       "      <td>5035.0</td>\n",
       "      <td>3763.0</td>\n",
       "      <td>3091.0</td>\n",
       "      <td>3307.0</td>\n",
       "      <td>1923.0</td>\n",
       "      <td>...</td>\n",
       "      <td>211.656</td>\n",
       "      <td>353.996</td>\n",
       "      <td>142.246</td>\n",
       "      <td>196.469</td>\n",
       "      <td>294.132</td>\n",
       "      <td>33.903</td>\n",
       "      <td>973.755</td>\n",
       "      <td>337.660</td>\n",
       "      <td>296.544</td>\n",
       "      <td>241.897</td>\n",
       "    </tr>\n",
       "    <tr>\n",
       "      <th>2</th>\n",
       "      <td>108</td>\n",
       "      <td>1</td>\n",
       "      <td>271.0</td>\n",
       "      <td>45.0</td>\n",
       "      <td>1774.0</td>\n",
       "      <td>12334.0</td>\n",
       "      <td>9734.0</td>\n",
       "      <td>4434.0</td>\n",
       "      <td>4924.0</td>\n",
       "      <td>6144.0</td>\n",
       "      <td>...</td>\n",
       "      <td>2057.600</td>\n",
       "      <td>409.256</td>\n",
       "      <td>8590.070</td>\n",
       "      <td>3773.450</td>\n",
       "      <td>5304.960</td>\n",
       "      <td>2320.360</td>\n",
       "      <td>5238.810</td>\n",
       "      <td>7147.590</td>\n",
       "      <td>1229.310</td>\n",
       "      <td>6766.350</td>\n",
       "    </tr>\n",
       "    <tr>\n",
       "      <th>3</th>\n",
       "      <td>303</td>\n",
       "      <td>1</td>\n",
       "      <td>542.0</td>\n",
       "      <td>298.0</td>\n",
       "      <td>482.0</td>\n",
       "      <td>320.0</td>\n",
       "      <td>340.0</td>\n",
       "      <td>5.0</td>\n",
       "      <td>116.0</td>\n",
       "      <td>250.0</td>\n",
       "      <td>...</td>\n",
       "      <td>520.930</td>\n",
       "      <td>121.196</td>\n",
       "      <td>7.755</td>\n",
       "      <td>63.000</td>\n",
       "      <td>32.787</td>\n",
       "      <td>65.123</td>\n",
       "      <td>350.643</td>\n",
       "      <td>15.906</td>\n",
       "      <td>1675.000</td>\n",
       "      <td>2073.000</td>\n",
       "    </tr>\n",
       "    <tr>\n",
       "      <th>4</th>\n",
       "      <td>304</td>\n",
       "      <td>1</td>\n",
       "      <td>448.0</td>\n",
       "      <td>399.0</td>\n",
       "      <td>365.0</td>\n",
       "      <td>204.0</td>\n",
       "      <td>6.0</td>\n",
       "      <td>326.0</td>\n",
       "      <td>79.0</td>\n",
       "      <td>226.0</td>\n",
       "      <td>...</td>\n",
       "      <td>69.581</td>\n",
       "      <td>4.131</td>\n",
       "      <td>49.664</td>\n",
       "      <td>54.216</td>\n",
       "      <td>5.567</td>\n",
       "      <td>2.700</td>\n",
       "      <td>8.083</td>\n",
       "      <td>412.143</td>\n",
       "      <td>849.000</td>\n",
       "      <td>957.000</td>\n",
       "    </tr>\n",
       "    <tr>\n",
       "      <th>...</th>\n",
       "      <td>...</td>\n",
       "      <td>...</td>\n",
       "      <td>...</td>\n",
       "      <td>...</td>\n",
       "      <td>...</td>\n",
       "      <td>...</td>\n",
       "      <td>...</td>\n",
       "      <td>...</td>\n",
       "      <td>...</td>\n",
       "      <td>...</td>\n",
       "      <td>...</td>\n",
       "      <td>...</td>\n",
       "      <td>...</td>\n",
       "      <td>...</td>\n",
       "      <td>...</td>\n",
       "      <td>...</td>\n",
       "      <td>...</td>\n",
       "      <td>...</td>\n",
       "      <td>...</td>\n",
       "      <td>...</td>\n",
       "      <td>...</td>\n",
       "    </tr>\n",
       "    <tr>\n",
       "      <th>3802</th>\n",
       "      <td>ZZD34166</td>\n",
       "      <td>1</td>\n",
       "      <td>2028.0</td>\n",
       "      <td>2748.0</td>\n",
       "      <td>3492.0</td>\n",
       "      <td>1596.0</td>\n",
       "      <td>1164.0</td>\n",
       "      <td>756.0</td>\n",
       "      <td>2916.0</td>\n",
       "      <td>2916.0</td>\n",
       "      <td>...</td>\n",
       "      <td>0.000</td>\n",
       "      <td>0.000</td>\n",
       "      <td>0.000</td>\n",
       "      <td>0.000</td>\n",
       "      <td>144.000</td>\n",
       "      <td>0.000</td>\n",
       "      <td>0.000</td>\n",
       "      <td>0.000</td>\n",
       "      <td>0.000</td>\n",
       "      <td>0.000</td>\n",
       "    </tr>\n",
       "    <tr>\n",
       "      <th>3803</th>\n",
       "      <td>ZZD34184</td>\n",
       "      <td>1</td>\n",
       "      <td>1104.0</td>\n",
       "      <td>1104.0</td>\n",
       "      <td>2400.0</td>\n",
       "      <td>780.0</td>\n",
       "      <td>492.0</td>\n",
       "      <td>576.0</td>\n",
       "      <td>432.0</td>\n",
       "      <td>288.0</td>\n",
       "      <td>...</td>\n",
       "      <td>0.000</td>\n",
       "      <td>0.000</td>\n",
       "      <td>0.000</td>\n",
       "      <td>0.000</td>\n",
       "      <td>0.000</td>\n",
       "      <td>444.000</td>\n",
       "      <td>0.000</td>\n",
       "      <td>0.000</td>\n",
       "      <td>288.000</td>\n",
       "      <td>120.000</td>\n",
       "    </tr>\n",
       "    <tr>\n",
       "      <th>3804</th>\n",
       "      <td>ZZD34192</td>\n",
       "      <td>1</td>\n",
       "      <td>1644.0</td>\n",
       "      <td>1644.0</td>\n",
       "      <td>1500.0</td>\n",
       "      <td>1140.0</td>\n",
       "      <td>1140.0</td>\n",
       "      <td>996.0</td>\n",
       "      <td>456.0</td>\n",
       "      <td>420.0</td>\n",
       "      <td>...</td>\n",
       "      <td>0.000</td>\n",
       "      <td>0.000</td>\n",
       "      <td>0.000</td>\n",
       "      <td>0.000</td>\n",
       "      <td>0.000</td>\n",
       "      <td>0.000</td>\n",
       "      <td>120.000</td>\n",
       "      <td>0.000</td>\n",
       "      <td>0.000</td>\n",
       "      <td>0.000</td>\n",
       "    </tr>\n",
       "    <tr>\n",
       "      <th>3805</th>\n",
       "      <td>ZZD34196</td>\n",
       "      <td>1</td>\n",
       "      <td>1260.0</td>\n",
       "      <td>1260.0</td>\n",
       "      <td>1164.0</td>\n",
       "      <td>948.0</td>\n",
       "      <td>948.0</td>\n",
       "      <td>948.0</td>\n",
       "      <td>372.0</td>\n",
       "      <td>372.0</td>\n",
       "      <td>...</td>\n",
       "      <td>0.000</td>\n",
       "      <td>0.000</td>\n",
       "      <td>0.000</td>\n",
       "      <td>0.000</td>\n",
       "      <td>0.000</td>\n",
       "      <td>0.000</td>\n",
       "      <td>0.000</td>\n",
       "      <td>0.000</td>\n",
       "      <td>0.000</td>\n",
       "      <td>0.000</td>\n",
       "    </tr>\n",
       "    <tr>\n",
       "      <th>3806</th>\n",
       "      <td>ZZD34198</td>\n",
       "      <td>1</td>\n",
       "      <td>1092.0</td>\n",
       "      <td>1092.0</td>\n",
       "      <td>924.0</td>\n",
       "      <td>312.0</td>\n",
       "      <td>312.0</td>\n",
       "      <td>312.0</td>\n",
       "      <td>204.0</td>\n",
       "      <td>204.0</td>\n",
       "      <td>...</td>\n",
       "      <td>0.000</td>\n",
       "      <td>0.000</td>\n",
       "      <td>0.000</td>\n",
       "      <td>0.000</td>\n",
       "      <td>0.000</td>\n",
       "      <td>0.000</td>\n",
       "      <td>0.000</td>\n",
       "      <td>0.000</td>\n",
       "      <td>0.000</td>\n",
       "      <td>0.000</td>\n",
       "    </tr>\n",
       "  </tbody>\n",
       "</table>\n",
       "<p>3807 rows × 41 columns</p>\n",
       "</div>"
      ],
      "text/plain": [
       "      material  orflg    ts_1    ts_2    ts_3     ts_4    ts_5    ts_6  \\\n",
       "0          101      1   642.0     6.0     6.0      6.0   486.0     6.0   \n",
       "1          103      1  4292.0  5986.0  6643.0   5035.0  3763.0  3091.0   \n",
       "2          108      1   271.0    45.0  1774.0  12334.0  9734.0  4434.0   \n",
       "3          303      1   542.0   298.0   482.0    320.0   340.0     5.0   \n",
       "4          304      1   448.0   399.0   365.0    204.0     6.0   326.0   \n",
       "...        ...    ...     ...     ...     ...      ...     ...     ...   \n",
       "3802  ZZD34166      1  2028.0  2748.0  3492.0   1596.0  1164.0   756.0   \n",
       "3803  ZZD34184      1  1104.0  1104.0  2400.0    780.0   492.0   576.0   \n",
       "3804  ZZD34192      1  1644.0  1644.0  1500.0   1140.0  1140.0   996.0   \n",
       "3805  ZZD34196      1  1260.0  1260.0  1164.0    948.0   948.0   948.0   \n",
       "3806  ZZD34198      1  1092.0  1092.0   924.0    312.0   312.0   312.0   \n",
       "\n",
       "        ts_7    ts_8  ...    open_4   open_5    open_6    open_7    open_8  \\\n",
       "0      289.0   505.0  ...     1.552  434.964    14.727  1188.560  1804.850   \n",
       "1     3307.0  1923.0  ...   211.656  353.996   142.246   196.469   294.132   \n",
       "2     4924.0  6144.0  ...  2057.600  409.256  8590.070  3773.450  5304.960   \n",
       "3      116.0   250.0  ...   520.930  121.196     7.755    63.000    32.787   \n",
       "4       79.0   226.0  ...    69.581    4.131    49.664    54.216     5.567   \n",
       "...      ...     ...  ...       ...      ...       ...       ...       ...   \n",
       "3802  2916.0  2916.0  ...     0.000    0.000     0.000     0.000   144.000   \n",
       "3803   432.0   288.0  ...     0.000    0.000     0.000     0.000     0.000   \n",
       "3804   456.0   420.0  ...     0.000    0.000     0.000     0.000     0.000   \n",
       "3805   372.0   372.0  ...     0.000    0.000     0.000     0.000     0.000   \n",
       "3806   204.0   204.0  ...     0.000    0.000     0.000     0.000     0.000   \n",
       "\n",
       "        open_9   open_10   open_11   open_12   open_13  \n",
       "0     1674.380  2461.520   412.941  1708.990     2.954  \n",
       "1       33.903   973.755   337.660   296.544   241.897  \n",
       "2     2320.360  5238.810  7147.590  1229.310  6766.350  \n",
       "3       65.123   350.643    15.906  1675.000  2073.000  \n",
       "4        2.700     8.083   412.143   849.000   957.000  \n",
       "...        ...       ...       ...       ...       ...  \n",
       "3802     0.000     0.000     0.000     0.000     0.000  \n",
       "3803   444.000     0.000     0.000   288.000   120.000  \n",
       "3804     0.000   120.000     0.000     0.000     0.000  \n",
       "3805     0.000     0.000     0.000     0.000     0.000  \n",
       "3806     0.000     0.000     0.000     0.000     0.000  \n",
       "\n",
       "[3807 rows x 41 columns]"
      ]
     },
     "execution_count": 37,
     "metadata": {},
     "output_type": "execute_result"
    }
   ],
   "source": [
    "X"
   ]
  },
  {
   "cell_type": "code",
   "execution_count": 38,
   "metadata": {},
   "outputs": [],
   "source": [
    "X = df_ml.drop(['material','osmit'],axis = 1)"
   ]
  },
  {
   "cell_type": "code",
   "execution_count": 39,
   "metadata": {},
   "outputs": [
    {
     "data": {
      "text/html": [
       "<div>\n",
       "<style scoped>\n",
       "    .dataframe tbody tr th:only-of-type {\n",
       "        vertical-align: middle;\n",
       "    }\n",
       "\n",
       "    .dataframe tbody tr th {\n",
       "        vertical-align: top;\n",
       "    }\n",
       "\n",
       "    .dataframe thead th {\n",
       "        text-align: right;\n",
       "    }\n",
       "</style>\n",
       "<table border=\"1\" class=\"dataframe\">\n",
       "  <thead>\n",
       "    <tr style=\"text-align: right;\">\n",
       "      <th></th>\n",
       "      <th>orflg</th>\n",
       "      <th>ts_1</th>\n",
       "      <th>ts_2</th>\n",
       "      <th>ts_3</th>\n",
       "      <th>ts_4</th>\n",
       "      <th>ts_5</th>\n",
       "      <th>ts_6</th>\n",
       "      <th>ts_7</th>\n",
       "      <th>ts_8</th>\n",
       "      <th>ts_9</th>\n",
       "      <th>...</th>\n",
       "      <th>open_4</th>\n",
       "      <th>open_5</th>\n",
       "      <th>open_6</th>\n",
       "      <th>open_7</th>\n",
       "      <th>open_8</th>\n",
       "      <th>open_9</th>\n",
       "      <th>open_10</th>\n",
       "      <th>open_11</th>\n",
       "      <th>open_12</th>\n",
       "      <th>open_13</th>\n",
       "    </tr>\n",
       "  </thead>\n",
       "  <tbody>\n",
       "    <tr>\n",
       "      <th>0</th>\n",
       "      <td>1</td>\n",
       "      <td>642.0</td>\n",
       "      <td>6.0</td>\n",
       "      <td>6.0</td>\n",
       "      <td>6.0</td>\n",
       "      <td>486.0</td>\n",
       "      <td>6.0</td>\n",
       "      <td>289.0</td>\n",
       "      <td>505.0</td>\n",
       "      <td>190.0</td>\n",
       "      <td>...</td>\n",
       "      <td>1.552</td>\n",
       "      <td>434.964</td>\n",
       "      <td>14.727</td>\n",
       "      <td>1188.560</td>\n",
       "      <td>1804.850</td>\n",
       "      <td>1674.380</td>\n",
       "      <td>2461.520</td>\n",
       "      <td>412.941</td>\n",
       "      <td>1708.990</td>\n",
       "      <td>2.954</td>\n",
       "    </tr>\n",
       "    <tr>\n",
       "      <th>1</th>\n",
       "      <td>1</td>\n",
       "      <td>4292.0</td>\n",
       "      <td>5986.0</td>\n",
       "      <td>6643.0</td>\n",
       "      <td>5035.0</td>\n",
       "      <td>3763.0</td>\n",
       "      <td>3091.0</td>\n",
       "      <td>3307.0</td>\n",
       "      <td>1923.0</td>\n",
       "      <td>145.0</td>\n",
       "      <td>...</td>\n",
       "      <td>211.656</td>\n",
       "      <td>353.996</td>\n",
       "      <td>142.246</td>\n",
       "      <td>196.469</td>\n",
       "      <td>294.132</td>\n",
       "      <td>33.903</td>\n",
       "      <td>973.755</td>\n",
       "      <td>337.660</td>\n",
       "      <td>296.544</td>\n",
       "      <td>241.897</td>\n",
       "    </tr>\n",
       "    <tr>\n",
       "      <th>2</th>\n",
       "      <td>1</td>\n",
       "      <td>271.0</td>\n",
       "      <td>45.0</td>\n",
       "      <td>1774.0</td>\n",
       "      <td>12334.0</td>\n",
       "      <td>9734.0</td>\n",
       "      <td>4434.0</td>\n",
       "      <td>4924.0</td>\n",
       "      <td>6144.0</td>\n",
       "      <td>3194.0</td>\n",
       "      <td>...</td>\n",
       "      <td>2057.600</td>\n",
       "      <td>409.256</td>\n",
       "      <td>8590.070</td>\n",
       "      <td>3773.450</td>\n",
       "      <td>5304.960</td>\n",
       "      <td>2320.360</td>\n",
       "      <td>5238.810</td>\n",
       "      <td>7147.590</td>\n",
       "      <td>1229.310</td>\n",
       "      <td>6766.350</td>\n",
       "    </tr>\n",
       "    <tr>\n",
       "      <th>3</th>\n",
       "      <td>1</td>\n",
       "      <td>542.0</td>\n",
       "      <td>298.0</td>\n",
       "      <td>482.0</td>\n",
       "      <td>320.0</td>\n",
       "      <td>340.0</td>\n",
       "      <td>5.0</td>\n",
       "      <td>116.0</td>\n",
       "      <td>250.0</td>\n",
       "      <td>102.0</td>\n",
       "      <td>...</td>\n",
       "      <td>520.930</td>\n",
       "      <td>121.196</td>\n",
       "      <td>7.755</td>\n",
       "      <td>63.000</td>\n",
       "      <td>32.787</td>\n",
       "      <td>65.123</td>\n",
       "      <td>350.643</td>\n",
       "      <td>15.906</td>\n",
       "      <td>1675.000</td>\n",
       "      <td>2073.000</td>\n",
       "    </tr>\n",
       "    <tr>\n",
       "      <th>4</th>\n",
       "      <td>1</td>\n",
       "      <td>448.0</td>\n",
       "      <td>399.0</td>\n",
       "      <td>365.0</td>\n",
       "      <td>204.0</td>\n",
       "      <td>6.0</td>\n",
       "      <td>326.0</td>\n",
       "      <td>79.0</td>\n",
       "      <td>226.0</td>\n",
       "      <td>4.0</td>\n",
       "      <td>...</td>\n",
       "      <td>69.581</td>\n",
       "      <td>4.131</td>\n",
       "      <td>49.664</td>\n",
       "      <td>54.216</td>\n",
       "      <td>5.567</td>\n",
       "      <td>2.700</td>\n",
       "      <td>8.083</td>\n",
       "      <td>412.143</td>\n",
       "      <td>849.000</td>\n",
       "      <td>957.000</td>\n",
       "    </tr>\n",
       "    <tr>\n",
       "      <th>...</th>\n",
       "      <td>...</td>\n",
       "      <td>...</td>\n",
       "      <td>...</td>\n",
       "      <td>...</td>\n",
       "      <td>...</td>\n",
       "      <td>...</td>\n",
       "      <td>...</td>\n",
       "      <td>...</td>\n",
       "      <td>...</td>\n",
       "      <td>...</td>\n",
       "      <td>...</td>\n",
       "      <td>...</td>\n",
       "      <td>...</td>\n",
       "      <td>...</td>\n",
       "      <td>...</td>\n",
       "      <td>...</td>\n",
       "      <td>...</td>\n",
       "      <td>...</td>\n",
       "      <td>...</td>\n",
       "      <td>...</td>\n",
       "      <td>...</td>\n",
       "    </tr>\n",
       "    <tr>\n",
       "      <th>3802</th>\n",
       "      <td>1</td>\n",
       "      <td>2028.0</td>\n",
       "      <td>2748.0</td>\n",
       "      <td>3492.0</td>\n",
       "      <td>1596.0</td>\n",
       "      <td>1164.0</td>\n",
       "      <td>756.0</td>\n",
       "      <td>2916.0</td>\n",
       "      <td>2916.0</td>\n",
       "      <td>2196.0</td>\n",
       "      <td>...</td>\n",
       "      <td>0.000</td>\n",
       "      <td>0.000</td>\n",
       "      <td>0.000</td>\n",
       "      <td>0.000</td>\n",
       "      <td>144.000</td>\n",
       "      <td>0.000</td>\n",
       "      <td>0.000</td>\n",
       "      <td>0.000</td>\n",
       "      <td>0.000</td>\n",
       "      <td>0.000</td>\n",
       "    </tr>\n",
       "    <tr>\n",
       "      <th>3803</th>\n",
       "      <td>1</td>\n",
       "      <td>1104.0</td>\n",
       "      <td>1104.0</td>\n",
       "      <td>2400.0</td>\n",
       "      <td>780.0</td>\n",
       "      <td>492.0</td>\n",
       "      <td>576.0</td>\n",
       "      <td>432.0</td>\n",
       "      <td>288.0</td>\n",
       "      <td>1296.0</td>\n",
       "      <td>...</td>\n",
       "      <td>0.000</td>\n",
       "      <td>0.000</td>\n",
       "      <td>0.000</td>\n",
       "      <td>0.000</td>\n",
       "      <td>0.000</td>\n",
       "      <td>444.000</td>\n",
       "      <td>0.000</td>\n",
       "      <td>0.000</td>\n",
       "      <td>288.000</td>\n",
       "      <td>120.000</td>\n",
       "    </tr>\n",
       "    <tr>\n",
       "      <th>3804</th>\n",
       "      <td>1</td>\n",
       "      <td>1644.0</td>\n",
       "      <td>1644.0</td>\n",
       "      <td>1500.0</td>\n",
       "      <td>1140.0</td>\n",
       "      <td>1140.0</td>\n",
       "      <td>996.0</td>\n",
       "      <td>456.0</td>\n",
       "      <td>420.0</td>\n",
       "      <td>420.0</td>\n",
       "      <td>...</td>\n",
       "      <td>0.000</td>\n",
       "      <td>0.000</td>\n",
       "      <td>0.000</td>\n",
       "      <td>0.000</td>\n",
       "      <td>0.000</td>\n",
       "      <td>0.000</td>\n",
       "      <td>120.000</td>\n",
       "      <td>0.000</td>\n",
       "      <td>0.000</td>\n",
       "      <td>0.000</td>\n",
       "    </tr>\n",
       "    <tr>\n",
       "      <th>3805</th>\n",
       "      <td>1</td>\n",
       "      <td>1260.0</td>\n",
       "      <td>1260.0</td>\n",
       "      <td>1164.0</td>\n",
       "      <td>948.0</td>\n",
       "      <td>948.0</td>\n",
       "      <td>948.0</td>\n",
       "      <td>372.0</td>\n",
       "      <td>372.0</td>\n",
       "      <td>372.0</td>\n",
       "      <td>...</td>\n",
       "      <td>0.000</td>\n",
       "      <td>0.000</td>\n",
       "      <td>0.000</td>\n",
       "      <td>0.000</td>\n",
       "      <td>0.000</td>\n",
       "      <td>0.000</td>\n",
       "      <td>0.000</td>\n",
       "      <td>0.000</td>\n",
       "      <td>0.000</td>\n",
       "      <td>0.000</td>\n",
       "    </tr>\n",
       "    <tr>\n",
       "      <th>3806</th>\n",
       "      <td>1</td>\n",
       "      <td>1092.0</td>\n",
       "      <td>1092.0</td>\n",
       "      <td>924.0</td>\n",
       "      <td>312.0</td>\n",
       "      <td>312.0</td>\n",
       "      <td>312.0</td>\n",
       "      <td>204.0</td>\n",
       "      <td>204.0</td>\n",
       "      <td>204.0</td>\n",
       "      <td>...</td>\n",
       "      <td>0.000</td>\n",
       "      <td>0.000</td>\n",
       "      <td>0.000</td>\n",
       "      <td>0.000</td>\n",
       "      <td>0.000</td>\n",
       "      <td>0.000</td>\n",
       "      <td>0.000</td>\n",
       "      <td>0.000</td>\n",
       "      <td>0.000</td>\n",
       "      <td>0.000</td>\n",
       "    </tr>\n",
       "  </tbody>\n",
       "</table>\n",
       "<p>3807 rows × 40 columns</p>\n",
       "</div>"
      ],
      "text/plain": [
       "      orflg    ts_1    ts_2    ts_3     ts_4    ts_5    ts_6    ts_7    ts_8  \\\n",
       "0         1   642.0     6.0     6.0      6.0   486.0     6.0   289.0   505.0   \n",
       "1         1  4292.0  5986.0  6643.0   5035.0  3763.0  3091.0  3307.0  1923.0   \n",
       "2         1   271.0    45.0  1774.0  12334.0  9734.0  4434.0  4924.0  6144.0   \n",
       "3         1   542.0   298.0   482.0    320.0   340.0     5.0   116.0   250.0   \n",
       "4         1   448.0   399.0   365.0    204.0     6.0   326.0    79.0   226.0   \n",
       "...     ...     ...     ...     ...      ...     ...     ...     ...     ...   \n",
       "3802      1  2028.0  2748.0  3492.0   1596.0  1164.0   756.0  2916.0  2916.0   \n",
       "3803      1  1104.0  1104.0  2400.0    780.0   492.0   576.0   432.0   288.0   \n",
       "3804      1  1644.0  1644.0  1500.0   1140.0  1140.0   996.0   456.0   420.0   \n",
       "3805      1  1260.0  1260.0  1164.0    948.0   948.0   948.0   372.0   372.0   \n",
       "3806      1  1092.0  1092.0   924.0    312.0   312.0   312.0   204.0   204.0   \n",
       "\n",
       "        ts_9  ...    open_4   open_5    open_6    open_7    open_8    open_9  \\\n",
       "0      190.0  ...     1.552  434.964    14.727  1188.560  1804.850  1674.380   \n",
       "1      145.0  ...   211.656  353.996   142.246   196.469   294.132    33.903   \n",
       "2     3194.0  ...  2057.600  409.256  8590.070  3773.450  5304.960  2320.360   \n",
       "3      102.0  ...   520.930  121.196     7.755    63.000    32.787    65.123   \n",
       "4        4.0  ...    69.581    4.131    49.664    54.216     5.567     2.700   \n",
       "...      ...  ...       ...      ...       ...       ...       ...       ...   \n",
       "3802  2196.0  ...     0.000    0.000     0.000     0.000   144.000     0.000   \n",
       "3803  1296.0  ...     0.000    0.000     0.000     0.000     0.000   444.000   \n",
       "3804   420.0  ...     0.000    0.000     0.000     0.000     0.000     0.000   \n",
       "3805   372.0  ...     0.000    0.000     0.000     0.000     0.000     0.000   \n",
       "3806   204.0  ...     0.000    0.000     0.000     0.000     0.000     0.000   \n",
       "\n",
       "       open_10   open_11   open_12   open_13  \n",
       "0     2461.520   412.941  1708.990     2.954  \n",
       "1      973.755   337.660   296.544   241.897  \n",
       "2     5238.810  7147.590  1229.310  6766.350  \n",
       "3      350.643    15.906  1675.000  2073.000  \n",
       "4        8.083   412.143   849.000   957.000  \n",
       "...        ...       ...       ...       ...  \n",
       "3802     0.000     0.000     0.000     0.000  \n",
       "3803     0.000     0.000   288.000   120.000  \n",
       "3804   120.000     0.000     0.000     0.000  \n",
       "3805     0.000     0.000     0.000     0.000  \n",
       "3806     0.000     0.000     0.000     0.000  \n",
       "\n",
       "[3807 rows x 40 columns]"
      ]
     },
     "execution_count": 39,
     "metadata": {},
     "output_type": "execute_result"
    }
   ],
   "source": [
    "X"
   ]
  },
  {
   "cell_type": "code",
   "execution_count": 40,
   "metadata": {},
   "outputs": [],
   "source": [
    "X_train, X_test, y_train, y_test = train_test_split(X, y, test_size=0.30, random_state=50)"
   ]
  },
  {
   "cell_type": "code",
   "execution_count": 41,
   "metadata": {},
   "outputs": [
    {
     "data": {
      "text/plain": [
       "(2664, 40)"
      ]
     },
     "execution_count": 41,
     "metadata": {},
     "output_type": "execute_result"
    }
   ],
   "source": [
    "X_train.shape #gives rows, columns"
   ]
  },
  {
   "cell_type": "code",
   "execution_count": 42,
   "metadata": {},
   "outputs": [
    {
     "data": {
      "text/html": [
       "<div>\n",
       "<style scoped>\n",
       "    .dataframe tbody tr th:only-of-type {\n",
       "        vertical-align: middle;\n",
       "    }\n",
       "\n",
       "    .dataframe tbody tr th {\n",
       "        vertical-align: top;\n",
       "    }\n",
       "\n",
       "    .dataframe thead th {\n",
       "        text-align: right;\n",
       "    }\n",
       "</style>\n",
       "<table border=\"1\" class=\"dataframe\">\n",
       "  <thead>\n",
       "    <tr style=\"text-align: right;\">\n",
       "      <th></th>\n",
       "      <th>orflg</th>\n",
       "      <th>ts_1</th>\n",
       "      <th>ts_2</th>\n",
       "      <th>ts_3</th>\n",
       "      <th>ts_4</th>\n",
       "      <th>ts_5</th>\n",
       "      <th>ts_6</th>\n",
       "      <th>ts_7</th>\n",
       "      <th>ts_8</th>\n",
       "      <th>ts_9</th>\n",
       "      <th>...</th>\n",
       "      <th>open_4</th>\n",
       "      <th>open_5</th>\n",
       "      <th>open_6</th>\n",
       "      <th>open_7</th>\n",
       "      <th>open_8</th>\n",
       "      <th>open_9</th>\n",
       "      <th>open_10</th>\n",
       "      <th>open_11</th>\n",
       "      <th>open_12</th>\n",
       "      <th>open_13</th>\n",
       "    </tr>\n",
       "  </thead>\n",
       "  <tbody>\n",
       "    <tr>\n",
       "      <th>2747</th>\n",
       "      <td>1</td>\n",
       "      <td>68232.0</td>\n",
       "      <td>63876.0</td>\n",
       "      <td>24696.0</td>\n",
       "      <td>5916.0</td>\n",
       "      <td>4680.0</td>\n",
       "      <td>4428.0</td>\n",
       "      <td>4344.0</td>\n",
       "      <td>4068.0</td>\n",
       "      <td>3840.0</td>\n",
       "      <td>...</td>\n",
       "      <td>0.00</td>\n",
       "      <td>0.000</td>\n",
       "      <td>24.000</td>\n",
       "      <td>36.000</td>\n",
       "      <td>24.000</td>\n",
       "      <td>636.000</td>\n",
       "      <td>96.000</td>\n",
       "      <td>1212.000</td>\n",
       "      <td>46776.000</td>\n",
       "      <td>44808.00</td>\n",
       "    </tr>\n",
       "    <tr>\n",
       "      <th>2285</th>\n",
       "      <td>1</td>\n",
       "      <td>2.0</td>\n",
       "      <td>2.0</td>\n",
       "      <td>2.0</td>\n",
       "      <td>2.0</td>\n",
       "      <td>2.0</td>\n",
       "      <td>2.0</td>\n",
       "      <td>2.0</td>\n",
       "      <td>2.0</td>\n",
       "      <td>2.0</td>\n",
       "      <td>...</td>\n",
       "      <td>0.00</td>\n",
       "      <td>0.000</td>\n",
       "      <td>0.000</td>\n",
       "      <td>0.000</td>\n",
       "      <td>0.000</td>\n",
       "      <td>0.000</td>\n",
       "      <td>0.000</td>\n",
       "      <td>0.000</td>\n",
       "      <td>0.000</td>\n",
       "      <td>0.00</td>\n",
       "    </tr>\n",
       "    <tr>\n",
       "      <th>2733</th>\n",
       "      <td>1</td>\n",
       "      <td>104448.0</td>\n",
       "      <td>90360.0</td>\n",
       "      <td>41748.0</td>\n",
       "      <td>2112.0</td>\n",
       "      <td>4296.0</td>\n",
       "      <td>6660.0</td>\n",
       "      <td>6840.0</td>\n",
       "      <td>6396.0</td>\n",
       "      <td>6396.0</td>\n",
       "      <td>...</td>\n",
       "      <td>492.00</td>\n",
       "      <td>0.000</td>\n",
       "      <td>0.000</td>\n",
       "      <td>444.000</td>\n",
       "      <td>0.000</td>\n",
       "      <td>396.000</td>\n",
       "      <td>0.000</td>\n",
       "      <td>576.000</td>\n",
       "      <td>87120.000</td>\n",
       "      <td>151908.00</td>\n",
       "    </tr>\n",
       "    <tr>\n",
       "      <th>27</th>\n",
       "      <td>1</td>\n",
       "      <td>2.0</td>\n",
       "      <td>2.0</td>\n",
       "      <td>2.0</td>\n",
       "      <td>2.0</td>\n",
       "      <td>2.0</td>\n",
       "      <td>2.0</td>\n",
       "      <td>2.0</td>\n",
       "      <td>2.0</td>\n",
       "      <td>2.0</td>\n",
       "      <td>...</td>\n",
       "      <td>0.00</td>\n",
       "      <td>0.000</td>\n",
       "      <td>0.000</td>\n",
       "      <td>0.000</td>\n",
       "      <td>0.000</td>\n",
       "      <td>0.000</td>\n",
       "      <td>0.000</td>\n",
       "      <td>0.000</td>\n",
       "      <td>0.000</td>\n",
       "      <td>0.00</td>\n",
       "    </tr>\n",
       "    <tr>\n",
       "      <th>1460</th>\n",
       "      <td>1</td>\n",
       "      <td>1556.0</td>\n",
       "      <td>10588.0</td>\n",
       "      <td>13156.0</td>\n",
       "      <td>3662.0</td>\n",
       "      <td>2906.0</td>\n",
       "      <td>1322.0</td>\n",
       "      <td>8786.0</td>\n",
       "      <td>12170.0</td>\n",
       "      <td>10550.0</td>\n",
       "      <td>...</td>\n",
       "      <td>346.85</td>\n",
       "      <td>210.245</td>\n",
       "      <td>50.828</td>\n",
       "      <td>128.555</td>\n",
       "      <td>120.141</td>\n",
       "      <td>188.515</td>\n",
       "      <td>180.215</td>\n",
       "      <td>35.355</td>\n",
       "      <td>548.256</td>\n",
       "      <td>177.28</td>\n",
       "    </tr>\n",
       "  </tbody>\n",
       "</table>\n",
       "<p>5 rows × 40 columns</p>\n",
       "</div>"
      ],
      "text/plain": [
       "      orflg      ts_1     ts_2     ts_3    ts_4    ts_5    ts_6    ts_7  \\\n",
       "2747      1   68232.0  63876.0  24696.0  5916.0  4680.0  4428.0  4344.0   \n",
       "2285      1       2.0      2.0      2.0     2.0     2.0     2.0     2.0   \n",
       "2733      1  104448.0  90360.0  41748.0  2112.0  4296.0  6660.0  6840.0   \n",
       "27        1       2.0      2.0      2.0     2.0     2.0     2.0     2.0   \n",
       "1460      1    1556.0  10588.0  13156.0  3662.0  2906.0  1322.0  8786.0   \n",
       "\n",
       "         ts_8     ts_9  ...  open_4   open_5  open_6   open_7   open_8  \\\n",
       "2747   4068.0   3840.0  ...    0.00    0.000  24.000   36.000   24.000   \n",
       "2285      2.0      2.0  ...    0.00    0.000   0.000    0.000    0.000   \n",
       "2733   6396.0   6396.0  ...  492.00    0.000   0.000  444.000    0.000   \n",
       "27        2.0      2.0  ...    0.00    0.000   0.000    0.000    0.000   \n",
       "1460  12170.0  10550.0  ...  346.85  210.245  50.828  128.555  120.141   \n",
       "\n",
       "       open_9  open_10   open_11    open_12    open_13  \n",
       "2747  636.000   96.000  1212.000  46776.000   44808.00  \n",
       "2285    0.000    0.000     0.000      0.000       0.00  \n",
       "2733  396.000    0.000   576.000  87120.000  151908.00  \n",
       "27      0.000    0.000     0.000      0.000       0.00  \n",
       "1460  188.515  180.215    35.355    548.256     177.28  \n",
       "\n",
       "[5 rows x 40 columns]"
      ]
     },
     "execution_count": 42,
     "metadata": {},
     "output_type": "execute_result"
    }
   ],
   "source": [
    "X_train.head()"
   ]
  },
  {
   "cell_type": "code",
   "execution_count": 43,
   "metadata": {},
   "outputs": [
    {
     "data": {
      "text/plain": [
       "1    2029\n",
       "0     635\n",
       "Name: osmit, dtype: int64"
      ]
     },
     "execution_count": 43,
     "metadata": {},
     "output_type": "execute_result"
    }
   ],
   "source": [
    "y_train.value_counts()"
   ]
  },
  {
   "cell_type": "code",
   "execution_count": 44,
   "metadata": {},
   "outputs": [
    {
     "data": {
      "text/plain": [
       "1    869\n",
       "0    274\n",
       "Name: osmit, dtype: int64"
      ]
     },
     "execution_count": 44,
     "metadata": {},
     "output_type": "execute_result"
    }
   ],
   "source": [
    "y_test.value_counts()"
   ]
  },
  {
   "cell_type": "code",
   "execution_count": 45,
   "metadata": {},
   "outputs": [
    {
     "data": {
      "text/plain": [
       "StandardScaler()"
      ]
     },
     "execution_count": 45,
     "metadata": {},
     "output_type": "execute_result"
    }
   ],
   "source": [
    "scaler.fit(X_train)"
   ]
  },
  {
   "cell_type": "code",
   "execution_count": 46,
   "metadata": {},
   "outputs": [
    {
     "data": {
      "text/plain": [
       "array([[ 0.01937824,  2.97512537,  2.49016193, ...,  0.05600656,\n",
       "         3.09061895,  1.91434749],\n",
       "       [ 0.01937824, -0.19008688, -0.18811462, ..., -0.08383987,\n",
       "        -0.0944213 , -0.10746921],\n",
       "       [ 0.01937824,  4.65519758,  3.60065253, ..., -0.0173782 ,\n",
       "         5.83769574,  6.74689009],\n",
       "       ...,\n",
       "       [ 0.01937824, -0.18600453, -0.18526334, ..., -0.08274325,\n",
       "        -0.0944213 , -0.10746921],\n",
       "       [ 0.01937824, -0.0278135 , -0.04144131, ..., -0.08383987,\n",
       "        -0.0944213 , -0.10746921],\n",
       "       [ 0.01937824, -0.18781375, -0.18606002, ..., -0.08383987,\n",
       "        -0.0944213 , -0.10746921]])"
      ]
     },
     "execution_count": 46,
     "metadata": {},
     "output_type": "execute_result"
    }
   ],
   "source": [
    "scaler.transform(X_train)"
   ]
  },
  {
   "cell_type": "code",
   "execution_count": 48,
   "metadata": {},
   "outputs": [
    {
     "data": {
      "text/plain": [
       "ExtraTreesRegressor()"
      ]
     },
     "execution_count": 48,
     "metadata": {},
     "output_type": "execute_result"
    }
   ],
   "source": [
    "### Feature Importance\n",
    "\n",
    "from sklearn.ensemble import ExtraTreesRegressor\n",
    "model = ExtraTreesRegressor()\n",
    "model.fit(X,y)"
   ]
  },
  {
   "cell_type": "code",
   "execution_count": 49,
   "metadata": {},
   "outputs": [
    {
     "name": "stdout",
     "output_type": "stream",
     "text": [
      "[3.00907746e-05 2.67996187e-02 2.06705364e-02 2.17203519e-02\n",
      " 2.03820693e-02 2.10907521e-02 1.82841388e-02 1.69830629e-02\n",
      " 2.09795592e-02 1.80410318e-02 1.88875613e-02 1.90435329e-02\n",
      " 1.85241093e-02 2.39489208e-02 3.08097817e-02 3.47828603e-02\n",
      " 3.50438247e-02 2.91224529e-02 2.77433484e-02 5.51671989e-02\n",
      " 6.02423916e-02 5.72722005e-02 3.20984029e-02 6.22062103e-02\n",
      " 3.85992532e-02 9.19300561e-02 5.36278892e-02 8.70630134e-03\n",
      " 9.36205428e-03 1.55317725e-02 1.06076126e-02 8.09214040e-03\n",
      " 1.23002523e-02 7.92693545e-03 1.09674665e-02 7.24756567e-03\n",
      " 6.19639659e-03 7.09632816e-03 1.09051395e-02 1.10288275e-02]\n"
     ]
    }
   ],
   "source": [
    "print(model.feature_importances_)"
   ]
  },
  {
   "cell_type": "code",
   "execution_count": 50,
   "metadata": {},
   "outputs": [
    {
     "data": {
      "image/png": "[encoded data removed]",
      "text/plain": [
       "<Figure size 432x288 with 1 Axes>"
      ]
     },
     "metadata": {
      "needs_background": "light"
     },
     "output_type": "display_data"
    }
   ],
   "source": [
    "#plot graph of feature importances for better visualization\n",
    "feat_importances = pd.Series(model.feature_importances_, index=X.columns)\n",
    "feat_importances.nlargest(5).plot(kind='barh')\n",
    "plt.show()"
   ]
  },
  {
   "cell_type": "code",
   "execution_count": 51,
   "metadata": {},
   "outputs": [],
   "source": [
    " from sklearn.linear_model import LogisticRegression"
   ]
  },
  {
   "cell_type": "code",
   "execution_count": 52,
   "metadata": {},
   "outputs": [],
   "source": [
    " logmodel = LogisticRegression(solver='lbfgs', max_iter=3000)"
   ]
  },
  {
   "cell_type": "code",
   "execution_count": 53,
   "metadata": {},
   "outputs": [
    {
     "data": {
      "text/plain": [
       "LogisticRegression(max_iter=3000)"
      ]
     },
     "execution_count": 53,
     "metadata": {},
     "output_type": "execute_result"
    }
   ],
   "source": [
    " logmodel.fit(X_train, y_train)"
   ]
  },
  {
   "cell_type": "code",
   "execution_count": 54,
   "metadata": {},
   "outputs": [],
   "source": [
    " predictions = logmodel.predict(X_test)"
   ]
  },
  {
   "cell_type": "code",
   "execution_count": 55,
   "metadata": {},
   "outputs": [
    {
     "name": "stdout",
     "output_type": "stream",
     "text": [
      "[1 1 1 ... 1 1 1]\n"
     ]
    }
   ],
   "source": [
    " print(predictions) # Everything is predicted as 1-Active"
   ]
  },
  {
   "cell_type": "code",
   "execution_count": 56,
   "metadata": {},
   "outputs": [
    {
     "ename": "AttributeError",
     "evalue": "'numpy.ndarray' object has no attribute 'value_counts'",
     "output_type": "error",
     "traceback": [
      "\u001b[1;31m---------------------------------------------------------------------------\u001b[0m",
      "\u001b[1;31mAttributeError\u001b[0m                            Traceback (most recent call last)",
      "\u001b[1;32m<ipython-input-56-acf40f98e6b6>\u001b[0m in \u001b[0;36m<module>\u001b[1;34m\u001b[0m\n\u001b[1;32m----> 1\u001b[1;33m \u001b[0mpredictions\u001b[0m\u001b[1;33m.\u001b[0m\u001b[0mvalue_counts\u001b[0m\u001b[1;33m(\u001b[0m\u001b[1;33m)\u001b[0m\u001b[1;33m\u001b[0m\u001b[1;33m\u001b[0m\u001b[0m\n\u001b[0m",
      "\u001b[1;31mAttributeError\u001b[0m: 'numpy.ndarray' object has no attribute 'value_counts'"
     ]
    }
   ],
   "source": [
    "predictions.value_counts()"
   ]
  },
  {
   "cell_type": "code",
   "execution_count": 57,
   "metadata": {},
   "outputs": [],
   "source": [
    " unique_elements, counts_elements = np.unique(predictions, return_counts=True)"
   ]
  },
  {
   "cell_type": "code",
   "execution_count": 58,
   "metadata": {},
   "outputs": [
    {
     "name": "stdout",
     "output_type": "stream",
     "text": [
      "Frequency of unique values in predictions:  [[   0    1]\n",
      " [  31 1112]]\n"
     ]
    }
   ],
   "source": [
    " print(\"Frequency of unique values in predictions: \",np.asarray((unique_elements, counts_elements)))"
   ]
  },
  {
   "cell_type": "code",
   "execution_count": 59,
   "metadata": {},
   "outputs": [],
   "source": [
    " from sklearn.metrics import classification_report"
   ]
  },
  {
   "cell_type": "code",
   "execution_count": 60,
   "metadata": {},
   "outputs": [
    {
     "name": "stdout",
     "output_type": "stream",
     "text": [
      "              precision    recall  f1-score   support\n",
      "\n",
      "           0       0.32      0.04      0.07       274\n",
      "           1       0.76      0.98      0.86       869\n",
      "\n",
      "    accuracy                           0.75      1143\n",
      "   macro avg       0.54      0.51      0.46      1143\n",
      "weighted avg       0.66      0.75      0.67      1143\n",
      "\n"
     ]
    }
   ],
   "source": [
    " print(classification_report(y_test, predictions))"
   ]
  },
  {
   "cell_type": "code",
   "execution_count": 61,
   "metadata": {},
   "outputs": [],
   "source": [
    "from sklearn.metrics import confusion_matrix"
   ]
  },
  {
   "cell_type": "code",
   "execution_count": 62,
   "metadata": {},
   "outputs": [
    {
     "data": {
      "text/plain": [
       "array([[ 10, 264],\n",
       "       [ 21, 848]], dtype=int64)"
      ]
     },
     "execution_count": 62,
     "metadata": {},
     "output_type": "execute_result"
    }
   ],
   "source": [
    " confusion_matrix(y_test,predictions)"
   ]
  },
  {
   "cell_type": "code",
   "execution_count": 63,
   "metadata": {},
   "outputs": [],
   "source": [
    "from sklearn.tree import DecisionTreeClassifier "
   ]
  },
  {
   "cell_type": "code",
   "execution_count": 64,
   "metadata": {},
   "outputs": [],
   "source": [
    "dtree = DecisionTreeClassifier()"
   ]
  },
  {
   "cell_type": "code",
   "execution_count": 65,
   "metadata": {},
   "outputs": [
    {
     "data": {
      "text/plain": [
       "DecisionTreeClassifier()"
      ]
     },
     "execution_count": 65,
     "metadata": {},
     "output_type": "execute_result"
    }
   ],
   "source": [
    "dtree.fit(X_train, y_train)"
   ]
  },
  {
   "cell_type": "code",
   "execution_count": 66,
   "metadata": {},
   "outputs": [],
   "source": [
    "dtree_pred = dtree.predict(X_test)"
   ]
  },
  {
   "cell_type": "code",
   "execution_count": 67,
   "metadata": {},
   "outputs": [
    {
     "name": "stdout",
     "output_type": "stream",
     "text": [
      "[[216  58]\n",
      " [ 90 779]]\n"
     ]
    }
   ],
   "source": [
    "cm_dtree = confusion_matrix(y_test,dtree_pred)\n",
    "print(cm_dtree)\n",
    "# [TN FP]\n",
    "# [FN TP]"
   ]
  },
  {
   "cell_type": "code",
   "execution_count": 68,
   "metadata": {},
   "outputs": [
    {
     "name": "stdout",
     "output_type": "stream",
     "text": [
      "3540    1\n",
      "798     1\n",
      "233     1\n",
      "3501    1\n",
      "1874    1\n",
      "       ..\n",
      "2129    1\n",
      "1750    1\n",
      "3526    1\n",
      "32      1\n",
      "300     1\n",
      "Name: orflg, Length: 90, dtype: int64\n"
     ]
    }
   ],
   "source": [
    "# False -ve\n",
    "print (X_test[(y_test == 1) & (dtree_pred == 0)]['orflg'])\n"
   ]
  },
  {
   "cell_type": "code",
   "execution_count": 69,
   "metadata": {},
   "outputs": [
    {
     "name": "stdout",
     "output_type": "stream",
     "text": [
      "3027    1\n",
      "885     1\n",
      "1259    1\n",
      "611     1\n",
      "353     1\n",
      "8       1\n",
      "2250    1\n",
      "1770    1\n",
      "168     1\n",
      "999     1\n",
      "2951    1\n",
      "215     1\n",
      "176     1\n",
      "2012    1\n",
      "2125    1\n",
      "3102    1\n",
      "1048    1\n",
      "772     1\n",
      "1693    1\n",
      "715     1\n",
      "3145    1\n",
      "2448    1\n",
      "179     1\n",
      "3190    1\n",
      "3458    1\n",
      "1135    1\n",
      "162     1\n",
      "2387    1\n",
      "2033    1\n",
      "175     1\n",
      "2991    1\n",
      "3491    1\n",
      "169     1\n",
      "2213    1\n",
      "3025    1\n",
      "1857    1\n",
      "3086    1\n",
      "76      1\n",
      "1910    1\n",
      "3232    1\n",
      "1234    1\n",
      "2789    1\n",
      "998     1\n",
      "3266    1\n",
      "2335    1\n",
      "831     1\n",
      "158     1\n",
      "2067    1\n",
      "954     1\n",
      "2792    1\n",
      "2940    1\n",
      "2462    1\n",
      "1994    1\n",
      "1921    1\n",
      "3460    1\n",
      "3371    1\n",
      "1073    1\n",
      "757     1\n",
      "Name: orflg, dtype: int64\n"
     ]
    }
   ],
   "source": [
    "# False +ve\n",
    "print (X_test[(y_test == 0) & (dtree_pred == 1)]['orflg'])\n",
    "# print (X_test[(y_test == 0) & (dtree_pred == 1)]['orflg'].count())"
   ]
  },
  {
   "cell_type": "code",
   "execution_count": 70,
   "metadata": {},
   "outputs": [
    {
     "data": {
      "text/plain": [
       "'Z62409'"
      ]
     },
     "execution_count": 70,
     "metadata": {},
     "output_type": "execute_result"
    }
   ],
   "source": [
    "# False -ve\n",
    "df_ml.loc[3540]['material']"
   ]
  },
  {
   "cell_type": "code",
   "execution_count": 71,
   "metadata": {},
   "outputs": [
    {
     "data": {
      "text/plain": [
       "1143"
      ]
     },
     "execution_count": 71,
     "metadata": {},
     "output_type": "execute_result"
    }
   ],
   "source": [
    "y_test.count()"
   ]
  },
  {
   "cell_type": "code",
   "execution_count": 72,
   "metadata": {},
   "outputs": [
    {
     "data": {
      "text/plain": [
       "'W54130N'"
      ]
     },
     "execution_count": 72,
     "metadata": {},
     "output_type": "execute_result"
    }
   ],
   "source": [
    "# False +ve\n",
    "df_ml.loc[3027]['material']"
   ]
  },
  {
   "cell_type": "code",
   "execution_count": 73,
   "metadata": {},
   "outputs": [
    {
     "name": "stdout",
     "output_type": "stream",
     "text": [
      "              precision    recall  f1-score   support\n",
      "\n",
      "           0       0.71      0.79      0.74       274\n",
      "           1       0.93      0.90      0.91       869\n",
      "\n",
      "    accuracy                           0.87      1143\n",
      "   macro avg       0.82      0.84      0.83      1143\n",
      "weighted avg       0.88      0.87      0.87      1143\n",
      "\n"
     ]
    }
   ],
   "source": [
    "print(classification_report(y_test, dtree_pred))"
   ]
  },
  {
   "cell_type": "code",
   "execution_count": 89,
   "metadata": {},
   "outputs": [
    {
     "data": {
      "text/plain": [
       "<AxesSubplot:xlabel='osmit', ylabel='Density'>"
      ]
     },
     "execution_count": 89,
     "metadata": {},
     "output_type": "execute_result"
    },
    {
     "data": {
      "image/png": "[encoded data removed]",
      "text/plain": [
       "<Figure size 432x288 with 1 Axes>"
      ]
     },
     "metadata": {
      "needs_background": "light"
     },
     "output_type": "display_data"
    }
   ],
   "source": [
    "sns.distplot(y_test-dtree_pred)"
   ]
  },
  {
   "cell_type": "code",
   "execution_count": 82,
   "metadata": {},
   "outputs": [
    {
     "data": {
      "text/plain": [
       "<matplotlib.collections.PathCollection at 0x1fb21ac6df0>"
      ]
     },
     "execution_count": 82,
     "metadata": {},
     "output_type": "execute_result"
    },
    {
     "data": {
      "image/png": "[encoded data removed]",
      "text/plain": [
       "<Figure size 432x288 with 1 Axes>"
      ]
     },
     "metadata": {
      "needs_background": "light"
     },
     "output_type": "display_data"
    }
   ],
   "source": [
    "plt.scatter(y_test,dtree_pred)\n"
   ]
  },
  {
   "cell_type": "code",
   "execution_count": 83,
   "metadata": {},
   "outputs": [],
   "source": [
    "from sklearn.ensemble import RandomForestClassifier"
   ]
  },
  {
   "cell_type": "code",
   "execution_count": 84,
   "metadata": {},
   "outputs": [],
   "source": [
    "rfc = RandomForestClassifier(n_estimators=1500)"
   ]
  },
  {
   "cell_type": "code",
   "execution_count": 85,
   "metadata": {},
   "outputs": [
    {
     "data": {
      "text/plain": [
       "RandomForestClassifier(n_estimators=1500)"
      ]
     },
     "execution_count": 85,
     "metadata": {},
     "output_type": "execute_result"
    }
   ],
   "source": [
    "rfc.fit(X_train, y_train)"
   ]
  },
  {
   "cell_type": "code",
   "execution_count": 86,
   "metadata": {},
   "outputs": [],
   "source": [
    "rfc_pred = rfc.predict(X_test)"
   ]
  },
  {
   "cell_type": "code",
   "execution_count": 87,
   "metadata": {},
   "outputs": [
    {
     "name": "stdout",
     "output_type": "stream",
     "text": [
      "[[215  59]\n",
      " [ 72 797]]\n",
      "\n",
      "\n",
      "              precision    recall  f1-score   support\n",
      "\n",
      "           0       0.75      0.78      0.77       274\n",
      "           1       0.93      0.92      0.92       869\n",
      "\n",
      "    accuracy                           0.89      1143\n",
      "   macro avg       0.84      0.85      0.85      1143\n",
      "weighted avg       0.89      0.89      0.89      1143\n",
      "\n"
     ]
    }
   ],
   "source": [
    "print(confusion_matrix(y_test,rfc_pred))\n",
    "print('\\n')\n",
    "print(classification_report(y_test,rfc_pred))"
   ]
  },
  {
   "cell_type": "code",
   "execution_count": 90,
   "metadata": {},
   "outputs": [
    {
     "name": "stderr",
     "output_type": "stream",
     "text": [
      "C:\\Users\\Abhijit Kadam\\anaconda3\\lib\\site-packages\\seaborn\\distributions.py:2551: FutureWarning: `distplot` is a deprecated function and will be removed in a future version. Please adapt your code to use either `displot` (a figure-level function with similar flexibility) or `histplot` (an axes-level function for histograms).\n",
      "  warnings.warn(msg, FutureWarning)\n"
     ]
    },
    {
     "data": {
      "text/plain": [
       "<AxesSubplot:xlabel='osmit', ylabel='Density'>"
      ]
     },
     "execution_count": 90,
     "metadata": {},
     "output_type": "execute_result"
    },
    {
     "data": {
      "image/png": "[encoded data removed]",
      "text/plain": [
       "<Figure size 432x288 with 1 Axes>"
      ]
     },
     "metadata": {
      "needs_background": "light"
     },
     "output_type": "display_data"
    }
   ],
   "source": [
    "sns.distplot(y_test-rfc_pred)"
   ]
  },
  {
   "cell_type": "code",
   "execution_count": 265,
   "metadata": {},
   "outputs": [],
   "source": [
    "from sklearn.svm import SVC"
   ]
  },
  {
   "cell_type": "code",
   "execution_count": 266,
   "metadata": {},
   "outputs": [],
   "source": [
    "model = SVC()"
   ]
  },
  {
   "cell_type": "code",
   "execution_count": 267,
   "metadata": {},
   "outputs": [],
   "source": [
    "# from sklearn.grid_search import GridSearchCV\n",
    "from sklearn.model_selection import GridSearchCV"
   ]
  },
  {
   "cell_type": "code",
   "execution_count": 268,
   "metadata": {},
   "outputs": [],
   "source": [
    "param_grid = {'C':[10,100,120],'gamma':[0.1,0.01,0.001]}"
   ]
  },
  {
   "cell_type": "code",
   "execution_count": 269,
   "metadata": {},
   "outputs": [],
   "source": [
    "grid = GridSearchCV(SVC(),param_grid,verbose=3)"
   ]
  },
  {
   "cell_type": "code",
   "execution_count": 270,
   "metadata": {},
   "outputs": [
    {
     "name": "stdout",
     "output_type": "stream",
     "text": [
      "Fitting 5 folds for each of 9 candidates, totalling 45 fits\n",
      "[CV] C=10, gamma=0.1 .................................................\n"
     ]
    },
    {
     "name": "stderr",
     "output_type": "stream",
     "text": [
      "[Parallel(n_jobs=1)]: Using backend SequentialBackend with 1 concurrent workers.\n"
     ]
    },
    {
     "name": "stdout",
     "output_type": "stream",
     "text": [
      "[CV] ..................... C=10, gamma=0.1, score=0.767, total=   0.8s\n",
      "[CV] C=10, gamma=0.1 .................................................\n"
     ]
    },
    {
     "name": "stderr",
     "output_type": "stream",
     "text": [
      "[Parallel(n_jobs=1)]: Done   1 out of   1 | elapsed:    0.7s remaining:    0.0s\n"
     ]
    },
    {
     "name": "stdout",
     "output_type": "stream",
     "text": [
      "[CV] ..................... C=10, gamma=0.1, score=0.786, total=   0.8s\n",
      "[CV] C=10, gamma=0.1 .................................................\n"
     ]
    },
    {
     "name": "stderr",
     "output_type": "stream",
     "text": [
      "[Parallel(n_jobs=1)]: Done   2 out of   2 | elapsed:    1.5s remaining:    0.0s\n"
     ]
    },
    {
     "name": "stdout",
     "output_type": "stream",
     "text": [
      "[CV] ..................... C=10, gamma=0.1, score=0.777, total=   0.7s\n",
      "[CV] C=10, gamma=0.1 .................................................\n",
      "[CV] ..................... C=10, gamma=0.1, score=0.764, total=   0.7s\n",
      "[CV] C=10, gamma=0.1 .................................................\n",
      "[CV] ..................... C=10, gamma=0.1, score=0.778, total=   0.7s\n",
      "[CV] C=10, gamma=0.01 ................................................\n",
      "[CV] .................... C=10, gamma=0.01, score=0.782, total=   0.8s\n",
      "[CV] C=10, gamma=0.01 ................................................\n",
      "[CV] .................... C=10, gamma=0.01, score=0.805, total=   0.7s\n",
      "[CV] C=10, gamma=0.01 ................................................\n",
      "[CV] .................... C=10, gamma=0.01, score=0.803, total=   0.7s\n",
      "[CV] C=10, gamma=0.01 ................................................\n",
      "[CV] .................... C=10, gamma=0.01, score=0.786, total=   0.7s\n",
      "[CV] C=10, gamma=0.01 ................................................\n",
      "[CV] .................... C=10, gamma=0.01, score=0.780, total=   0.7s\n",
      "[CV] C=10, gamma=0.001 ...............................................\n",
      "[CV] ................... C=10, gamma=0.001, score=0.795, total=   0.8s\n",
      "[CV] C=10, gamma=0.001 ...............................................\n",
      "[CV] ................... C=10, gamma=0.001, score=0.809, total=   0.7s\n",
      "[CV] C=10, gamma=0.001 ...............................................\n",
      "[CV] ................... C=10, gamma=0.001, score=0.807, total=   0.7s\n",
      "[CV] C=10, gamma=0.001 ...............................................\n",
      "[CV] ................... C=10, gamma=0.001, score=0.820, total=   0.7s\n",
      "[CV] C=10, gamma=0.001 ...............................................\n",
      "[CV] ................... C=10, gamma=0.001, score=0.812, total=   0.7s\n",
      "[CV] C=100, gamma=0.1 ................................................\n",
      "[CV] .................... C=100, gamma=0.1, score=0.767, total=   0.7s\n",
      "[CV] C=100, gamma=0.1 ................................................\n",
      "[CV] .................... C=100, gamma=0.1, score=0.786, total=   0.7s\n",
      "[CV] C=100, gamma=0.1 ................................................\n",
      "[CV] .................... C=100, gamma=0.1, score=0.777, total=   0.7s\n",
      "[CV] C=100, gamma=0.1 ................................................\n",
      "[CV] .................... C=100, gamma=0.1, score=0.767, total=   0.7s\n",
      "[CV] C=100, gamma=0.1 ................................................\n",
      "[CV] .................... C=100, gamma=0.1, score=0.778, total=   0.7s\n",
      "[CV] C=100, gamma=0.01 ...............................................\n",
      "[CV] ................... C=100, gamma=0.01, score=0.779, total=   0.7s\n",
      "[CV] C=100, gamma=0.01 ...............................................\n",
      "[CV] ................... C=100, gamma=0.01, score=0.812, total=   0.7s\n",
      "[CV] C=100, gamma=0.01 ...............................................\n",
      "[CV] ................... C=100, gamma=0.01, score=0.794, total=   0.7s\n",
      "[CV] C=100, gamma=0.01 ...............................................\n",
      "[CV] ................... C=100, gamma=0.01, score=0.795, total=   0.8s\n",
      "[CV] C=100, gamma=0.01 ...............................................\n",
      "[CV] ................... C=100, gamma=0.01, score=0.773, total=   0.7s\n",
      "[CV] C=100, gamma=0.001 ..............................................\n",
      "[CV] .................. C=100, gamma=0.001, score=0.803, total=   0.9s\n",
      "[CV] C=100, gamma=0.001 ..............................................\n",
      "[CV] .................. C=100, gamma=0.001, score=0.812, total=   1.2s\n",
      "[CV] C=100, gamma=0.001 ..............................................\n",
      "[CV] .................. C=100, gamma=0.001, score=0.814, total=   1.2s\n",
      "[CV] C=100, gamma=0.001 ..............................................\n",
      "[CV] .................. C=100, gamma=0.001, score=0.822, total=   1.6s\n",
      "[CV] C=100, gamma=0.001 ..............................................\n",
      "[CV] .................. C=100, gamma=0.001, score=0.808, total=   0.9s\n",
      "[CV] C=120, gamma=0.1 ................................................\n",
      "[CV] .................... C=120, gamma=0.1, score=0.767, total=   0.9s\n",
      "[CV] C=120, gamma=0.1 ................................................\n",
      "[CV] .................... C=120, gamma=0.1, score=0.786, total=   0.7s\n",
      "[CV] C=120, gamma=0.1 ................................................\n",
      "[CV] .................... C=120, gamma=0.1, score=0.777, total=   0.7s\n",
      "[CV] C=120, gamma=0.1 ................................................\n",
      "[CV] .................... C=120, gamma=0.1, score=0.767, total=   0.7s\n",
      "[CV] C=120, gamma=0.1 ................................................\n",
      "[CV] .................... C=120, gamma=0.1, score=0.778, total=   0.7s\n",
      "[CV] C=120, gamma=0.01 ...............................................\n",
      "[CV] ................... C=120, gamma=0.01, score=0.779, total=   0.8s\n",
      "[CV] C=120, gamma=0.01 ...............................................\n",
      "[CV] ................... C=120, gamma=0.01, score=0.811, total=   0.7s\n",
      "[CV] C=120, gamma=0.01 ...............................................\n",
      "[CV] ................... C=120, gamma=0.01, score=0.797, total=   0.7s\n",
      "[CV] C=120, gamma=0.01 ...............................................\n",
      "[CV] ................... C=120, gamma=0.01, score=0.795, total=   0.9s\n",
      "[CV] C=120, gamma=0.01 ...............................................\n",
      "[CV] ................... C=120, gamma=0.01, score=0.773, total=   1.1s\n",
      "[CV] C=120, gamma=0.001 ..............................................\n",
      "[CV] .................. C=120, gamma=0.001, score=0.801, total=   1.0s\n",
      "[CV] C=120, gamma=0.001 ..............................................\n",
      "[CV] .................. C=120, gamma=0.001, score=0.811, total=   1.3s\n",
      "[CV] C=120, gamma=0.001 ..............................................\n",
      "[CV] .................. C=120, gamma=0.001, score=0.816, total=   1.0s\n",
      "[CV] C=120, gamma=0.001 ..............................................\n",
      "[CV] .................. C=120, gamma=0.001, score=0.824, total=   0.9s\n",
      "[CV] C=120, gamma=0.001 ..............................................\n",
      "[CV] .................. C=120, gamma=0.001, score=0.812, total=   1.1s\n"
     ]
    },
    {
     "name": "stderr",
     "output_type": "stream",
     "text": [
      "[Parallel(n_jobs=1)]: Done  45 out of  45 | elapsed:   36.8s finished\n"
     ]
    },
    {
     "data": {
      "text/plain": [
       "GridSearchCV(estimator=SVC(),\n",
       "             param_grid={'C': [10, 100, 120], 'gamma': [0.1, 0.01, 0.001]},\n",
       "             verbose=3)"
      ]
     },
     "execution_count": 270,
     "metadata": {},
     "output_type": "execute_result"
    }
   ],
   "source": [
    "grid.fit(X_train, y_train)"
   ]
  },
  {
   "cell_type": "code",
   "execution_count": 271,
   "metadata": {},
   "outputs": [],
   "source": [
    "grid_predictions = grid.predict(X_test)"
   ]
  },
  {
   "cell_type": "code",
   "execution_count": 272,
   "metadata": {},
   "outputs": [
    {
     "name": "stdout",
     "output_type": "stream",
     "text": [
      "[[130 144]\n",
      " [ 80 789]]\n",
      "\n",
      "\n",
      "              precision    recall  f1-score   support\n",
      "\n",
      "           0       0.62      0.47      0.54       274\n",
      "           1       0.85      0.91      0.88       869\n",
      "\n",
      "    accuracy                           0.80      1143\n",
      "   macro avg       0.73      0.69      0.71      1143\n",
      "weighted avg       0.79      0.80      0.79      1143\n",
      "\n"
     ]
    }
   ],
   "source": [
    "print(confusion_matrix(y_test,grid_predictions))\n",
    "print('\\n')\n",
    "print(classification_report(y_test,grid_predictions))"
   ]
  },
  {
   "cell_type": "code",
   "execution_count": 273,
   "metadata": {},
   "outputs": [
    {
     "data": {
      "text/plain": [
       "{'C': 120, 'gamma': 0.001}"
      ]
     },
     "execution_count": 273,
     "metadata": {},
     "output_type": "execute_result"
    }
   ],
   "source": [
    "grid.best_params_"
   ]
  },
  {
   "cell_type": "code",
   "execution_count": 278,
   "metadata": {},
   "outputs": [
    {
     "data": {
      "text/html": [
       "<div>\n",
       "<style scoped>\n",
       "    .dataframe tbody tr th:only-of-type {\n",
       "        vertical-align: middle;\n",
       "    }\n",
       "\n",
       "    .dataframe tbody tr th {\n",
       "        vertical-align: top;\n",
       "    }\n",
       "\n",
       "    .dataframe thead th {\n",
       "        text-align: right;\n",
       "    }\n",
       "</style>\n",
       "<table border=\"1\" class=\"dataframe\">\n",
       "  <thead>\n",
       "    <tr style=\"text-align: right;\">\n",
       "      <th></th>\n",
       "      <th>orflg</th>\n",
       "      <th>ts_1</th>\n",
       "      <th>ts_2</th>\n",
       "      <th>ts_3</th>\n",
       "      <th>ts_4</th>\n",
       "      <th>ts_5</th>\n",
       "      <th>ts_6</th>\n",
       "      <th>ts_7</th>\n",
       "      <th>ts_8</th>\n",
       "      <th>ts_9</th>\n",
       "      <th>...</th>\n",
       "      <th>open_4</th>\n",
       "      <th>open_5</th>\n",
       "      <th>open_6</th>\n",
       "      <th>open_7</th>\n",
       "      <th>open_8</th>\n",
       "      <th>open_9</th>\n",
       "      <th>open_10</th>\n",
       "      <th>open_11</th>\n",
       "      <th>open_12</th>\n",
       "      <th>open_13</th>\n",
       "    </tr>\n",
       "  </thead>\n",
       "  <tbody>\n",
       "    <tr>\n",
       "      <th>0</th>\n",
       "      <td>1</td>\n",
       "      <td>642</td>\n",
       "      <td>6</td>\n",
       "      <td>6</td>\n",
       "      <td>6</td>\n",
       "      <td>486</td>\n",
       "      <td>6</td>\n",
       "      <td>289</td>\n",
       "      <td>505</td>\n",
       "      <td>190</td>\n",
       "      <td>...</td>\n",
       "      <td>1.55</td>\n",
       "      <td>434.96</td>\n",
       "      <td>14.73</td>\n",
       "      <td>1188.56</td>\n",
       "      <td>1804.85</td>\n",
       "      <td>1674.38</td>\n",
       "      <td>2461.52</td>\n",
       "      <td>412.94</td>\n",
       "      <td>1708.99</td>\n",
       "      <td>2.95</td>\n",
       "    </tr>\n",
       "    <tr>\n",
       "      <th>1</th>\n",
       "      <td>1</td>\n",
       "      <td>6</td>\n",
       "      <td>6</td>\n",
       "      <td>6</td>\n",
       "      <td>6</td>\n",
       "      <td>6</td>\n",
       "      <td>6</td>\n",
       "      <td>6</td>\n",
       "      <td>6</td>\n",
       "      <td>6</td>\n",
       "      <td>...</td>\n",
       "      <td>0.00</td>\n",
       "      <td>0.00</td>\n",
       "      <td>0.00</td>\n",
       "      <td>0.00</td>\n",
       "      <td>0.00</td>\n",
       "      <td>0.00</td>\n",
       "      <td>0.00</td>\n",
       "      <td>0.00</td>\n",
       "      <td>0.00</td>\n",
       "      <td>0.00</td>\n",
       "    </tr>\n",
       "    <tr>\n",
       "      <th>2</th>\n",
       "      <td>1</td>\n",
       "      <td>11053</td>\n",
       "      <td>11053</td>\n",
       "      <td>10477</td>\n",
       "      <td>10477</td>\n",
       "      <td>10453</td>\n",
       "      <td>10453</td>\n",
       "      <td>10453</td>\n",
       "      <td>10453</td>\n",
       "      <td>10453</td>\n",
       "      <td>...</td>\n",
       "      <td>0.00</td>\n",
       "      <td>0.00</td>\n",
       "      <td>0.00</td>\n",
       "      <td>0.00</td>\n",
       "      <td>0.00</td>\n",
       "      <td>0.00</td>\n",
       "      <td>0.00</td>\n",
       "      <td>0.00</td>\n",
       "      <td>0.00</td>\n",
       "      <td>0.00</td>\n",
       "    </tr>\n",
       "    <tr>\n",
       "      <th>3</th>\n",
       "      <td>1</td>\n",
       "      <td>7</td>\n",
       "      <td>7</td>\n",
       "      <td>7</td>\n",
       "      <td>7</td>\n",
       "      <td>7</td>\n",
       "      <td>7</td>\n",
       "      <td>7</td>\n",
       "      <td>7</td>\n",
       "      <td>7</td>\n",
       "      <td>...</td>\n",
       "      <td>0.00</td>\n",
       "      <td>0.00</td>\n",
       "      <td>0.00</td>\n",
       "      <td>0.00</td>\n",
       "      <td>0.00</td>\n",
       "      <td>0.00</td>\n",
       "      <td>0.00</td>\n",
       "      <td>0.00</td>\n",
       "      <td>0.00</td>\n",
       "      <td>0.00</td>\n",
       "    </tr>\n",
       "  </tbody>\n",
       "</table>\n",
       "<p>4 rows × 40 columns</p>\n",
       "</div>"
      ],
      "text/plain": [
       "   orflg   ts_1   ts_2   ts_3   ts_4   ts_5   ts_6   ts_7   ts_8   ts_9  ...  \\\n",
       "0      1    642      6      6      6    486      6    289    505    190  ...   \n",
       "1      1      6      6      6      6      6      6      6      6      6  ...   \n",
       "2      1  11053  11053  10477  10477  10453  10453  10453  10453  10453  ...   \n",
       "3      1      7      7      7      7      7      7      7      7      7  ...   \n",
       "\n",
       "   open_4  open_5  open_6   open_7   open_8   open_9  open_10  open_11  \\\n",
       "0    1.55  434.96   14.73  1188.56  1804.85  1674.38  2461.52   412.94   \n",
       "1    0.00    0.00    0.00     0.00     0.00     0.00     0.00     0.00   \n",
       "2    0.00    0.00    0.00     0.00     0.00     0.00     0.00     0.00   \n",
       "3    0.00    0.00    0.00     0.00     0.00     0.00     0.00     0.00   \n",
       "\n",
       "   open_12  open_13  \n",
       "0  1708.99     2.95  \n",
       "1     0.00     0.00  \n",
       "2     0.00     0.00  \n",
       "3     0.00     0.00  \n",
       "\n",
       "[4 rows x 40 columns]"
      ]
     },
     "execution_count": 278,
     "metadata": {},
     "output_type": "execute_result"
    }
   ],
   "source": [
    "df_pred = pd.read_csv('PLANT_4600 Prediction.csv')\n",
    "df_pred"
   ]
  },
  {
   "cell_type": "code",
   "execution_count": 279,
   "metadata": {},
   "outputs": [],
   "source": [
    "X_pred = df_pred"
   ]
  },
  {
   "cell_type": "code",
   "execution_count": 280,
   "metadata": {},
   "outputs": [],
   "source": [
    "logRegPred = logmodel.predict(X_pred)"
   ]
  },
  {
   "cell_type": "code",
   "execution_count": 281,
   "metadata": {},
   "outputs": [
    {
     "name": "stdout",
     "output_type": "stream",
     "text": [
      "[1 1 1 1]\n"
     ]
    }
   ],
   "source": [
    "print(logRegPred)"
   ]
  },
  {
   "cell_type": "code",
   "execution_count": 282,
   "metadata": {},
   "outputs": [],
   "source": [
    "dtreePred = dtree.predict(X_pred)"
   ]
  },
  {
   "cell_type": "code",
   "execution_count": 288,
   "metadata": {},
   "outputs": [
    {
     "name": "stdout",
     "output_type": "stream",
     "text": [
      "[1 0 1 0]\n"
     ]
    }
   ],
   "source": [
    "print(dtreePred)\n",
    "# 0 --> OBSOLETE\n",
    "# 1 --> Active\n",
    "# [1,0,0,0]"
   ]
  },
  {
   "cell_type": "code",
   "execution_count": 289,
   "metadata": {},
   "outputs": [],
   "source": [
    "rfcPred = rfc.predict(X_pred)"
   ]
  },
  {
   "cell_type": "code",
   "execution_count": 290,
   "metadata": {},
   "outputs": [
    {
     "name": "stdout",
     "output_type": "stream",
     "text": [
      "[1 0 0 1]\n"
     ]
    }
   ],
   "source": [
    "print(rfcPred)"
   ]
  },
  {
   "cell_type": "code",
   "execution_count": 291,
   "metadata": {},
   "outputs": [],
   "source": [
    "svcPred = grid.predict(X_pred)"
   ]
  },
  {
   "cell_type": "code",
   "execution_count": 292,
   "metadata": {},
   "outputs": [
    {
     "name": "stdout",
     "output_type": "stream",
     "text": [
      "[1 0 1 0]\n"
     ]
    }
   ],
   "source": [
    "print(svcPred)"
   ]
  },
  {
   "cell_type": "code",
   "execution_count": 293,
   "metadata": {},
   "outputs": [],
   "source": [
    "grid_predictions = grid.predict(X_pred)"
   ]
  },
  {
   "cell_type": "code",
   "execution_count": 294,
   "metadata": {},
   "outputs": [
    {
     "name": "stdout",
     "output_type": "stream",
     "text": [
      "[1 0 1 0]\n"
     ]
    }
   ],
   "source": [
    "print(grid_predictions)"
   ]
  },
  {
   "cell_type": "code",
   "execution_count": null,
   "metadata": {},
   "outputs": [],
   "source": []
  }
 ],
 "metadata": {
  "kernelspec": {
   "display_name": "Python 3",
   "language": "python",
   "name": "python3"
  },
  "language_info": {
   "codemirror_mode": {
    "name": "ipython",
    "version": 3
   },
   "file_extension": ".py",
   "mimetype": "text/x-python",
   "name": "python",
   "nbconvert_exporter": "python",
   "pygments_lexer": "ipython3",
   "version": "3.8.5"
  }
 },
 "nbformat": 4,
 "nbformat_minor": 4
}
