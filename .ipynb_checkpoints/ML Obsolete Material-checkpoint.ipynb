{
 "cells": [
  {
   "cell_type": "code",
   "execution_count": 1,
   "metadata": {},
   "outputs": [],
   "source": [
    "import pandas as pd\n",
    "import numpy as np\n",
    "import matplotlib.pyplot as plt\n",
    "import seaborn as sns"
   ]
  },
  {
   "cell_type": "code",
   "execution_count": 2,
   "metadata": {},
   "outputs": [],
   "source": [
    "%matplotlib inline"
   ]
  },
  {
   "cell_type": "code",
   "execution_count": 3,
   "metadata": {},
   "outputs": [
    {
     "name": "stderr",
     "output_type": "stream",
     "text": [
      "C:\\Users\\Abhijit Kadam\\anaconda3\\lib\\site-packages\\IPython\\core\\interactiveshell.py:3146: DtypeWarning: Columns (48) have mixed types.Specify dtype option on import or set low_memory=False.\n",
      "  has_raised = await self.run_ast_nodes(code_ast.body, cell_name,\n"
     ]
    }
   ],
   "source": [
    "df1 = pd.read_csv('NMM304DA_I.csv')"
   ]
  },
  {
   "cell_type": "code",
   "execution_count": 4,
   "metadata": {},
   "outputs": [],
   "source": [
    "df1.columns = df1.columns.str.replace(' ','')"
   ]
  },
  {
   "cell_type": "code",
   "execution_count": 5,
   "metadata": {},
   "outputs": [],
   "source": [
    "df1['MATERIAL']=df1['MATERIAL'].astype(\"string\")"
   ]
  },
  {
   "cell_type": "code",
   "execution_count": 6,
   "metadata": {},
   "outputs": [],
   "source": [
    "df2 = pd.read_csv('NMM304DA_II.csv')"
   ]
  },
  {
   "cell_type": "code",
   "execution_count": 7,
   "metadata": {},
   "outputs": [],
   "source": [
    "df2.columns = df2.columns.str.replace(' ','')\n",
    "df2['MATERIAL'] = df2['MATERIAL'].astype(\"string\")"
   ]
  },
  {
   "cell_type": "code",
   "execution_count": 8,
   "metadata": {},
   "outputs": [],
   "source": [
    "df_all = pd.merge(df1, df2, how='inner',on=['CALMONTH','COUNTRY','MATERIAL','PLANT'])"
   ]
  },
  {
   "cell_type": "code",
   "execution_count": 10,
   "metadata": {},
   "outputs": [],
   "source": [
    "#df_all.head()"
   ]
  },
  {
   "cell_type": "code",
   "execution_count": 25,
   "metadata": {},
   "outputs": [],
   "source": [
    "df = df_all[['CALMONTH','MATERIAL','PLANT','/BIC/NMM_OSMIT','/BIC/NMM_TDQW2','/BIC/NMM_TDQT1' , '/BIC/NMM_TDQT2']]\n",
    "#df.head()"
   ]
  },
  {
   "cell_type": "code",
   "execution_count": 26,
   "metadata": {},
   "outputs": [],
   "source": [
    "df.columns = df.columns.str.replace(' ','')"
   ]
  },
  {
   "cell_type": "code",
   "execution_count": 27,
   "metadata": {},
   "outputs": [
    {
     "name": "stderr",
     "output_type": "stream",
     "text": [
      "<ipython-input-27-32e7584aeba8>:1: SettingWithCopyWarning: \n",
      "A value is trying to be set on a copy of a slice from a DataFrame.\n",
      "Try using .loc[row_indexer,col_indexer] = value instead\n",
      "\n",
      "See the caveats in the documentation: https://pandas.pydata.org/pandas-docs/stable/user_guide/indexing.html#returning-a-view-versus-a-copy\n",
      "  df['/BIC/NMM_OSMIT']=df['/BIC/NMM_OSMIT'].astype(\"string\")\n",
      "<ipython-input-27-32e7584aeba8>:2: SettingWithCopyWarning: \n",
      "A value is trying to be set on a copy of a slice from a DataFrame.\n",
      "Try using .loc[row_indexer,col_indexer] = value instead\n",
      "\n",
      "See the caveats in the documentation: https://pandas.pydata.org/pandas-docs/stable/user_guide/indexing.html#returning-a-view-versus-a-copy\n",
      "  df['PLANT']=df['PLANT'].astype(\"string\")\n",
      "<ipython-input-27-32e7584aeba8>:3: SettingWithCopyWarning: \n",
      "A value is trying to be set on a copy of a slice from a DataFrame.\n",
      "Try using .loc[row_indexer,col_indexer] = value instead\n",
      "\n",
      "See the caveats in the documentation: https://pandas.pydata.org/pandas-docs/stable/user_guide/indexing.html#returning-a-view-versus-a-copy\n",
      "  df['CALMONTH'] = df['CALMONTH'].astype('string')\n"
     ]
    }
   ],
   "source": [
    "df['/BIC/NMM_OSMIT']=df['/BIC/NMM_OSMIT'].astype(\"string\")\n",
    "df['PLANT']=df['PLANT'].astype(\"string\")\n",
    "df['CALMONTH'] = df['CALMONTH'].astype('string') "
   ]
  },
  {
   "cell_type": "code",
   "execution_count": 28,
   "metadata": {},
   "outputs": [
    {
     "name": "stderr",
     "output_type": "stream",
     "text": [
      "<ipython-input-28-5a1c3679f834>:1: SettingWithCopyWarning: \n",
      "A value is trying to be set on a copy of a slice from a DataFrame.\n",
      "Try using .loc[row_indexer,col_indexer] = value instead\n",
      "\n",
      "See the caveats in the documentation: https://pandas.pydata.org/pandas-docs/stable/user_guide/indexing.html#returning-a-view-versus-a-copy\n",
      "  df['/BIC/NMM_TDQT1'] = df['/BIC/NMM_TDQT1'].astype(\"string\")\n"
     ]
    }
   ],
   "source": [
    "df['/BIC/NMM_TDQT1'] = df['/BIC/NMM_TDQT1'].astype(\"string\")"
   ]
  },
  {
   "cell_type": "code",
   "execution_count": 29,
   "metadata": {},
   "outputs": [
    {
     "name": "stderr",
     "output_type": "stream",
     "text": [
      "<ipython-input-29-424236609403>:1: SettingWithCopyWarning: \n",
      "A value is trying to be set on a copy of a slice from a DataFrame.\n",
      "Try using .loc[row_indexer,col_indexer] = value instead\n",
      "\n",
      "See the caveats in the documentation: https://pandas.pydata.org/pandas-docs/stable/user_guide/indexing.html#returning-a-view-versus-a-copy\n",
      "  df['/BIC/NMM_TDQT1'] = df['/BIC/NMM_TDQT1'].str.replace('.','')\n"
     ]
    }
   ],
   "source": [
    "df['/BIC/NMM_TDQT1'] = df['/BIC/NMM_TDQT1'].str.replace('.','')"
   ]
  },
  {
   "cell_type": "code",
   "execution_count": 31,
   "metadata": {},
   "outputs": [
    {
     "name": "stderr",
     "output_type": "stream",
     "text": [
      "<ipython-input-31-c87185714b8e>:1: SettingWithCopyWarning: \n",
      "A value is trying to be set on a copy of a slice from a DataFrame.\n",
      "Try using .loc[row_indexer,col_indexer] = value instead\n",
      "\n",
      "See the caveats in the documentation: https://pandas.pydata.org/pandas-docs/stable/user_guide/indexing.html#returning-a-view-versus-a-copy\n",
      "  df['/BIC/NMM_TDQT1'] = df['/BIC/NMM_TDQT1'].str.replace(',','')\n"
     ]
    }
   ],
   "source": [
    "df['/BIC/NMM_TDQT1'] = df['/BIC/NMM_TDQT1'].str.replace(',','')"
   ]
  },
  {
   "cell_type": "code",
   "execution_count": 34,
   "metadata": {},
   "outputs": [
    {
     "name": "stderr",
     "output_type": "stream",
     "text": [
      "<ipython-input-34-86256086cd55>:1: SettingWithCopyWarning: \n",
      "A value is trying to be set on a copy of a slice from a DataFrame.\n",
      "Try using .loc[row_indexer,col_indexer] = value instead\n",
      "\n",
      "See the caveats in the documentation: https://pandas.pydata.org/pandas-docs/stable/user_guide/indexing.html#returning-a-view-versus-a-copy\n",
      "  df['/BIC/NMM_TDQT1'] = df['/BIC/NMM_TDQT1'].astype(\"float\")\n"
     ]
    }
   ],
   "source": [
    "df['/BIC/NMM_TDQT1'] = df['/BIC/NMM_TDQT1'].astype(\"float\")"
   ]
  },
  {
   "cell_type": "code",
   "execution_count": 35,
   "metadata": {},
   "outputs": [
    {
     "name": "stderr",
     "output_type": "stream",
     "text": [
      "<ipython-input-35-aac0f8217a7c>:1: SettingWithCopyWarning: \n",
      "A value is trying to be set on a copy of a slice from a DataFrame.\n",
      "Try using .loc[row_indexer,col_indexer] = value instead\n",
      "\n",
      "See the caveats in the documentation: https://pandas.pydata.org/pandas-docs/stable/user_guide/indexing.html#returning-a-view-versus-a-copy\n",
      "  df['/BIC/NMM_TDQT1'] = df['/BIC/NMM_TDQT1']/1000\n"
     ]
    }
   ],
   "source": [
    "df['/BIC/NMM_TDQT1'] = df['/BIC/NMM_TDQT1']/1000"
   ]
  },
  {
   "cell_type": "code",
   "execution_count": 37,
   "metadata": {},
   "outputs": [
    {
     "data": {
      "text/plain": [
       "Index(['CALMONTH', 'MATERIAL', 'PLANT', '/BIC/NMM_OSMIT', '/BIC/NMM_TDQW2',\n",
       "       '/BIC/NMM_TDQT1', '/BIC/NMM_TDQT2'],\n",
       "      dtype='object')"
      ]
     },
     "execution_count": 37,
     "metadata": {},
     "output_type": "execute_result"
    }
   ],
   "source": [
    "df.columns"
   ]
  },
  {
   "cell_type": "code",
   "execution_count": 38,
   "metadata": {},
   "outputs": [
    {
     "name": "stderr",
     "output_type": "stream",
     "text": [
      "<ipython-input-38-ba4a6d28ceee>:1: SettingWithCopyWarning: \n",
      "A value is trying to be set on a copy of a slice from a DataFrame.\n",
      "Try using .loc[row_indexer,col_indexer] = value instead\n",
      "\n",
      "See the caveats in the documentation: https://pandas.pydata.org/pandas-docs/stable/user_guide/indexing.html#returning-a-view-versus-a-copy\n",
      "  df['/BIC/NMM_TDQT2'] = df['/BIC/NMM_TDQT2'].astype(\"string\")\n",
      "<ipython-input-38-ba4a6d28ceee>:2: SettingWithCopyWarning: \n",
      "A value is trying to be set on a copy of a slice from a DataFrame.\n",
      "Try using .loc[row_indexer,col_indexer] = value instead\n",
      "\n",
      "See the caveats in the documentation: https://pandas.pydata.org/pandas-docs/stable/user_guide/indexing.html#returning-a-view-versus-a-copy\n",
      "  df['/BIC/NMM_TDQT2'] = df['/BIC/NMM_TDQT2'].str.replace('.','')\n",
      "<ipython-input-38-ba4a6d28ceee>:3: SettingWithCopyWarning: \n",
      "A value is trying to be set on a copy of a slice from a DataFrame.\n",
      "Try using .loc[row_indexer,col_indexer] = value instead\n",
      "\n",
      "See the caveats in the documentation: https://pandas.pydata.org/pandas-docs/stable/user_guide/indexing.html#returning-a-view-versus-a-copy\n",
      "  df['/BIC/NMM_TDQT2'] = df['/BIC/NMM_TDQT2'].str.replace(',','')\n",
      "<ipython-input-38-ba4a6d28ceee>:4: SettingWithCopyWarning: \n",
      "A value is trying to be set on a copy of a slice from a DataFrame.\n",
      "Try using .loc[row_indexer,col_indexer] = value instead\n",
      "\n",
      "See the caveats in the documentation: https://pandas.pydata.org/pandas-docs/stable/user_guide/indexing.html#returning-a-view-versus-a-copy\n",
      "  df['/BIC/NMM_TDQT2'] = df['/BIC/NMM_TDQT2'].astype(\"float\")\n",
      "<ipython-input-38-ba4a6d28ceee>:5: SettingWithCopyWarning: \n",
      "A value is trying to be set on a copy of a slice from a DataFrame.\n",
      "Try using .loc[row_indexer,col_indexer] = value instead\n",
      "\n",
      "See the caveats in the documentation: https://pandas.pydata.org/pandas-docs/stable/user_guide/indexing.html#returning-a-view-versus-a-copy\n",
      "  df['/BIC/NMM_TDQT2'] = df['/BIC/NMM_TDQT2']/1000\n"
     ]
    }
   ],
   "source": [
    "df['/BIC/NMM_TDQT2'] = df['/BIC/NMM_TDQT2'].astype(\"string\")\n",
    "df['/BIC/NMM_TDQT2'] = df['/BIC/NMM_TDQT2'].str.replace('.','')\n",
    "df['/BIC/NMM_TDQT2'] = df['/BIC/NMM_TDQT2'].str.replace(',','')\n",
    "df['/BIC/NMM_TDQT2'] = df['/BIC/NMM_TDQT2'].astype(\"float\")\n",
    "df['/BIC/NMM_TDQT2'] = df['/BIC/NMM_TDQT2']/1000"
   ]
  },
  {
   "cell_type": "code",
   "execution_count": 40,
   "metadata": {},
   "outputs": [
    {
     "name": "stderr",
     "output_type": "stream",
     "text": [
      "<ipython-input-40-360297a29222>:1: SettingWithCopyWarning: \n",
      "A value is trying to be set on a copy of a slice from a DataFrame.\n",
      "Try using .loc[row_indexer,col_indexer] = value instead\n",
      "\n",
      "See the caveats in the documentation: https://pandas.pydata.org/pandas-docs/stable/user_guide/indexing.html#returning-a-view-versus-a-copy\n",
      "  df['/BIC/NMM_TDQW2'] = df['/BIC/NMM_TDQW2'].astype(\"string\")\n",
      "<ipython-input-40-360297a29222>:2: SettingWithCopyWarning: \n",
      "A value is trying to be set on a copy of a slice from a DataFrame.\n",
      "Try using .loc[row_indexer,col_indexer] = value instead\n",
      "\n",
      "See the caveats in the documentation: https://pandas.pydata.org/pandas-docs/stable/user_guide/indexing.html#returning-a-view-versus-a-copy\n",
      "  df['/BIC/NMM_TDQW2'] = df['/BIC/NMM_TDQW2'].str.replace('.','')\n",
      "<ipython-input-40-360297a29222>:3: SettingWithCopyWarning: \n",
      "A value is trying to be set on a copy of a slice from a DataFrame.\n",
      "Try using .loc[row_indexer,col_indexer] = value instead\n",
      "\n",
      "See the caveats in the documentation: https://pandas.pydata.org/pandas-docs/stable/user_guide/indexing.html#returning-a-view-versus-a-copy\n",
      "  df['/BIC/NMM_TDQW2'] = df['/BIC/NMM_TDQW2'].str.replace(',','')\n",
      "<ipython-input-40-360297a29222>:4: SettingWithCopyWarning: \n",
      "A value is trying to be set on a copy of a slice from a DataFrame.\n",
      "Try using .loc[row_indexer,col_indexer] = value instead\n",
      "\n",
      "See the caveats in the documentation: https://pandas.pydata.org/pandas-docs/stable/user_guide/indexing.html#returning-a-view-versus-a-copy\n",
      "  df['/BIC/NMM_TDQW2'] = df['/BIC/NMM_TDQW2'].astype(\"float\")\n",
      "<ipython-input-40-360297a29222>:5: SettingWithCopyWarning: \n",
      "A value is trying to be set on a copy of a slice from a DataFrame.\n",
      "Try using .loc[row_indexer,col_indexer] = value instead\n",
      "\n",
      "See the caveats in the documentation: https://pandas.pydata.org/pandas-docs/stable/user_guide/indexing.html#returning-a-view-versus-a-copy\n",
      "  df['/BIC/NMM_TDQW2'] = df['/BIC/NMM_TDQW2']/1000\n"
     ]
    }
   ],
   "source": [
    "df['/BIC/NMM_TDQW2'] = df['/BIC/NMM_TDQW2'].astype(\"string\")\n",
    "df['/BIC/NMM_TDQW2'] = df['/BIC/NMM_TDQW2'].str.replace('.','')\n",
    "df['/BIC/NMM_TDQW2'] = df['/BIC/NMM_TDQW2'].str.replace(',','')\n",
    "df['/BIC/NMM_TDQW2'] = df['/BIC/NMM_TDQW2'].astype(\"float\")\n",
    "df['/BIC/NMM_TDQW2'] = df['/BIC/NMM_TDQW2']/1000\n"
   ]
  },
  {
   "cell_type": "code",
   "execution_count": 51,
   "metadata": {},
   "outputs": [
    {
     "name": "stderr",
     "output_type": "stream",
     "text": [
      "<ipython-input-51-478da5d5c9f1>:1: SettingWithCopyWarning: \n",
      "A value is trying to be set on a copy of a slice from a DataFrame.\n",
      "Try using .loc[row_indexer,col_indexer] = value instead\n",
      "\n",
      "See the caveats in the documentation: https://pandas.pydata.org/pandas-docs/stable/user_guide/indexing.html#returning-a-view-versus-a-copy\n",
      "  df['/BIC/NMM_OSMIT'] = df['/BIC/NMM_OSMIT'].str.replace(' ','')\n"
     ]
    }
   ],
   "source": [
    "df['/BIC/NMM_OSMIT'] = df['/BIC/NMM_OSMIT'].str.replace(' ','')"
   ]
  },
  {
   "cell_type": "code",
   "execution_count": 53,
   "metadata": {},
   "outputs": [],
   "source": [
    "osmit_obs = ['OBSOLETE']\n",
    "df_obsolete = df[df['/BIC/NMM_OSMIT'].isin(osmit_obs)]"
   ]
  },
  {
   "cell_type": "code",
   "execution_count": 54,
   "metadata": {},
   "outputs": [
    {
     "name": "stdout",
     "output_type": "stream",
     "text": [
      "<class 'pandas.core.frame.DataFrame'>\n",
      "Int64Index: 6208 entries, 69 to 36956\n",
      "Data columns (total 7 columns):\n",
      " #   Column          Non-Null Count  Dtype  \n",
      "---  ------          --------------  -----  \n",
      " 0   CALMONTH        6208 non-null   string \n",
      " 1   MATERIAL        6208 non-null   string \n",
      " 2   PLANT           6208 non-null   string \n",
      " 3   /BIC/NMM_OSMIT  6208 non-null   string \n",
      " 4   /BIC/NMM_TDQW2  6208 non-null   float64\n",
      " 5   /BIC/NMM_TDQT1  6208 non-null   float64\n",
      " 6   /BIC/NMM_TDQT2  6208 non-null   float64\n",
      "dtypes: float64(3), string(4)\n",
      "memory usage: 388.0 KB\n"
     ]
    }
   ],
   "source": [
    "df_obsolete.info()"
   ]
  },
  {
   "cell_type": "code",
   "execution_count": 82,
   "metadata": {},
   "outputs": [],
   "source": [
    "df_obs_s = df_obsolete.sample(frac=0.2,random_state=101)"
   ]
  },
  {
   "cell_type": "code",
   "execution_count": 83,
   "metadata": {},
   "outputs": [
    {
     "name": "stdout",
     "output_type": "stream",
     "text": [
      "<class 'pandas.core.frame.DataFrame'>\n",
      "Int64Index: 1242 entries, 11680 to 10253\n",
      "Data columns (total 7 columns):\n",
      " #   Column          Non-Null Count  Dtype  \n",
      "---  ------          --------------  -----  \n",
      " 0   CALMONTH        1242 non-null   string \n",
      " 1   MATERIAL        1242 non-null   string \n",
      " 2   PLANT           1242 non-null   string \n",
      " 3   /BIC/NMM_OSMIT  1242 non-null   string \n",
      " 4   /BIC/NMM_TDQW2  1242 non-null   float64\n",
      " 5   /BIC/NMM_TDQT1  1242 non-null   float64\n",
      " 6   /BIC/NMM_TDQT2  1242 non-null   float64\n",
      "dtypes: float64(3), string(4)\n",
      "memory usage: 77.6 KB\n"
     ]
    }
   ],
   "source": [
    "df_obs_s.info()"
   ]
  },
  {
   "cell_type": "code",
   "execution_count": 84,
   "metadata": {},
   "outputs": [],
   "source": [
    "df_obs_s['CALMONTH'] = pd.to_datetime(df_obs_s['CALMONTH'], format='%Y%m')"
   ]
  },
  {
   "cell_type": "code",
   "execution_count": 89,
   "metadata": {},
   "outputs": [
    {
     "data": {
      "image/png": "[encoded data removed]",
      "text/plain": [
       "<Figure size 1080x288 with 1 Axes>"
      ]
     },
     "metadata": {},
     "output_type": "display_data"
    }
   ],
   "source": [
    "plt.figure(figsize=(15,4))\n",
    "g = sns.lineplot(x=df_obs_s['CALMONTH'], y=df_obs_s['/BIC/NMM_TDQT1'],\n",
    "             hue=df_obs_s['MATERIAL'])\n",
    "g.get_legend().remove()"
   ]
  },
  {
   "cell_type": "code",
   "execution_count": 75,
   "metadata": {},
   "outputs": [
    {
     "data": {
      "text/plain": [
       "30927   2021-02-01\n",
       "17974   2020-10-01\n",
       "25658   2020-12-01\n",
       "27693   2021-01-01\n",
       "25644   2020-12-01\n",
       "           ...    \n",
       "24527   2020-12-01\n",
       "14467   2020-09-01\n",
       "8825    2020-07-01\n",
       "19294   2020-10-01\n",
       "14942   2020-09-01\n",
       "Name: CALMONTH, Length: 621, dtype: datetime64[ns]"
      ]
     },
     "execution_count": 75,
     "metadata": {},
     "output_type": "execute_result"
    }
   ],
   "source": [
    "# https://datatofish.com/strings-to-datetime-pandas/\n"
   ]
  },
  {
   "cell_type": "code",
   "execution_count": 90,
   "metadata": {},
   "outputs": [],
   "source": [
    "df_obs_s_m = df_obs_s[df_obs_s['CALMONTH']>'2020-08']"
   ]
  },
  {
   "cell_type": "code",
   "execution_count": 94,
   "metadata": {},
   "outputs": [],
   "source": [
    "df_obs_m = df[df['MATERIAL'].isin(df_obs_s_m['MATERIAL'])]"
   ]
  },
  {
   "cell_type": "code",
   "execution_count": 95,
   "metadata": {},
   "outputs": [
    {
     "name": "stdout",
     "output_type": "stream",
     "text": [
      "<class 'pandas.core.frame.DataFrame'>\n",
      "Int64Index: 6133 entries, 30 to 36956\n",
      "Data columns (total 7 columns):\n",
      " #   Column          Non-Null Count  Dtype  \n",
      "---  ------          --------------  -----  \n",
      " 0   CALMONTH        6133 non-null   string \n",
      " 1   MATERIAL        6133 non-null   string \n",
      " 2   PLANT           6133 non-null   string \n",
      " 3   /BIC/NMM_OSMIT  6133 non-null   string \n",
      " 4   /BIC/NMM_TDQW2  6133 non-null   float64\n",
      " 5   /BIC/NMM_TDQT1  6133 non-null   float64\n",
      " 6   /BIC/NMM_TDQT2  6133 non-null   float64\n",
      "dtypes: float64(3), string(4)\n",
      "memory usage: 383.3 KB\n"
     ]
    }
   ],
   "source": [
    "df_obs_m.info()"
   ]
  },
  {
   "cell_type": "code",
   "execution_count": 98,
   "metadata": {},
   "outputs": [],
   "source": [
    "df_obs_m_hist_s = df_obs_m.sample(frac=0.1)"
   ]
  },
  {
   "cell_type": "code",
   "execution_count": 101,
   "metadata": {},
   "outputs": [
    {
     "data": {
      "image/png": "[encoded data removed]",
      "text/plain": [
       "<Figure size 1080x288 with 1 Axes>"
      ]
     },
     "metadata": {},
     "output_type": "display_data"
    }
   ],
   "source": [
    "plt.figure(figsize=(15,4))\n",
    "g = sns.lineplot(x=df_obs_m_hist_s['CALMONTH'], y=df_obs_m_hist_s['/BIC/NMM_TDQT1'],\n",
    "             hue=df_obs_m_hist_s['MATERIAL'])\n",
    "g.get_legend().remove()"
   ]
  },
  {
   "cell_type": "code",
   "execution_count": 104,
   "metadata": {},
   "outputs": [
    {
     "data": {
      "text/html": [
       "<div>\n",
       "<style scoped>\n",
       "    .dataframe tbody tr th:only-of-type {\n",
       "        vertical-align: middle;\n",
       "    }\n",
       "\n",
       "    .dataframe tbody tr th {\n",
       "        vertical-align: top;\n",
       "    }\n",
       "\n",
       "    .dataframe thead th {\n",
       "        text-align: right;\n",
       "    }\n",
       "</style>\n",
       "<table border=\"1\" class=\"dataframe\">\n",
       "  <thead>\n",
       "    <tr style=\"text-align: right;\">\n",
       "      <th></th>\n",
       "      <th>CALMONTH</th>\n",
       "      <th>MATERIAL</th>\n",
       "      <th>PLANT</th>\n",
       "      <th>/BIC/NMM_OSMIT</th>\n",
       "      <th>/BIC/NMM_TDQW2</th>\n",
       "      <th>/BIC/NMM_TDQT1</th>\n",
       "      <th>/BIC/NMM_TDQT2</th>\n",
       "    </tr>\n",
       "  </thead>\n",
       "  <tbody>\n",
       "    <tr>\n",
       "      <th>12019</th>\n",
       "      <td>202008</td>\n",
       "      <td>1014659</td>\n",
       "      <td>4160</td>\n",
       "      <td>EXCESS</td>\n",
       "      <td>0.0</td>\n",
       "      <td>0.0</td>\n",
       "      <td>0.0</td>\n",
       "    </tr>\n",
       "    <tr>\n",
       "      <th>27468</th>\n",
       "      <td>202101</td>\n",
       "      <td>1014659</td>\n",
       "      <td>4160</td>\n",
       "      <td>OBSOLETE</td>\n",
       "      <td>0.0</td>\n",
       "      <td>0.0</td>\n",
       "      <td>0.0</td>\n",
       "    </tr>\n",
       "    <tr>\n",
       "      <th>30936</th>\n",
       "      <td>202102</td>\n",
       "      <td>1015186</td>\n",
       "      <td>4160</td>\n",
       "      <td>OBSOLETE</td>\n",
       "      <td>0.0</td>\n",
       "      <td>0.0</td>\n",
       "      <td>0.0</td>\n",
       "    </tr>\n",
       "    <tr>\n",
       "      <th>9083</th>\n",
       "      <td>202007</td>\n",
       "      <td>1015188</td>\n",
       "      <td>4160</td>\n",
       "      <td>OBSOLETE</td>\n",
       "      <td>0.0</td>\n",
       "      <td>0.0</td>\n",
       "      <td>0.0</td>\n",
       "    </tr>\n",
       "    <tr>\n",
       "      <th>17945</th>\n",
       "      <td>202010</td>\n",
       "      <td>1015188</td>\n",
       "      <td>4160</td>\n",
       "      <td>OBSOLETE</td>\n",
       "      <td>0.0</td>\n",
       "      <td>0.0</td>\n",
       "      <td>0.0</td>\n",
       "    </tr>\n",
       "    <tr>\n",
       "      <th>...</th>\n",
       "      <td>...</td>\n",
       "      <td>...</td>\n",
       "      <td>...</td>\n",
       "      <td>...</td>\n",
       "      <td>...</td>\n",
       "      <td>...</td>\n",
       "      <td>...</td>\n",
       "    </tr>\n",
       "    <tr>\n",
       "      <th>14981</th>\n",
       "      <td>202009</td>\n",
       "      <td>992267</td>\n",
       "      <td>4160</td>\n",
       "      <td>EXCESS</td>\n",
       "      <td>0.0</td>\n",
       "      <td>0.0</td>\n",
       "      <td>0.0</td>\n",
       "    </tr>\n",
       "    <tr>\n",
       "      <th>30919</th>\n",
       "      <td>202102</td>\n",
       "      <td>992267</td>\n",
       "      <td>4160</td>\n",
       "      <td>OBSOLETE</td>\n",
       "      <td>0.0</td>\n",
       "      <td>0.0</td>\n",
       "      <td>0.0</td>\n",
       "    </tr>\n",
       "    <tr>\n",
       "      <th>1123</th>\n",
       "      <td>202004</td>\n",
       "      <td>992305</td>\n",
       "      <td>4160</td>\n",
       "      <td>OBSOLETE</td>\n",
       "      <td>0.0</td>\n",
       "      <td>0.0</td>\n",
       "      <td>0.0</td>\n",
       "    </tr>\n",
       "    <tr>\n",
       "      <th>12012</th>\n",
       "      <td>202008</td>\n",
       "      <td>992305</td>\n",
       "      <td>4160</td>\n",
       "      <td>OBSOLETE</td>\n",
       "      <td>0.0</td>\n",
       "      <td>0.0</td>\n",
       "      <td>0.0</td>\n",
       "    </tr>\n",
       "    <tr>\n",
       "      <th>6194</th>\n",
       "      <td>202006</td>\n",
       "      <td>993346</td>\n",
       "      <td>4160</td>\n",
       "      <td>EXCESS</td>\n",
       "      <td>0.0</td>\n",
       "      <td>0.0</td>\n",
       "      <td>0.0</td>\n",
       "    </tr>\n",
       "  </tbody>\n",
       "</table>\n",
       "<p>613 rows × 7 columns</p>\n",
       "</div>"
      ],
      "text/plain": [
       "      CALMONTH MATERIAL PLANT /BIC/NMM_OSMIT  /BIC/NMM_TDQW2  /BIC/NMM_TDQT1  \\\n",
       "12019   202008  1014659  4160         EXCESS             0.0             0.0   \n",
       "27468   202101  1014659  4160       OBSOLETE             0.0             0.0   \n",
       "30936   202102  1015186  4160       OBSOLETE             0.0             0.0   \n",
       "9083    202007  1015188  4160       OBSOLETE             0.0             0.0   \n",
       "17945   202010  1015188  4160       OBSOLETE             0.0             0.0   \n",
       "...        ...      ...   ...            ...             ...             ...   \n",
       "14981   202009   992267  4160         EXCESS             0.0             0.0   \n",
       "30919   202102   992267  4160       OBSOLETE             0.0             0.0   \n",
       "1123    202004   992305  4160       OBSOLETE             0.0             0.0   \n",
       "12012   202008   992305  4160       OBSOLETE             0.0             0.0   \n",
       "6194    202006   993346  4160         EXCESS             0.0             0.0   \n",
       "\n",
       "       /BIC/NMM_TDQT2  \n",
       "12019             0.0  \n",
       "27468             0.0  \n",
       "30936             0.0  \n",
       "9083              0.0  \n",
       "17945             0.0  \n",
       "...               ...  \n",
       "14981             0.0  \n",
       "30919             0.0  \n",
       "1123              0.0  \n",
       "12012             0.0  \n",
       "6194              0.0  \n",
       "\n",
       "[613 rows x 7 columns]"
      ]
     },
     "execution_count": 104,
     "metadata": {},
     "output_type": "execute_result"
    }
   ],
   "source": [
    "df_obs_m_hist_s.sort_values(by=['MATERIAL','CALMONTH'])"
   ]
  },
  {
   "cell_type": "code",
   "execution_count": null,
   "metadata": {},
   "outputs": [],
   "source": []
  }
 ],
 "metadata": {
  "kernelspec": {
   "display_name": "Python 3",
   "language": "python",
   "name": "python3"
  },
  "language_info": {
   "codemirror_mode": {
    "name": "ipython",
    "version": 3
   },
   "file_extension": ".py",
   "mimetype": "text/x-python",
   "name": "python",
   "nbconvert_exporter": "python",
   "pygments_lexer": "ipython3",
   "version": "3.8.5"
  }
 },
 "nbformat": 4,
 "nbformat_minor": 4
}
