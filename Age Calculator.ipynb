{
 "cells": [
  {
   "cell_type": "code",
   "execution_count": 22,
   "metadata": {
    "scrolled": true
   },
   "outputs": [
    {
     "name": "stdout",
     "output_type": "stream",
     "text": [
      "Tanishka 's age is  13\n"
     ]
    }
   ],
   "source": [
    "from datetime import date\n",
    "\n",
    "class Student():\n",
    "    def __init__ (self, name, rollno, dob):\n",
    "        self.name = name\n",
    "        self.rollno = rollno\n",
    "        self.dob = dob\n",
    "    def calculate_age(self):\n",
    "        day, month, year = self.dob.split(\"/\")\n",
    "        today_date = date.today()\n",
    "        age = today_date.year - int(year)\n",
    "        name = self.name\n",
    "        print(name,\"'s age is \",age) \n",
    "\n",
    "s1 = Student('Tanishka', 27, '28/09/2008')\n",
    "s1.calculate_age()"
   ]
  },
  {
   "cell_type": "code",
   "execution_count": 2,
   "metadata": {},
   "outputs": [
    {
     "name": "stdout",
     "output_type": "stream",
     "text": [
      "Pls enter ur date of birth(day/month/year format)28/09/2008\n",
      "Tanishka 's age is  13\n"
     ]
    }
   ],
   "source": [
    "from datetime import date\n",
    "\n",
    "class Student1():\n",
    "    def __init__ (self, name, rollno):\n",
    "        self.name = name\n",
    "        self.rollno = rollno\n",
    "        self.dob = input('Pls enter ur date of birth(day/month/year format)')\n",
    "    def calculate_age(self):\n",
    "        day, month, year = self.dob.split(\"/\")\n",
    "        today_date = date.today()\n",
    "        age = today_date.year - int(year)\n",
    "        name = self.name\n",
    "        print(name,\"'s age is \",age) \n",
    "\n",
    "s1 = Student1('Tanishka', 27)\n",
    "s1.calculate_age()"
   ]
  },
  {
   "cell_type": "code",
   "execution_count": 4,
   "metadata": {},
   "outputs": [
    {
     "name": "stdout",
     "output_type": "stream",
     "text": [
      "Pls enter ur date of birth(day/month/year format)31/10/2012\n",
      "Aaradhya 's age is  9\n"
     ]
    }
   ],
   "source": [
    "s2 = Student1('Aaradhya', 1)\n",
    "s2.calculate_age()"
   ]
  },
  {
   "cell_type": "code",
   "execution_count": 49,
   "metadata": {},
   "outputs": [
    {
     "name": "stdout",
     "output_type": "stream",
     "text": [
      "Enter your name: t\n",
      "Roll no.: 2\n",
      "Pls enter ur date of birth(day/month/year format)12/23/3456\n",
      "Pls enter ur date of birth(day/month/year format)12/10/2004\n",
      "t 's age is  17\n",
      "Enter your name: a\n",
      "Roll no.: 3\n",
      "Pls enter ur date of birth(day/month/year format)sdf\n",
      "Pls enter ur date of birth(day/month/year format)adfds\n",
      "Pls enter ur date of birth(day/month/year format)adfda\n",
      "Pls enter ur date of birth(day/month/year format)45/12/2006\n",
      "Pls enter ur date of birth(day/month/year format)12/12/2006\n",
      "a 's age is  15\n"
     ]
    },
    {
     "data": {
      "text/plain": [
       "'  \\nd = [1,2,3,4,5,6,7,8,9,10]\\nfor i in d:\\n    si = Student2()\\n    si.calculate_age()\\n'"
      ]
     },
     "execution_count": 49,
     "metadata": {},
     "output_type": "execute_result"
    }
   ],
   "source": [
    "from datetime import date\n",
    "import re\n",
    "\n",
    "class Student2():\n",
    "    def __init__ (self):\n",
    "        self.name = input('Enter your name: ')\n",
    "        self.rollno = input ('Roll no.: ')\n",
    "#        self.dob = input('Pls enter ur date of birth(day/month/year format)')\n",
    "        pattern = \"^[1-3][0-9]/[0-1][0-9]/[0-9]{4}\"\n",
    "        dob_flag = False\n",
    "        while dob_flag != True:\n",
    "            user_ip = input('Pls enter ur date of birth(day/month/year format)')\n",
    "            ip_check = bool(re.match(pattern,user_ip))\n",
    "            if ip_check == True:\n",
    "                dob_flag = True\n",
    "                self.dob = user_ip\n",
    "            else:\n",
    "                dob_flag = False\n",
    "        \n",
    "    def calculate_age(self):\n",
    "        day, month, year = self.dob.split(\"/\")\n",
    "        today_date = date.today()\n",
    "        age = today_date.year - int(year)\n",
    "        name = self.name\n",
    "        print(name,\"'s age is \",age) \n",
    "\n",
    "\n",
    "for i in range(1,3):\n",
    "    si = Student2()\n",
    "    si.calculate_age()\n",
    "\n",
    "\"\"\"  \n",
    "d = [1,2,3,4,5,6,7,8,9,10]\n",
    "for i in d:\n",
    "    si = Student2()\n",
    "    si.calculate_age()\n",
    "\"\"\"    "
   ]
  },
  {
   "cell_type": "code",
   "execution_count": 47,
   "metadata": {},
   "outputs": [
    {
     "name": "stdout",
     "output_type": "stream",
     "text": [
      "Enter dob: 12/12/2004\n"
     ]
    },
    {
     "data": {
      "text/plain": [
       "True"
      ]
     },
     "execution_count": 47,
     "metadata": {},
     "output_type": "execute_result"
    }
   ],
   "source": [
    "import re\n",
    "pattern = \"^[1-3][0-9]/[0-1][0-9]/[0-9]{4}\"\n",
    "dob = input(\"Enter dob: \")\n",
    "a = bool(re.match(pattern, dob))\n",
    "a"
   ]
  },
  {
   "cell_type": "code",
   "execution_count": 50,
   "metadata": {},
   "outputs": [
    {
     "data": {
      "text/plain": [
       "'C:\\\\Users\\\\Amol'"
      ]
     },
     "execution_count": 50,
     "metadata": {},
     "output_type": "execute_result"
    }
   ],
   "source": [
    "pwd"
   ]
  },
  {
   "cell_type": "code",
   "execution_count": null,
   "metadata": {},
   "outputs": [],
   "source": []
  }
 ],
 "metadata": {
  "kernelspec": {
   "display_name": "Python 3",
   "language": "python",
   "name": "python3"
  },
  "language_info": {
   "codemirror_mode": {
    "name": "ipython",
    "version": 3
   },
   "file_extension": ".py",
   "mimetype": "text/x-python",
   "name": "python",
   "nbconvert_exporter": "python",
   "pygments_lexer": "ipython3",
   "version": "3.8.5"
  }
 },
 "nbformat": 4,
 "nbformat_minor": 4
}
