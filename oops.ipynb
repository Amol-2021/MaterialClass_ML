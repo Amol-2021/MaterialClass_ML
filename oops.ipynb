{
 "cells": [
  {
   "cell_type": "code",
   "execution_count": 1,
   "metadata": {},
   "outputs": [
    {
     "name": "stdout",
     "output_type": "stream",
     "text": [
      "Enter the first number:23\n",
      "Enter the second number:47\n",
      "Enter the operation:-\n",
      "0.48936170212765956\n"
     ]
    }
   ],
   "source": [
    "#Functions\n",
    "\n",
    "def add(a,b):\n",
    "    result = a+b\n",
    "    print(result)\n",
    "    \n",
    "    \n",
    "def sub(a,b):\n",
    "    result = a-b\n",
    "    print (result)\n",
    "    \n",
    "def mul(a,b):\n",
    "    result = a*b\n",
    "    print (result)\n",
    "    \n",
    "def sub(a,b):\n",
    "    result = a/b\n",
    "    print (result)\n",
    "    \n",
    "    \n",
    "a = int(input(\"Enter the first number:\"))\n",
    "b = int(input(\"Enter the second number:\"))\n",
    "op = input(\"Enter the operation:\")\n",
    "\n",
    "if op ==\"+\":\n",
    "    add(a,b)\n",
    "    \n",
    "elif op ==\"-\":\n",
    "    sub(a,b)\n",
    "    \n",
    "\n",
    "elif op ==\"*\":\n",
    "    mul(a,b)\n",
    "    \n",
    "    \n",
    "elif op ==\"/\":\n",
    "    div(a,b)"
   ]
  },
  {
   "cell_type": "code",
   "execution_count": 7,
   "metadata": {},
   "outputs": [],
   "source": [
    "#Funtions\n",
    "\n",
    "def odd_even(x):\n",
    "    if x%2 == 0:\n",
    "        print(x,\"is even\")\n",
    "    else:   print(x,\"is odd\")  "
   ]
  },
  {
   "cell_type": "code",
   "execution_count": 8,
   "metadata": {},
   "outputs": [
    {
     "name": "stdout",
     "output_type": "stream",
     "text": [
      "1429 is odd\n"
     ]
    }
   ],
   "source": [
    "odd_even(1429)"
   ]
  },
  {
   "cell_type": "code",
   "execution_count": 9,
   "metadata": {},
   "outputs": [
    {
     "name": "stdout",
     "output_type": "stream",
     "text": [
      "1720 is even\n"
     ]
    }
   ],
   "source": [
    "odd_even(1720)"
   ]
  },
  {
   "cell_type": "code",
   "execution_count": 27,
   "metadata": {
    "scrolled": true
   },
   "outputs": [
    {
     "name": "stdout",
     "output_type": "stream",
     "text": [
      "press q to quit\n",
      "Enter a number :45\n",
      "You entered a number greater than 6\n",
      "press q to quit\n",
      "Enter a number :21\n",
      "You entered a number greater than 6\n",
      "press q to quit\n",
      "Enter a number :3\n",
      "press q to quit\n",
      "Enter a number :q\n",
      "Thanks for playing\n"
     ]
    }
   ],
   "source": [
    "#Exeptional Handling\n",
    "\n",
    "while(True):\n",
    "    print(\"press q to quit\")\n",
    "    a = input(\"Enter a number :\")\n",
    "    if a == \"q\":\n",
    "        break\n",
    "    a = int(a)\n",
    "    if a>6:\n",
    "        print (\"You entered a number greater than 6\")\n",
    "print(\"Thanks for playing\")    "
   ]
  },
  {
   "cell_type": "code",
   "execution_count": 68,
   "metadata": {},
   "outputs": [
    {
     "data": {
      "text/plain": [
       "'http://newsrss.bbc.co.uk/weather/forecast/351/Next3DaysRSS.xml\\nkasjihdnweuisanufwhnudnfuwqi\\ndijfguerhjfuivngerufnvfhbtry\\neruhfuinhrvnrguth\\ncnerughfurftiuohorougohrueogh\\nnfruh48'"
      ]
     },
     "execution_count": 68,
     "metadata": {},
     "output_type": "execute_result"
    }
   ],
   "source": [
    "### File handling\n",
    "\n",
    "#python has several buils in module and funtions for creating,reading,updating,and deleting a file\n",
    "#order of file operation 1. open file 2. read,write 3. close file\n",
    "\n",
    "#open file\n",
    "\n",
    "f=open(\"C:/Users/Saurya Hadgal/Downloads/JARVIS CODE/scripts/weather/location.txt\")\n",
    "f=open(\"C:/Users/Saurya Hadgal/Downloads/JARVIS CODE/scripts/weather/location.txt\", 'r')\n",
    "f.read()"
   ]
  },
  {
   "cell_type": "code",
   "execution_count": 69,
   "metadata": {
    "scrolled": true
   },
   "outputs": [
    {
     "data": {
      "text/plain": [
       "'http://newsrss.bbc.co.uk/weather/forecast/351/Next3DaysRSS.xml\\nkasjihdnweuisanufwhnudnfuwqi\\ndijfguerhjfuivngerufnvfhbtry\\neruhfuinhrvnrguth\\ncnerughfurftiuohorougohrueogh\\nnfruh48'"
      ]
     },
     "execution_count": 69,
     "metadata": {},
     "output_type": "execute_result"
    }
   ],
   "source": [
    "f.seek(0) ##seek is used for position\n",
    "f.read()"
   ]
  },
  {
   "cell_type": "code",
   "execution_count": 71,
   "metadata": {},
   "outputs": [
    {
     "name": "stdout",
     "output_type": "stream",
     "text": [
      "[]\n"
     ]
    }
   ],
   "source": [
    "print(f.readlines())"
   ]
  },
  {
   "cell_type": "code",
   "execution_count": 72,
   "metadata": {},
   "outputs": [
    {
     "name": "stdout",
     "output_type": "stream",
     "text": [
      "name is Shaurya\n",
      "name is Rajdhani Express\n"
     ]
    }
   ],
   "source": [
    "# OOPs[Object Oriented Programming]\n",
    "\n",
    "class Railwayform:\n",
    "    def printdata(self):\n",
    "        print(f\"name is {self.name}\")\n",
    "        print(f\"name is {self.train}\")\n",
    "       \n",
    "Aviapplication = Railwayform()\n",
    "\n",
    "Aviapplication.name = \"Shaurya\"\n",
    "Aviapplication.train = \"Rajdhani Express\"\n",
    "Aviapplication.printdata()"
   ]
  },
  {
   "cell_type": "code",
   "execution_count": 12,
   "metadata": {},
   "outputs": [
    {
     "name": "stdout",
     "output_type": "stream",
     "text": [
      "Youtube\n",
      "Youtube\n"
     ]
    }
   ],
   "source": [
    "# OOPs\n",
    "\n",
    "class Employe:\n",
    "    company = \"Youtube\"\n",
    "    salary = 10000        #second preference Attribute present in class                   \n",
    "Avi = Employe()\n",
    "jais = Employe\n",
    "#Avi.salary = 30000        #adding instance attribute -----first preference attribute present in class\n",
    "jais.salary = 15000       #adding instance attribute\n",
    "print(Avi.company)\n",
    "print(jais.company)\n",
    "\n",
    "Employe.company = \"Google\""
   ]
  },
  {
   "cell_type": "code",
   "execution_count": 13,
   "metadata": {},
   "outputs": [
    {
     "name": "stdout",
     "output_type": "stream",
     "text": [
      "Google\n",
      "Google\n",
      "15000\n",
      "15000\n"
     ]
    }
   ],
   "source": [
    "print(Avi.company)\n",
    "print(jais.company)\n",
    "print(Avi.salary)\n",
    "print(jais.salary)"
   ]
  },
  {
   "cell_type": "code",
   "execution_count": 14,
   "metadata": {},
   "outputs": [],
   "source": [
    "# OOPs\n",
    "\n",
    "class mobile:\n",
    "    def make_call (self):\n",
    "         print (\"making phone call\")\n",
    "    def play_game(self):\n",
    "        print(\"playing game\")\n",
    "  "
   ]
  },
  {
   "cell_type": "code",
   "execution_count": 15,
   "metadata": {},
   "outputs": [],
   "source": [
    "p1 = mobile()"
   ]
  },
  {
   "cell_type": "code",
   "execution_count": 16,
   "metadata": {},
   "outputs": [
    {
     "name": "stdout",
     "output_type": "stream",
     "text": [
      "making phone call\n"
     ]
    }
   ],
   "source": [
    "p1.make_call()"
   ]
  },
  {
   "cell_type": "code",
   "execution_count": 17,
   "metadata": {},
   "outputs": [
    {
     "name": "stdout",
     "output_type": "stream",
     "text": [
      "playing game\n"
     ]
    }
   ],
   "source": [
    "p1.play_game()"
   ]
  },
  {
   "cell_type": "code",
   "execution_count": 18,
   "metadata": {},
   "outputs": [],
   "source": [
    "# OOPs\n",
    "\n",
    "class phone:\n",
    "    def set_color(self,color):\n",
    "        self.color=color\n",
    "        \n",
    "    def set_cost(self,cost):\n",
    "        self.cost=cost\n",
    "        \n",
    "    def show_color(self):\n",
    "        return self.color\n",
    "    def show_cost(self):\n",
    "        return self.cost\n",
    "    \n",
    "    def make_call(self):\n",
    "        print(\"makin phone call\")\n",
    "    def play_game(self):\n",
    "        print(\"playing the game\")"
   ]
  },
  {
   "cell_type": "code",
   "execution_count": 19,
   "metadata": {},
   "outputs": [],
   "source": [
    "# OOPs\n",
    "\n",
    "class Employee:\n",
    "    def __init__(self,name,age,salary,gender):\n",
    "        self.name = name\n",
    "        self.age = age\n",
    "        self.salary = salary\n",
    "        self.gender = gender\n",
    "        \n",
    "    def employe_details(self):\n",
    "        print(\"Name of employe is \", self.name)\n",
    "        print(\"Age of employe is \", self.age)\n",
    "        print(\"Salary of employe is \", self.salary)\n",
    "        print(\"Gender of employe is \", self.gender)"
   ]
  },
  {
   "cell_type": "code",
   "execution_count": 20,
   "metadata": {},
   "outputs": [],
   "source": [
    "e1 = Employee('Sean',27,10000, 'male')"
   ]
  },
  {
   "cell_type": "code",
   "execution_count": 21,
   "metadata": {},
   "outputs": [
    {
     "name": "stdout",
     "output_type": "stream",
     "text": [
      "Name of employe is  Sean\n",
      "Age of employe is  27\n",
      "Salary of employe is  10000\n",
      "Gender of employe is  male\n"
     ]
    }
   ],
   "source": [
    "e1.employe_details()"
   ]
  },
  {
   "cell_type": "code",
   "execution_count": 22,
   "metadata": {},
   "outputs": [],
   "source": [
    "# OOPs\n",
    "\n",
    "class Student:\n",
    "    def __init__(self,name,age,gender,roll_no):\n",
    "        self.name = name\n",
    "        self.age = age\n",
    "        self.gender = gender\n",
    "        self.roll_no = roll_no\n",
    "        \n",
    "    def student_details(self):\n",
    "        print(\"Name of student is \", self.name)\n",
    "        print(\"Age of student is \", self.age)\n",
    "        print(\"Gender of student is \", self.gender)\n",
    "        print(\"Roll no. of student is \", self.roll_no)"
   ]
  },
  {
   "cell_type": "code",
   "execution_count": 23,
   "metadata": {},
   "outputs": [],
   "source": [
    "s1 = Student(\"Shaurya\",12,\"Male\",18)"
   ]
  },
  {
   "cell_type": "code",
   "execution_count": 24,
   "metadata": {},
   "outputs": [
    {
     "name": "stdout",
     "output_type": "stream",
     "text": [
      "Name of student is  Shaurya\n",
      "Age of student is  12\n",
      "Gender of student is  Male\n",
      "Roll no. of student is  18\n"
     ]
    }
   ],
   "source": [
    "s1.student_details()"
   ]
  },
  {
   "cell_type": "code",
   "execution_count": 25,
   "metadata": {},
   "outputs": [
    {
     "name": "stdout",
     "output_type": "stream",
     "text": [
      "we initialize the object ....\n",
      "enter principle:2000\n",
      "enter rate:12\n",
      "enter time:4\n",
      "960.0\n"
     ]
    }
   ],
   "source": [
    "# OOPs\n",
    "\n",
    "class Simple_interest:\n",
    "    def __init__(self):\n",
    "              print(\"we initialize the object ....\")\n",
    "    def details(self):\n",
    "        self.p = int(input(\"enter principle:\"))\n",
    "        self.r = int(input(\"enter rate:\"))\n",
    "        self.t = int(input(\"enter time:\"))\n",
    "    def interest(self):\n",
    "        i = (self.p*self.r*self.t)/100\n",
    "        print(i)\n",
    "        \n",
    "x = Simple_interest()\n",
    "x.details()\n",
    "x.interest()"
   ]
  },
  {
   "cell_type": "code",
   "execution_count": null,
   "metadata": {},
   "outputs": [],
   "source": [
    "# OOPs(Inheritence)\n",
    "\n",
    "class Vehicle:   # Parent's Class\n",
    "    def __init__(self,milage,cost):\n",
    "        self.milage = milage\n",
    "        self.cost = cost\n",
    "    def show_details(self):\n",
    "        print('I am car')\n",
    "        print('Milage of car',self.milage)\n",
    "        print('cost of car',self.cost)"
   ]
  },
  {
   "cell_type": "code",
   "execution_count": null,
   "metadata": {},
   "outputs": [],
   "source": [
    "v1 = Vehicle(80,5000000)"
   ]
  },
  {
   "cell_type": "code",
   "execution_count": null,
   "metadata": {
    "scrolled": true
   },
   "outputs": [],
   "source": [
    "v1.show_details()"
   ]
  },
  {
   "cell_type": "code",
   "execution_count": null,
   "metadata": {},
   "outputs": [],
   "source": [
    "class car(Vehicle):\n",
    "    def show_car(self):\n",
    "        print('I am car')"
   ]
  },
  {
   "cell_type": "code",
   "execution_count": null,
   "metadata": {},
   "outputs": [],
   "source": [
    "c1 = car(120,8000000)"
   ]
  },
  {
   "cell_type": "code",
   "execution_count": null,
   "metadata": {
    "scrolled": true
   },
   "outputs": [],
   "source": [
    "c1.show_details()"
   ]
  },
  {
   "cell_type": "code",
   "execution_count": 74,
   "metadata": {},
   "outputs": [],
   "source": [
    "# Inheritence\n",
    "\n",
    "class Vehicle:  # Children's \n",
    "    def __init__(self,milage,cost):\n",
    "        self.milage = milage\n",
    "        self.cost = cost\n",
    "    def show_details(self):\n",
    "        print('I am car')\n",
    "        print('Milage of car',self.milage)\n",
    "        print('cost of car',self.cost)"
   ]
  },
  {
   "cell_type": "code",
   "execution_count": 75,
   "metadata": {},
   "outputs": [],
   "source": [
    "# Inheritence(Over-riding method)\n",
    "\n",
    "class car(Vehicle): \n",
    "    def __init__(self, milage,cost,tyre,hp):\n",
    "        self.tyre = tyre\n",
    "        self.hp = hp\n",
    "    def show_car_details(self):\n",
    "        print(\"number of tyres\", self.tyre)\n",
    "        print(\"hp of car\", self.hp)\n",
    "        print('I am car')"
   ]
  },
  {
   "cell_type": "code",
   "execution_count": 76,
   "metadata": {},
   "outputs": [],
   "source": [
    "c1= car(120,8000000,4,65.8)"
   ]
  },
  {
   "cell_type": "code",
   "execution_count": 77,
   "metadata": {},
   "outputs": [
    {
     "name": "stdout",
     "output_type": "stream",
     "text": [
      "number of tyres 4\n",
      "hp of car 65.8\n",
      "I am car\n"
     ]
    }
   ],
   "source": [
    "c1.show_car_details()"
   ]
  },
  {
   "cell_type": "code",
   "execution_count": 78,
   "metadata": {},
   "outputs": [],
   "source": [
    "# Inheritence(multiple Inheritence)\n",
    "\n",
    "class parent1(): # Parent 1\n",
    "    def assign_string_one(self,str1):\n",
    "        self.str1 = str1\n",
    "    def show_details_one(self):\n",
    "        return self.str1"
   ]
  },
  {
   "cell_type": "code",
   "execution_count": 79,
   "metadata": {},
   "outputs": [],
   "source": [
    "class parent2(): # Parent 2\n",
    "    def assign_string_two(self,str2):\n",
    "        self.str2 = str2\n",
    "    def show_details_two(self):\n",
    "        return self.str2"
   ]
  },
  {
   "cell_type": "code",
   "execution_count": 80,
   "metadata": {},
   "outputs": [],
   "source": [
    "class derived(parent1,parent2): # children's class\n",
    "    def assign_string_three(self,str3):\n",
    "        self.str3 = str3\n",
    "    def show_details_three(self):\n",
    "        return self.str3"
   ]
  },
  {
   "cell_type": "code",
   "execution_count": 81,
   "metadata": {},
   "outputs": [],
   "source": [
    "d1 = derived()"
   ]
  },
  {
   "cell_type": "code",
   "execution_count": 82,
   "metadata": {},
   "outputs": [],
   "source": [
    "d1.assign_string_one('I am string one')"
   ]
  },
  {
   "cell_type": "code",
   "execution_count": 83,
   "metadata": {},
   "outputs": [],
   "source": [
    "d1.assign_string_two('I am string two')"
   ]
  },
  {
   "cell_type": "code",
   "execution_count": 84,
   "metadata": {},
   "outputs": [],
   "source": [
    "d1.assign_string_three('I am string three')"
   ]
  },
  {
   "cell_type": "code",
   "execution_count": 85,
   "metadata": {
    "scrolled": true
   },
   "outputs": [
    {
     "data": {
      "text/plain": [
       "'I am string one'"
      ]
     },
     "execution_count": 85,
     "metadata": {},
     "output_type": "execute_result"
    }
   ],
   "source": [
    "d1.show_details_one()"
   ]
  },
  {
   "cell_type": "code",
   "execution_count": 86,
   "metadata": {},
   "outputs": [
    {
     "data": {
      "text/plain": [
       "'I am string two'"
      ]
     },
     "execution_count": 86,
     "metadata": {},
     "output_type": "execute_result"
    }
   ],
   "source": [
    "d1.show_details_two()"
   ]
  },
  {
   "cell_type": "code",
   "execution_count": 87,
   "metadata": {},
   "outputs": [
    {
     "data": {
      "text/plain": [
       "'I am string three'"
      ]
     },
     "execution_count": 87,
     "metadata": {},
     "output_type": "execute_result"
    }
   ],
   "source": [
    "d1.show_details_three()"
   ]
  },
  {
   "cell_type": "code",
   "execution_count": 88,
   "metadata": {},
   "outputs": [],
   "source": [
    "# Regular Expressions\n",
    "\n",
    "import re"
   ]
  },
  {
   "cell_type": "code",
   "execution_count": 89,
   "metadata": {},
   "outputs": [
    {
     "name": "stdout",
     "output_type": "stream",
     "text": [
      "<re.Match object; span=(0, 3), match='abc'>\n"
     ]
    }
   ],
   "source": [
    "pattern = r\"^abc\"\n",
    "mystring = \"abcdefghijk\"\n",
    "print(re.match(pattern,mystring))"
   ]
  },
  {
   "cell_type": "code",
   "execution_count": 90,
   "metadata": {},
   "outputs": [],
   "source": [
    "pattern = \"(^[a-zA-Z0-9_.+-]+@[a-zA-Z0-9-]+\\.[a-zA-Z0-9-.]+$)\" "
   ]
  },
  {
   "cell_type": "code",
   "execution_count": 91,
   "metadata": {},
   "outputs": [
    {
     "name": "stdout",
     "output_type": "stream",
     "text": [
      "<re.Match object; span=(0, 13), match='abc@gmail.com'>\n"
     ]
    }
   ],
   "source": [
    "email = \"abc@gmail.com\"\n",
    "print(re.match(pattern,email))"
   ]
  },
  {
   "cell_type": "code",
   "execution_count": 92,
   "metadata": {},
   "outputs": [
    {
     "name": "stdout",
     "output_type": "stream",
     "text": [
      "None\n"
     ]
    }
   ],
   "source": [
    "email = \"abcgmail.com\"\n",
    "print(re.match(pattern,email))"
   ]
  },
  {
   "cell_type": "code",
   "execution_count": 93,
   "metadata": {},
   "outputs": [],
   "source": [
    "# Arrays\n",
    "\n",
    "import array as arr"
   ]
  },
  {
   "cell_type": "code",
   "execution_count": 94,
   "metadata": {},
   "outputs": [
    {
     "data": {
      "text/plain": [
       "array('i', [1, 2, 3, 4, 5, 6])"
      ]
     },
     "execution_count": 94,
     "metadata": {},
     "output_type": "execute_result"
    }
   ],
   "source": [
    "a=arr.array(\"i\",[1,2,3,4,5,6])\n",
    "a"
   ]
  },
  {
   "cell_type": "code",
   "execution_count": 95,
   "metadata": {},
   "outputs": [
    {
     "data": {
      "text/plain": [
       "6"
      ]
     },
     "execution_count": 95,
     "metadata": {},
     "output_type": "execute_result"
    }
   ],
   "source": [
    "len(a)"
   ]
  },
  {
   "cell_type": "code",
   "execution_count": 103,
   "metadata": {},
   "outputs": [],
   "source": [
    "a.append(7)"
   ]
  },
  {
   "cell_type": "code",
   "execution_count": 104,
   "metadata": {},
   "outputs": [
    {
     "data": {
      "text/plain": [
       "array('i', [1, 2, 3, 4, 7])"
      ]
     },
     "execution_count": 104,
     "metadata": {},
     "output_type": "execute_result"
    }
   ],
   "source": [
    "a"
   ]
  },
  {
   "cell_type": "code",
   "execution_count": 106,
   "metadata": {},
   "outputs": [],
   "source": [
    "a.extend([8,9,10])"
   ]
  },
  {
   "cell_type": "code",
   "execution_count": 107,
   "metadata": {},
   "outputs": [
    {
     "data": {
      "text/plain": [
       "array('i', [1, 2, 3, 4, 7, 8, 9, 10])"
      ]
     },
     "execution_count": 107,
     "metadata": {},
     "output_type": "execute_result"
    }
   ],
   "source": [
    "a"
   ]
  },
  {
   "cell_type": "code",
   "execution_count": 100,
   "metadata": {},
   "outputs": [
    {
     "data": {
      "text/plain": [
       "7"
      ]
     },
     "execution_count": 100,
     "metadata": {},
     "output_type": "execute_result"
    }
   ],
   "source": [
    "a.pop(-4)"
   ]
  },
  {
   "cell_type": "code",
   "execution_count": 108,
   "metadata": {},
   "outputs": [
    {
     "data": {
      "text/plain": [
       "array('i', [1, 2, 3, 4, 7, 8, 9, 10])"
      ]
     },
     "execution_count": 108,
     "metadata": {},
     "output_type": "execute_result"
    }
   ],
   "source": [
    "a"
   ]
  },
  {
   "cell_type": "code",
   "execution_count": 109,
   "metadata": {},
   "outputs": [
    {
     "data": {
      "text/plain": [
       "array('i', [1, 2, 3, 4, 5, 6, 7, 8])"
      ]
     },
     "execution_count": 109,
     "metadata": {},
     "output_type": "execute_result"
    }
   ],
   "source": [
    "a=arr.array('i',[1,2,3,4])\n",
    "b=arr.array('i',[5,6,7,8])\n",
    "c=arr.array('i')\n",
    "d= a+b\n",
    "d"
   ]
  },
  {
   "cell_type": "code",
   "execution_count": 110,
   "metadata": {},
   "outputs": [
    {
     "name": "stdout",
     "output_type": "stream",
     "text": [
      "1\n",
      "2\n",
      "3\n",
      "4\n",
      "5\n",
      "6\n",
      "7\n",
      "8\n"
     ]
    }
   ],
   "source": [
    "for x in d:\n",
    "    print(x)"
   ]
  },
  {
   "cell_type": "code",
   "execution_count": 111,
   "metadata": {},
   "outputs": [
    {
     "name": "stdout",
     "output_type": "stream",
     "text": [
      "1\n",
      "2\n",
      "3\n",
      "4\n",
      "5\n",
      "6\n"
     ]
    }
   ],
   "source": [
    "for x in d[0:-2]:\n",
    "    print(x)"
   ]
  },
  {
   "cell_type": "code",
   "execution_count": 112,
   "metadata": {},
   "outputs": [],
   "source": [
    "# C.S.V(Comma Seperated Values)\n",
    "\n",
    "import pandas as pd\n",
    "import numpy as np"
   ]
  },
  {
   "cell_type": "code",
   "execution_count": 113,
   "metadata": {},
   "outputs": [
    {
     "name": "stderr",
     "output_type": "stream",
     "text": [
      "C:\\ProgramData\\Anaconda3\\lib\\site-packages\\IPython\\core\\interactiveshell.py:3146: DtypeWarning: Columns (1,2,10,11,13,14,15,16,17,18,19,20,22,23,24,25,26,27,28,31,32) have mixed types.Specify dtype option on import or set low_memory=False.\n",
      "  has_raised = await self.run_ast_nodes(code_ast.body, cell_name,\n"
     ]
    }
   ],
   "source": [
    "dataset = pd.read_csv(\"C:/Users/Saurya Hadgal/Downloads/Covid_Data.csv\")"
   ]
  },
  {
   "cell_type": "code",
   "execution_count": 114,
   "metadata": {},
   "outputs": [
    {
     "data": {
      "text/html": [
       "<div>\n",
       "<style scoped>\n",
       "    .dataframe tbody tr th:only-of-type {\n",
       "        vertical-align: middle;\n",
       "    }\n",
       "\n",
       "    .dataframe tbody tr th {\n",
       "        vertical-align: top;\n",
       "    }\n",
       "\n",
       "    .dataframe thead th {\n",
       "        text-align: right;\n",
       "    }\n",
       "</style>\n",
       "<table border=\"1\" class=\"dataframe\">\n",
       "  <thead>\n",
       "    <tr style=\"text-align: right;\">\n",
       "      <th></th>\n",
       "      <th>ID</th>\n",
       "      <th>age</th>\n",
       "      <th>sex</th>\n",
       "      <th>city</th>\n",
       "      <th>province</th>\n",
       "      <th>country</th>\n",
       "      <th>wuhan(0)_not_wuhan(1)</th>\n",
       "      <th>latitude</th>\n",
       "      <th>longitude</th>\n",
       "      <th>geo_resolution</th>\n",
       "      <th>...</th>\n",
       "      <th>date_death_or_discharge</th>\n",
       "      <th>notes_for_discussion</th>\n",
       "      <th>location</th>\n",
       "      <th>admin3</th>\n",
       "      <th>admin2</th>\n",
       "      <th>admin1</th>\n",
       "      <th>country_new</th>\n",
       "      <th>admin_id</th>\n",
       "      <th>data_moderator_initials</th>\n",
       "      <th>travel_history_binary</th>\n",
       "    </tr>\n",
       "  </thead>\n",
       "  <tbody>\n",
       "    <tr>\n",
       "      <th>0</th>\n",
       "      <td>000-1-</td>\n",
       "      <td>NaN</td>\n",
       "      <td>NaN</td>\n",
       "      <td>NaN</td>\n",
       "      <td>Pays de la Loire</td>\n",
       "      <td>France</td>\n",
       "      <td>1.0</td>\n",
       "      <td>47.48646</td>\n",
       "      <td>-0.81128</td>\n",
       "      <td>admin1</td>\n",
       "      <td>...</td>\n",
       "      <td>NaN</td>\n",
       "      <td>NaN</td>\n",
       "      <td>NaN</td>\n",
       "      <td>NaN</td>\n",
       "      <td>NaN</td>\n",
       "      <td>Pays de la Loire</td>\n",
       "      <td>France</td>\n",
       "      <td>12</td>\n",
       "      <td>NaN</td>\n",
       "      <td>NaN</td>\n",
       "    </tr>\n",
       "    <tr>\n",
       "      <th>1</th>\n",
       "      <td>000-1-</td>\n",
       "      <td>50-59</td>\n",
       "      <td>male</td>\n",
       "      <td>Snohomish County</td>\n",
       "      <td>Washington</td>\n",
       "      <td>United States</td>\n",
       "      <td>1.0</td>\n",
       "      <td>48.04818</td>\n",
       "      <td>-121.69600</td>\n",
       "      <td>admin2</td>\n",
       "      <td>...</td>\n",
       "      <td>NaN</td>\n",
       "      <td>NaN</td>\n",
       "      <td>NaN</td>\n",
       "      <td>NaN</td>\n",
       "      <td>Snohomish County</td>\n",
       "      <td>Washington</td>\n",
       "      <td>United States</td>\n",
       "      <td>2988</td>\n",
       "      <td>NaN</td>\n",
       "      <td>NaN</td>\n",
       "    </tr>\n",
       "    <tr>\n",
       "      <th>2</th>\n",
       "      <td>000-1-</td>\n",
       "      <td>NaN</td>\n",
       "      <td>NaN</td>\n",
       "      <td>NaN</td>\n",
       "      <td>NaN</td>\n",
       "      <td>NaN</td>\n",
       "      <td>NaN</td>\n",
       "      <td>NaN</td>\n",
       "      <td>NaN</td>\n",
       "      <td>NaN</td>\n",
       "      <td>...</td>\n",
       "      <td>NaN</td>\n",
       "      <td>NaN</td>\n",
       "      <td>NaN</td>\n",
       "      <td>NaN</td>\n",
       "      <td>NaN</td>\n",
       "      <td>NaN</td>\n",
       "      <td>NaN</td>\n",
       "      <td>NaN</td>\n",
       "      <td>NaN</td>\n",
       "      <td>NaN</td>\n",
       "    </tr>\n",
       "    <tr>\n",
       "      <th>3</th>\n",
       "      <td>000-1-</td>\n",
       "      <td>NaN</td>\n",
       "      <td>NaN</td>\n",
       "      <td>NaN</td>\n",
       "      <td>NaN</td>\n",
       "      <td>NaN</td>\n",
       "      <td>NaN</td>\n",
       "      <td>NaN</td>\n",
       "      <td>NaN</td>\n",
       "      <td>NaN</td>\n",
       "      <td>...</td>\n",
       "      <td>NaN</td>\n",
       "      <td>NaN</td>\n",
       "      <td>NaN</td>\n",
       "      <td>NaN</td>\n",
       "      <td>NaN</td>\n",
       "      <td>NaN</td>\n",
       "      <td>NaN</td>\n",
       "      <td>NaN</td>\n",
       "      <td>NaN</td>\n",
       "      <td>NaN</td>\n",
       "    </tr>\n",
       "    <tr>\n",
       "      <th>4</th>\n",
       "      <td>000-1-</td>\n",
       "      <td>NaN</td>\n",
       "      <td>NaN</td>\n",
       "      <td>NaN</td>\n",
       "      <td>NaN</td>\n",
       "      <td>NaN</td>\n",
       "      <td>NaN</td>\n",
       "      <td>NaN</td>\n",
       "      <td>NaN</td>\n",
       "      <td>NaN</td>\n",
       "      <td>...</td>\n",
       "      <td>NaN</td>\n",
       "      <td>NaN</td>\n",
       "      <td>NaN</td>\n",
       "      <td>NaN</td>\n",
       "      <td>NaN</td>\n",
       "      <td>NaN</td>\n",
       "      <td>NaN</td>\n",
       "      <td>NaN</td>\n",
       "      <td>NaN</td>\n",
       "      <td>NaN</td>\n",
       "    </tr>\n",
       "  </tbody>\n",
       "</table>\n",
       "<p>5 rows × 34 columns</p>\n",
       "</div>"
      ],
      "text/plain": [
       "       ID    age   sex              city          province        country  \\\n",
       "0  000-1-    NaN   NaN               NaN  Pays de la Loire         France   \n",
       "1  000-1-  50-59  male  Snohomish County        Washington  United States   \n",
       "2  000-1-    NaN   NaN               NaN               NaN            NaN   \n",
       "3  000-1-    NaN   NaN               NaN               NaN            NaN   \n",
       "4  000-1-    NaN   NaN               NaN               NaN            NaN   \n",
       "\n",
       "   wuhan(0)_not_wuhan(1)  latitude  longitude geo_resolution  ...  \\\n",
       "0                    1.0  47.48646   -0.81128         admin1  ...   \n",
       "1                    1.0  48.04818 -121.69600         admin2  ...   \n",
       "2                    NaN       NaN        NaN            NaN  ...   \n",
       "3                    NaN       NaN        NaN            NaN  ...   \n",
       "4                    NaN       NaN        NaN            NaN  ...   \n",
       "\n",
       "  date_death_or_discharge notes_for_discussion location admin3  \\\n",
       "0                     NaN                  NaN      NaN    NaN   \n",
       "1                     NaN                  NaN      NaN    NaN   \n",
       "2                     NaN                  NaN      NaN    NaN   \n",
       "3                     NaN                  NaN      NaN    NaN   \n",
       "4                     NaN                  NaN      NaN    NaN   \n",
       "\n",
       "             admin2            admin1    country_new admin_id  \\\n",
       "0               NaN  Pays de la Loire         France       12   \n",
       "1  Snohomish County        Washington  United States     2988   \n",
       "2               NaN               NaN            NaN      NaN   \n",
       "3               NaN               NaN            NaN      NaN   \n",
       "4               NaN               NaN            NaN      NaN   \n",
       "\n",
       "  data_moderator_initials travel_history_binary  \n",
       "0                     NaN                   NaN  \n",
       "1                     NaN                   NaN  \n",
       "2                     NaN                   NaN  \n",
       "3                     NaN                   NaN  \n",
       "4                     NaN                   NaN  \n",
       "\n",
       "[5 rows x 34 columns]"
      ]
     },
     "execution_count": 114,
     "metadata": {},
     "output_type": "execute_result"
    }
   ],
   "source": [
    "dataset.head()"
   ]
  },
  {
   "cell_type": "code",
   "execution_count": 115,
   "metadata": {},
   "outputs": [
    {
     "data": {
      "text/html": [
       "<div>\n",
       "<style scoped>\n",
       "    .dataframe tbody tr th:only-of-type {\n",
       "        vertical-align: middle;\n",
       "    }\n",
       "\n",
       "    .dataframe tbody tr th {\n",
       "        vertical-align: top;\n",
       "    }\n",
       "\n",
       "    .dataframe thead th {\n",
       "        text-align: right;\n",
       "    }\n",
       "</style>\n",
       "<table border=\"1\" class=\"dataframe\">\n",
       "  <thead>\n",
       "    <tr style=\"text-align: right;\">\n",
       "      <th></th>\n",
       "      <th>ID</th>\n",
       "      <th>age</th>\n",
       "      <th>sex</th>\n",
       "      <th>city</th>\n",
       "      <th>province</th>\n",
       "      <th>country</th>\n",
       "      <th>wuhan(0)_not_wuhan(1)</th>\n",
       "      <th>latitude</th>\n",
       "      <th>longitude</th>\n",
       "      <th>geo_resolution</th>\n",
       "      <th>...</th>\n",
       "      <th>date_death_or_discharge</th>\n",
       "      <th>notes_for_discussion</th>\n",
       "      <th>location</th>\n",
       "      <th>admin3</th>\n",
       "      <th>admin2</th>\n",
       "      <th>admin1</th>\n",
       "      <th>country_new</th>\n",
       "      <th>admin_id</th>\n",
       "      <th>data_moderator_initials</th>\n",
       "      <th>travel_history_binary</th>\n",
       "    </tr>\n",
       "  </thead>\n",
       "  <tbody>\n",
       "    <tr>\n",
       "      <th>117766</th>\n",
       "      <td>005-9935</td>\n",
       "      <td>NaN</td>\n",
       "      <td>NaN</td>\n",
       "      <td>Vancouver Island</td>\n",
       "      <td>British Columbia</td>\n",
       "      <td>Canada</td>\n",
       "      <td>NaN</td>\n",
       "      <td>NaN</td>\n",
       "      <td>NaN</td>\n",
       "      <td>NaN</td>\n",
       "      <td>...</td>\n",
       "      <td>NaN</td>\n",
       "      <td>NaN</td>\n",
       "      <td>NaN</td>\n",
       "      <td>NaN</td>\n",
       "      <td>NaN</td>\n",
       "      <td>NaN</td>\n",
       "      <td>NaN</td>\n",
       "      <td>#REF!</td>\n",
       "      <td>NaN</td>\n",
       "      <td>NaN</td>\n",
       "    </tr>\n",
       "    <tr>\n",
       "      <th>117767</th>\n",
       "      <td>005-9936</td>\n",
       "      <td>NaN</td>\n",
       "      <td>NaN</td>\n",
       "      <td>Northern Health Region</td>\n",
       "      <td>British Columbia</td>\n",
       "      <td>Canada</td>\n",
       "      <td>NaN</td>\n",
       "      <td>NaN</td>\n",
       "      <td>NaN</td>\n",
       "      <td>NaN</td>\n",
       "      <td>...</td>\n",
       "      <td>NaN</td>\n",
       "      <td>NaN</td>\n",
       "      <td>NaN</td>\n",
       "      <td>NaN</td>\n",
       "      <td>NaN</td>\n",
       "      <td>NaN</td>\n",
       "      <td>NaN</td>\n",
       "      <td>#REF!</td>\n",
       "      <td>NaN</td>\n",
       "      <td>NaN</td>\n",
       "    </tr>\n",
       "    <tr>\n",
       "      <th>117768</th>\n",
       "      <td>005-9937</td>\n",
       "      <td>NaN</td>\n",
       "      <td>NaN</td>\n",
       "      <td>Northern Health Region</td>\n",
       "      <td>British Columbia</td>\n",
       "      <td>Canada</td>\n",
       "      <td>NaN</td>\n",
       "      <td>NaN</td>\n",
       "      <td>NaN</td>\n",
       "      <td>NaN</td>\n",
       "      <td>...</td>\n",
       "      <td>NaN</td>\n",
       "      <td>NaN</td>\n",
       "      <td>NaN</td>\n",
       "      <td>NaN</td>\n",
       "      <td>NaN</td>\n",
       "      <td>NaN</td>\n",
       "      <td>NaN</td>\n",
       "      <td>#REF!</td>\n",
       "      <td>NaN</td>\n",
       "      <td>NaN</td>\n",
       "    </tr>\n",
       "    <tr>\n",
       "      <th>117769</th>\n",
       "      <td>005-9961</td>\n",
       "      <td>NaN</td>\n",
       "      <td>NaN</td>\n",
       "      <td>Northern Health Region</td>\n",
       "      <td>British Columbia</td>\n",
       "      <td>Canada</td>\n",
       "      <td>NaN</td>\n",
       "      <td>NaN</td>\n",
       "      <td>NaN</td>\n",
       "      <td>NaN</td>\n",
       "      <td>...</td>\n",
       "      <td>NaN</td>\n",
       "      <td>NaN</td>\n",
       "      <td>NaN</td>\n",
       "      <td>NaN</td>\n",
       "      <td>NaN</td>\n",
       "      <td>NaN</td>\n",
       "      <td>NaN</td>\n",
       "      <td>#REF!</td>\n",
       "      <td>NaN</td>\n",
       "      <td>NaN</td>\n",
       "    </tr>\n",
       "    <tr>\n",
       "      <th>117770</th>\n",
       "      <td>005-9962</td>\n",
       "      <td>NaN</td>\n",
       "      <td>NaN</td>\n",
       "      <td>Northern Health Region</td>\n",
       "      <td>British Columbia</td>\n",
       "      <td>Canada</td>\n",
       "      <td>NaN</td>\n",
       "      <td>NaN</td>\n",
       "      <td>NaN</td>\n",
       "      <td>NaN</td>\n",
       "      <td>...</td>\n",
       "      <td>NaN</td>\n",
       "      <td>NaN</td>\n",
       "      <td>NaN</td>\n",
       "      <td>NaN</td>\n",
       "      <td>NaN</td>\n",
       "      <td>NaN</td>\n",
       "      <td>NaN</td>\n",
       "      <td>#REF!</td>\n",
       "      <td>NaN</td>\n",
       "      <td>NaN</td>\n",
       "    </tr>\n",
       "  </tbody>\n",
       "</table>\n",
       "<p>5 rows × 34 columns</p>\n",
       "</div>"
      ],
      "text/plain": [
       "              ID  age  sex                    city          province country  \\\n",
       "117766  005-9935  NaN  NaN        Vancouver Island  British Columbia  Canada   \n",
       "117767  005-9936  NaN  NaN  Northern Health Region  British Columbia  Canada   \n",
       "117768  005-9937  NaN  NaN  Northern Health Region  British Columbia  Canada   \n",
       "117769  005-9961  NaN  NaN  Northern Health Region  British Columbia  Canada   \n",
       "117770  005-9962  NaN  NaN  Northern Health Region  British Columbia  Canada   \n",
       "\n",
       "        wuhan(0)_not_wuhan(1)  latitude  longitude geo_resolution  ...  \\\n",
       "117766                    NaN       NaN        NaN            NaN  ...   \n",
       "117767                    NaN       NaN        NaN            NaN  ...   \n",
       "117768                    NaN       NaN        NaN            NaN  ...   \n",
       "117769                    NaN       NaN        NaN            NaN  ...   \n",
       "117770                    NaN       NaN        NaN            NaN  ...   \n",
       "\n",
       "       date_death_or_discharge notes_for_discussion location admin3 admin2  \\\n",
       "117766                     NaN                  NaN      NaN    NaN    NaN   \n",
       "117767                     NaN                  NaN      NaN    NaN    NaN   \n",
       "117768                     NaN                  NaN      NaN    NaN    NaN   \n",
       "117769                     NaN                  NaN      NaN    NaN    NaN   \n",
       "117770                     NaN                  NaN      NaN    NaN    NaN   \n",
       "\n",
       "       admin1 country_new admin_id data_moderator_initials  \\\n",
       "117766    NaN         NaN    #REF!                     NaN   \n",
       "117767    NaN         NaN    #REF!                     NaN   \n",
       "117768    NaN         NaN    #REF!                     NaN   \n",
       "117769    NaN         NaN    #REF!                     NaN   \n",
       "117770    NaN         NaN    #REF!                     NaN   \n",
       "\n",
       "       travel_history_binary  \n",
       "117766                   NaN  \n",
       "117767                   NaN  \n",
       "117768                   NaN  \n",
       "117769                   NaN  \n",
       "117770                   NaN  \n",
       "\n",
       "[5 rows x 34 columns]"
      ]
     },
     "execution_count": 115,
     "metadata": {},
     "output_type": "execute_result"
    }
   ],
   "source": [
    "dataset.tail()"
   ]
  },
  {
   "cell_type": "code",
   "execution_count": 116,
   "metadata": {},
   "outputs": [
    {
     "data": {
      "text/plain": [
       "(117771, 34)"
      ]
     },
     "execution_count": 116,
     "metadata": {},
     "output_type": "execute_result"
    }
   ],
   "source": [
    "dataset.shape"
   ]
  },
  {
   "cell_type": "code",
   "execution_count": 117,
   "metadata": {},
   "outputs": [
    {
     "data": {
      "text/html": [
       "<div>\n",
       "<style scoped>\n",
       "    .dataframe tbody tr th:only-of-type {\n",
       "        vertical-align: middle;\n",
       "    }\n",
       "\n",
       "    .dataframe tbody tr th {\n",
       "        vertical-align: top;\n",
       "    }\n",
       "\n",
       "    .dataframe thead th {\n",
       "        text-align: right;\n",
       "    }\n",
       "</style>\n",
       "<table border=\"1\" class=\"dataframe\">\n",
       "  <thead>\n",
       "    <tr style=\"text-align: right;\">\n",
       "      <th></th>\n",
       "      <th>wuhan(0)_not_wuhan(1)</th>\n",
       "      <th>latitude</th>\n",
       "      <th>longitude</th>\n",
       "      <th>travel_history_binary</th>\n",
       "    </tr>\n",
       "  </thead>\n",
       "  <tbody>\n",
       "    <tr>\n",
       "      <th>count</th>\n",
       "      <td>64744.000000</td>\n",
       "      <td>114439.000000</td>\n",
       "      <td>114439.000000</td>\n",
       "      <td>601.000000</td>\n",
       "    </tr>\n",
       "    <tr>\n",
       "      <th>mean</th>\n",
       "      <td>0.788969</td>\n",
       "      <td>39.371498</td>\n",
       "      <td>29.298211</td>\n",
       "      <td>0.748752</td>\n",
       "    </tr>\n",
       "    <tr>\n",
       "      <th>std</th>\n",
       "      <td>0.408044</td>\n",
       "      <td>13.161748</td>\n",
       "      <td>67.405370</td>\n",
       "      <td>0.434092</td>\n",
       "    </tr>\n",
       "    <tr>\n",
       "      <th>min</th>\n",
       "      <td>0.000000</td>\n",
       "      <td>-54.000000</td>\n",
       "      <td>-159.602502</td>\n",
       "      <td>0.000000</td>\n",
       "    </tr>\n",
       "    <tr>\n",
       "      <th>25%</th>\n",
       "      <td>1.000000</td>\n",
       "      <td>31.069880</td>\n",
       "      <td>-2.952140</td>\n",
       "      <td>0.000000</td>\n",
       "    </tr>\n",
       "    <tr>\n",
       "      <th>50%</th>\n",
       "      <td>1.000000</td>\n",
       "      <td>40.661000</td>\n",
       "      <td>5.009932</td>\n",
       "      <td>1.000000</td>\n",
       "    </tr>\n",
       "    <tr>\n",
       "      <th>75%</th>\n",
       "      <td>1.000000</td>\n",
       "      <td>48.711140</td>\n",
       "      <td>113.613600</td>\n",
       "      <td>1.000000</td>\n",
       "    </tr>\n",
       "    <tr>\n",
       "      <th>max</th>\n",
       "      <td>1.000000</td>\n",
       "      <td>69.817800</td>\n",
       "      <td>174.740000</td>\n",
       "      <td>1.000000</td>\n",
       "    </tr>\n",
       "  </tbody>\n",
       "</table>\n",
       "</div>"
      ],
      "text/plain": [
       "       wuhan(0)_not_wuhan(1)       latitude      longitude  \\\n",
       "count           64744.000000  114439.000000  114439.000000   \n",
       "mean                0.788969      39.371498      29.298211   \n",
       "std                 0.408044      13.161748      67.405370   \n",
       "min                 0.000000     -54.000000    -159.602502   \n",
       "25%                 1.000000      31.069880      -2.952140   \n",
       "50%                 1.000000      40.661000       5.009932   \n",
       "75%                 1.000000      48.711140     113.613600   \n",
       "max                 1.000000      69.817800     174.740000   \n",
       "\n",
       "       travel_history_binary  \n",
       "count             601.000000  \n",
       "mean                0.748752  \n",
       "std                 0.434092  \n",
       "min                 0.000000  \n",
       "25%                 0.000000  \n",
       "50%                 1.000000  \n",
       "75%                 1.000000  \n",
       "max                 1.000000  "
      ]
     },
     "execution_count": 117,
     "metadata": {},
     "output_type": "execute_result"
    }
   ],
   "source": [
    "dataset.describe()"
   ]
  },
  {
   "cell_type": "code",
   "execution_count": 118,
   "metadata": {},
   "outputs": [
    {
     "name": "stdout",
     "output_type": "stream",
     "text": [
      "<class 'pandas.core.frame.DataFrame'>\n",
      "RangeIndex: 117771 entries, 0 to 117770\n",
      "Data columns (total 34 columns):\n",
      " #   Column                    Non-Null Count   Dtype  \n",
      "---  ------                    --------------   -----  \n",
      " 0   ID                        117771 non-null  object \n",
      " 1   age                       4210 non-null    object \n",
      " 2   sex                       4500 non-null    object \n",
      " 3   city                      53125 non-null   object \n",
      " 4   province                  108377 non-null  object \n",
      " 5   country                   117741 non-null  object \n",
      " 6   wuhan(0)_not_wuhan(1)     64744 non-null   float64\n",
      " 7   latitude                  114439 non-null  float64\n",
      " 8   longitude                 114439 non-null  float64\n",
      " 9   geo_resolution            114439 non-null  object \n",
      " 10  date_onset_symptoms       1078 non-null    object \n",
      " 11  date_admission_hospital   966 non-null     object \n",
      " 12  date_confirmation         116549 non-null  object \n",
      " 13  symptoms                  1048 non-null    object \n",
      " 14  lives_in_Wuhan            1894 non-null    object \n",
      " 15  travel_history_dates      758 non-null     object \n",
      " 16  travel_history_location   2421 non-null    object \n",
      " 17  reported_market_exposure  1128 non-null    object \n",
      " 18  additional_information    3989 non-null    object \n",
      " 19  chronic_disease_binary    440 non-null     object \n",
      " 20  chronic_disease           42 non-null      object \n",
      " 21  source                    108191 non-null  object \n",
      " 22  sequence_available        1111 non-null    object \n",
      " 23  outcome                   310 non-null     object \n",
      " 24  date_death_or_discharge   210 non-null     object \n",
      " 25  notes_for_discussion      297 non-null     object \n",
      " 26  location                  2430 non-null    object \n",
      " 27  admin3                    4226 non-null    object \n",
      " 28  admin2                    37749 non-null   object \n",
      " 29  admin1                    56065 non-null   object \n",
      " 30  country_new               63222 non-null   object \n",
      " 31  admin_id                  57416 non-null   object \n",
      " 32  data_moderator_initials   31582 non-null   object \n",
      " 33  travel_history_binary     601 non-null     float64\n",
      "dtypes: float64(4), object(30)\n",
      "memory usage: 30.5+ MB\n"
     ]
    }
   ],
   "source": [
    "dataset.info()"
   ]
  },
  {
   "cell_type": "code",
   "execution_count": 26,
   "metadata": {},
   "outputs": [],
   "source": [
    "# Matplot:  Use for Data Visualization\n",
    "\n",
    "import numpy as np\n",
    "from matplotlib import pyplot as plt "
   ]
  },
  {
   "cell_type": "code",
   "execution_count": 28,
   "metadata": {},
   "outputs": [
    {
     "data": {
      "text/plain": [
       "array([ 1,  2,  3,  4,  5,  6,  7,  8,  9, 10])"
      ]
     },
     "execution_count": 28,
     "metadata": {},
     "output_type": "execute_result"
    }
   ],
   "source": [
    "x = np.arange(1,11)\n",
    "x"
   ]
  },
  {
   "cell_type": "code",
   "execution_count": 29,
   "metadata": {},
   "outputs": [],
   "source": [
    "y = 2*x"
   ]
  },
  {
   "cell_type": "code",
   "execution_count": 30,
   "metadata": {},
   "outputs": [
    {
     "data": {
      "image/png": "[encoded data removed]",
      "text/plain": [
       "<Figure size 432x288 with 1 Axes>"
      ]
     },
     "metadata": {
      "needs_background": "light"
     },
     "output_type": "display_data"
    }
   ],
   "source": [
    "plt.plot(x,y)\n",
    "plt.show()"
   ]
  }
 ],
 "metadata": {
  "kernelspec": {
   "display_name": "Python 3",
   "language": "python",
   "name": "python3"
  },
  "language_info": {
   "codemirror_mode": {
    "name": "ipython",
    "version": 3
   },
   "file_extension": ".py",
   "mimetype": "text/x-python",
   "name": "python",
   "nbconvert_exporter": "python",
   "pygments_lexer": "ipython3",
   "version": "3.8.5"
  }
 },
 "nbformat": 4,
 "nbformat_minor": 4
}
